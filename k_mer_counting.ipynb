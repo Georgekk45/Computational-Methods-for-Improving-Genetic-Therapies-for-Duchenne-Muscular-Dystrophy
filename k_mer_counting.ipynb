{
 "cells": [
  {
   "cell_type": "code",
   "execution_count": 304,
   "metadata": {
    "id": "8ZXjCdrFxpsQ"
   },
   "outputs": [],
   "source": [
    "# Import required libraries\n",
    "import numpy as np\n",
    "import pandas as pd \n",
    "import seaborn as sns\n",
    "import sklearn.metrics as metrics\n",
    "import matplotlib.pyplot as plt \n",
    "from sklearn.feature_extraction.text import CountVectorizer"
   ]
  },
  {
   "cell_type": "code",
   "execution_count": 305,
   "metadata": {
    "id": "wCYAUlmSxpsW"
   },
   "outputs": [],
   "source": [
    "# Read HBB and HEXA file\n",
    "df5 = pd.read_excel(\"/home/kargas/D/dataset.xlsx\")\n",
    "df5 = df5.drop('Spacer sequence', axis=1)\n",
    "df5.rename(columns={\"3' extension\":\"3extension\"}, inplace=True)"
   ]
  },
  {
   "cell_type": "code",
   "execution_count": 306,
   "metadata": {
    "id": "o_fmNbWZ8D5b"
   },
   "outputs": [],
   "source": [
    "# Creating the Bag of Words model using CountVectorizer()\n",
    "# This is equivalent to k-mer counting\n",
    "cv = CountVectorizer(ngram_range=(3,3), analyzer='char')\n",
    "X = cv.fit_transform(df5['3extension'])"
   ]
  },
  {
   "cell_type": "code",
   "execution_count": 307,
   "metadata": {
    "colab": {
     "base_uri": "https://localhost:8080/"
    },
    "id": "KBb6QsWxAnpX",
    "outputId": "8709bf53-9052-479b-9b49-f72ed9ce3f69"
   },
   "outputs": [
    {
     "name": "stdout",
     "output_type": "stream",
     "text": [
      "['aac', 'aag', 'acc', 'acg', 'act', 'aga', 'agg', 'agt', 'ata', 'atc', 'atg', 'cac', 'cag', 'ccc', 'ccg', 'cct', 'cgg', 'cgt', 'cta', 'ctc', 'ctg', 'ctt', 'gaa', 'gac', 'gag', 'gca', 'gcc', 'gga', 'ggc', 'ggt', 'gta', 'gtc', 'gtg', 'taa', 'tac', 'tat', 'tca', 'tcc', 'tct', 'tga', 'tgc', 'tgg', 'tta', 'ttc']\n"
     ]
    }
   ],
   "source": [
    "print(cv.get_feature_names())"
   ]
  },
  {
   "cell_type": "code",
   "execution_count": 308,
   "metadata": {
    "colab": {
     "base_uri": "https://localhost:8080/"
    },
    "id": "NqKe69kOAuct",
    "outputId": "77d086ea-9ca3-4ba0-de77-82375bcec3e1"
   },
   "outputs": [
    {
     "name": "stdout",
     "output_type": "stream",
     "text": [
      "Vocabulary: \n",
      "{'ata': 8, 'tat': 35, 'atc': 9, 'tct': 38, 'ctt': 21, 'tta': 42, 'atg': 10, 'tgg': 41, 'ggc': 28, 'gcc': 26, 'ccc': 13, 'cct': 15, 'ctg': 20, 'tga': 39, 'gac': 23, 'act': 4, 'gga': 27, 'gaa': 22, 'gta': 30, 'acc': 2, 'ccg': 14, 'cgt': 17, 'aac': 0, 'aag': 1, 'agg': 6, 'tac': 34, 'ggt': 29, 'tcc': 37, 'cta': 18, 'ctc': 19, 'gag': 24, 'aga': 5, 'agt': 7, 'gtc': 31, 'tgc': 40, 'ttc': 43, 'tca': 36, 'cag': 12, 'gtg': 32, 'gca': 25, 'cac': 11, 'taa': 33, 'acg': 3, 'cgg': 16}\n",
      "\n"
     ]
    }
   ],
   "source": [
    "# Print the vocabulary\n",
    "print('Vocabulary: ')\n",
    "print(cv.vocabulary_)\n",
    "print()"
   ]
  },
  {
   "cell_type": "code",
   "execution_count": 309,
   "metadata": {
    "id": "lBgElB2vJ8zY"
   },
   "outputs": [],
   "source": [
    "# Convert sparse csr matrix to dense format and allow columns to contain the array mapping from feature integer indices to feature names\n",
    "count_vect_df = pd.DataFrame(X.todense(), columns=cv.get_feature_names())"
   ]
  },
  {
   "cell_type": "code",
   "execution_count": 310,
   "metadata": {
    "id": "5wXHi0UvAufA"
   },
   "outputs": [],
   "source": [
    "# Concatenate the original dataframe and the count_vect_df columnwise\n",
    "df5 = pd.concat([df5, count_vect_df], axis=1)"
   ]
  },
  {
   "cell_type": "code",
   "execution_count": 312,
   "metadata": {
    "id": "4nwi57bpAuh3"
   },
   "outputs": [],
   "source": [
    "# Target variable\n",
    "y = df5['Mean of correct edit']"
   ]
  },
  {
   "cell_type": "code",
   "execution_count": 313,
   "metadata": {
    "id": "AhLwFG-IAukZ"
   },
   "outputs": [],
   "source": [
    "# Drop the column that will be predicted and assign the features to variable\n",
    "X = df5.drop(['pegRNA', '3extension', 'Mean of correct edit'], axis = 1)"
   ]
  },
  {
   "cell_type": "code",
   "execution_count": 314,
   "metadata": {
    "id": "tY0CkbZ-8EMZ"
   },
   "outputs": [],
   "source": [
    "# Import the Random Forest Regressor model\n",
    "from sklearn.ensemble import RandomForestRegressor"
   ]
  },
  {
   "cell_type": "code",
   "execution_count": 315,
   "metadata": {
    "id": "tL8xaB3QLRFh"
   },
   "outputs": [],
   "source": [
    "# Splitting the dataset into the training set and test set\n",
    "from sklearn.model_selection import train_test_split\n",
    "X_train, X_test, y_train, y_test = train_test_split(X, y, test_size = 0.3, random_state=42)"
   ]
  },
  {
   "cell_type": "code",
   "execution_count": 316,
   "metadata": {
    "colab": {
     "base_uri": "https://localhost:8080/"
    },
    "id": "_cDJim7HLt61",
    "outputId": "5dce1e0d-30d8-4d2c-f73f-17fcd1300940"
   },
   "outputs": [
    {
     "name": "stdout",
     "output_type": "stream",
     "text": [
      "(39, 46)\n",
      "(18, 46)\n"
     ]
    }
   ],
   "source": [
    "print(X_train.shape)\n",
    "print(X_test.shape)"
   ]
  },
  {
   "cell_type": "code",
   "execution_count": 317,
   "metadata": {
    "colab": {
     "base_uri": "https://localhost:8080/"
    },
    "id": "o_ys2oMNLuRK",
    "outputId": "dc44ead2-437d-43bc-d20d-b87851324d52"
   },
   "outputs": [
    {
     "name": "stdout",
     "output_type": "stream",
     "text": [
      "(39,)\n",
      "(18,)\n"
     ]
    }
   ],
   "source": [
    "print(y_train.shape)\n",
    "print(y_test.shape)"
   ]
  },
  {
   "cell_type": "code",
   "execution_count": 227,
   "metadata": {
    "colab": {
     "base_uri": "https://localhost:8080/"
    },
    "id": "jMPuXZlXLuTU",
    "outputId": "ef5f99c8-351f-490e-b2ca-cc14ff043ad6"
   },
   "outputs": [
    {
     "data": {
      "text/plain": [
       "GridSearchCV(cv=10, estimator=RandomForestRegressor(n_jobs=7, random_state=42),\n",
       "             param_grid={'max_depth': [5, 10, 20, 30],\n",
       "                         'min_samples_leaf': [1, 2, 4],\n",
       "                         'n_estimators': [10, 25, 50, 100, 1000]},\n",
       "             scoring='neg_mean_squared_error')"
      ]
     },
     "execution_count": 227,
     "metadata": {},
     "output_type": "execute_result"
    }
   ],
   "source": [
    "# Grid search the Random Forest Regressor\n",
    "from sklearn.model_selection import GridSearchCV\n",
    "\n",
    "# Setting the static parameters\n",
    "rfr = RandomForestRegressor(bootstrap=True, random_state=42, n_jobs=7)\n",
    "\n",
    "param_grid = dict(n_estimators=[10, 25, 50, 100, 1000],\n",
    "                  max_depth=[5, 10, 20, 30],\n",
    "                  min_samples_leaf=[1,2,4])\n",
    "\n",
    "grid = GridSearchCV(rfr, param_grid, cv=10,\n",
    "                    scoring='neg_mean_squared_error')\n",
    "grid.fit(X_train,y_train)"
   ]
  },
  {
   "cell_type": "code",
   "execution_count": 228,
   "metadata": {
    "colab": {
     "base_uri": "https://localhost:8080/"
    },
    "id": "-L6ls1etLuVf",
    "outputId": "ac63bafd-8508-491a-dc66-4fd9b31664c7"
   },
   "outputs": [
    {
     "name": "stdout",
     "output_type": "stream",
     "text": [
      "grid.cv_results_ {'mean_fit_time': array([0.12463112, 0.07253141, 0.10366592, 0.14999108, 0.97920547,\n",
      "       0.0346015 , 0.07394829, 0.11610303, 0.15042763, 0.98279836,\n",
      "       0.04302967, 0.07481318, 0.10801034, 0.14933031, 0.96823561,\n",
      "       0.04545033, 0.07898946, 0.11146545, 0.15363224, 0.9826067 ,\n",
      "       0.04157143, 0.07846863, 0.11358545, 0.16034601, 0.95718281,\n",
      "       0.04779823, 0.07516367, 0.11140878, 0.15930786, 0.93888125,\n",
      "       0.04347451, 0.07673059, 0.11855297, 0.14848857, 0.9716327 ,\n",
      "       0.04684811, 0.07258337, 0.11499126, 0.14490662, 0.9237179 ,\n",
      "       0.0425796 , 0.07884119, 0.10679483, 0.15609593, 0.91978731,\n",
      "       0.04268093, 0.07488394, 0.10995338, 0.14987173, 0.96735435,\n",
      "       0.04265113, 0.07095132, 0.10957475, 0.15619984, 0.94978542,\n",
      "       0.03629506, 0.07367566, 0.10757513, 0.14846447, 0.93551953]), 'std_fit_time': array([0.25955994, 0.012552  , 0.01170685, 0.01386467, 0.05884535,\n",
      "       0.00830686, 0.01561255, 0.0110974 , 0.01187331, 0.03966606,\n",
      "       0.01174243, 0.00602866, 0.01266856, 0.01571019, 0.02227686,\n",
      "       0.01474086, 0.01893385, 0.01430847, 0.01666025, 0.04657336,\n",
      "       0.01015882, 0.00969494, 0.01350725, 0.01595778, 0.05557994,\n",
      "       0.02197419, 0.00922545, 0.01006857, 0.02153   , 0.03671472,\n",
      "       0.01107923, 0.01371031, 0.01281661, 0.01702701, 0.04663306,\n",
      "       0.01133411, 0.01143307, 0.01378309, 0.01202284, 0.06093874,\n",
      "       0.01080718, 0.01402462, 0.0122637 , 0.03602481, 0.0414632 ,\n",
      "       0.0111162 , 0.0090033 , 0.01983605, 0.01345131, 0.0252372 ,\n",
      "       0.01008402, 0.00696293, 0.00763577, 0.01640523, 0.06115508,\n",
      "       0.00931946, 0.00848562, 0.00941588, 0.01306385, 0.02939564]), 'mean_score_time': array([0.1106173 , 0.10827901, 0.10794621, 0.10870488, 0.20942581,\n",
      "       0.10916643, 0.1090282 , 0.10955124, 0.10859632, 0.20792234,\n",
      "       0.10989761, 0.10702426, 0.10821054, 0.10877948, 0.20933261,\n",
      "       0.11087554, 0.10856607, 0.11198971, 0.10927191, 0.23078787,\n",
      "       0.10949192, 0.11066468, 0.10866048, 0.10969367, 0.21981514,\n",
      "       0.11168678, 0.10790884, 0.10776711, 0.11021087, 0.21006765,\n",
      "       0.10775917, 0.1084234 , 0.10994258, 0.10915241, 0.2325809 ,\n",
      "       0.10889328, 0.1076735 , 0.10859997, 0.10981295, 0.20916452,\n",
      "       0.10730193, 0.10831215, 0.10846553, 0.10755634, 0.20923619,\n",
      "       0.10761974, 0.11052051, 0.10756159, 0.10953   , 0.25096238,\n",
      "       0.11172247, 0.10714808, 0.10914533, 0.10954938, 0.21042132,\n",
      "       0.10884686, 0.10897448, 0.10893428, 0.10849714, 0.20888727]), 'std_score_time': array([0.00259634, 0.00236178, 0.00240717, 0.00189784, 0.00238979,\n",
      "       0.00447266, 0.00265715, 0.00417855, 0.00248784, 0.00168788,\n",
      "       0.00736124, 0.00102601, 0.00243757, 0.00192052, 0.00316196,\n",
      "       0.00701899, 0.00187315, 0.00662666, 0.00203728, 0.03941682,\n",
      "       0.00348487, 0.00377576, 0.0037744 , 0.00342452, 0.03112683,\n",
      "       0.007231  , 0.00166475, 0.00192543, 0.00564199, 0.00265654,\n",
      "       0.00274358, 0.00303587, 0.0017231 , 0.00512594, 0.04302455,\n",
      "       0.00233202, 0.0017094 , 0.00196465, 0.00299863, 0.00189915,\n",
      "       0.00241661, 0.00258695, 0.00139386, 0.00140243, 0.00172458,\n",
      "       0.00235633, 0.00674991, 0.00137541, 0.00244133, 0.05005522,\n",
      "       0.00968251, 0.00128235, 0.00267859, 0.00352277, 0.00323508,\n",
      "       0.00376415, 0.00238182, 0.00309941, 0.00155733, 0.0021654 ]), 'param_max_depth': masked_array(data=[5, 5, 5, 5, 5, 5, 5, 5, 5, 5, 5, 5, 5, 5, 5, 10, 10,\n",
      "                   10, 10, 10, 10, 10, 10, 10, 10, 10, 10, 10, 10, 10, 20,\n",
      "                   20, 20, 20, 20, 20, 20, 20, 20, 20, 20, 20, 20, 20, 20,\n",
      "                   30, 30, 30, 30, 30, 30, 30, 30, 30, 30, 30, 30, 30, 30,\n",
      "                   30],\n",
      "             mask=[False, False, False, False, False, False, False, False,\n",
      "                   False, False, False, False, False, False, False, False,\n",
      "                   False, False, False, False, False, False, False, False,\n",
      "                   False, False, False, False, False, False, False, False,\n",
      "                   False, False, False, False, False, False, False, False,\n",
      "                   False, False, False, False, False, False, False, False,\n",
      "                   False, False, False, False, False, False, False, False,\n",
      "                   False, False, False, False],\n",
      "       fill_value='?',\n",
      "            dtype=object), 'param_min_samples_leaf': masked_array(data=[1, 1, 1, 1, 1, 2, 2, 2, 2, 2, 4, 4, 4, 4, 4, 1, 1, 1,\n",
      "                   1, 1, 2, 2, 2, 2, 2, 4, 4, 4, 4, 4, 1, 1, 1, 1, 1, 2,\n",
      "                   2, 2, 2, 2, 4, 4, 4, 4, 4, 1, 1, 1, 1, 1, 2, 2, 2, 2,\n",
      "                   2, 4, 4, 4, 4, 4],\n",
      "             mask=[False, False, False, False, False, False, False, False,\n",
      "                   False, False, False, False, False, False, False, False,\n",
      "                   False, False, False, False, False, False, False, False,\n",
      "                   False, False, False, False, False, False, False, False,\n",
      "                   False, False, False, False, False, False, False, False,\n",
      "                   False, False, False, False, False, False, False, False,\n",
      "                   False, False, False, False, False, False, False, False,\n",
      "                   False, False, False, False],\n",
      "       fill_value='?',\n",
      "            dtype=object), 'param_n_estimators': masked_array(data=[10, 25, 50, 100, 1000, 10, 25, 50, 100, 1000, 10, 25,\n",
      "                   50, 100, 1000, 10, 25, 50, 100, 1000, 10, 25, 50, 100,\n",
      "                   1000, 10, 25, 50, 100, 1000, 10, 25, 50, 100, 1000, 10,\n",
      "                   25, 50, 100, 1000, 10, 25, 50, 100, 1000, 10, 25, 50,\n",
      "                   100, 1000, 10, 25, 50, 100, 1000, 10, 25, 50, 100,\n",
      "                   1000],\n",
      "             mask=[False, False, False, False, False, False, False, False,\n",
      "                   False, False, False, False, False, False, False, False,\n",
      "                   False, False, False, False, False, False, False, False,\n",
      "                   False, False, False, False, False, False, False, False,\n",
      "                   False, False, False, False, False, False, False, False,\n",
      "                   False, False, False, False, False, False, False, False,\n",
      "                   False, False, False, False, False, False, False, False,\n",
      "                   False, False, False, False],\n",
      "       fill_value='?',\n",
      "            dtype=object), 'params': [{'max_depth': 5, 'min_samples_leaf': 1, 'n_estimators': 10}, {'max_depth': 5, 'min_samples_leaf': 1, 'n_estimators': 25}, {'max_depth': 5, 'min_samples_leaf': 1, 'n_estimators': 50}, {'max_depth': 5, 'min_samples_leaf': 1, 'n_estimators': 100}, {'max_depth': 5, 'min_samples_leaf': 1, 'n_estimators': 1000}, {'max_depth': 5, 'min_samples_leaf': 2, 'n_estimators': 10}, {'max_depth': 5, 'min_samples_leaf': 2, 'n_estimators': 25}, {'max_depth': 5, 'min_samples_leaf': 2, 'n_estimators': 50}, {'max_depth': 5, 'min_samples_leaf': 2, 'n_estimators': 100}, {'max_depth': 5, 'min_samples_leaf': 2, 'n_estimators': 1000}, {'max_depth': 5, 'min_samples_leaf': 4, 'n_estimators': 10}, {'max_depth': 5, 'min_samples_leaf': 4, 'n_estimators': 25}, {'max_depth': 5, 'min_samples_leaf': 4, 'n_estimators': 50}, {'max_depth': 5, 'min_samples_leaf': 4, 'n_estimators': 100}, {'max_depth': 5, 'min_samples_leaf': 4, 'n_estimators': 1000}, {'max_depth': 10, 'min_samples_leaf': 1, 'n_estimators': 10}, {'max_depth': 10, 'min_samples_leaf': 1, 'n_estimators': 25}, {'max_depth': 10, 'min_samples_leaf': 1, 'n_estimators': 50}, {'max_depth': 10, 'min_samples_leaf': 1, 'n_estimators': 100}, {'max_depth': 10, 'min_samples_leaf': 1, 'n_estimators': 1000}, {'max_depth': 10, 'min_samples_leaf': 2, 'n_estimators': 10}, {'max_depth': 10, 'min_samples_leaf': 2, 'n_estimators': 25}, {'max_depth': 10, 'min_samples_leaf': 2, 'n_estimators': 50}, {'max_depth': 10, 'min_samples_leaf': 2, 'n_estimators': 100}, {'max_depth': 10, 'min_samples_leaf': 2, 'n_estimators': 1000}, {'max_depth': 10, 'min_samples_leaf': 4, 'n_estimators': 10}, {'max_depth': 10, 'min_samples_leaf': 4, 'n_estimators': 25}, {'max_depth': 10, 'min_samples_leaf': 4, 'n_estimators': 50}, {'max_depth': 10, 'min_samples_leaf': 4, 'n_estimators': 100}, {'max_depth': 10, 'min_samples_leaf': 4, 'n_estimators': 1000}, {'max_depth': 20, 'min_samples_leaf': 1, 'n_estimators': 10}, {'max_depth': 20, 'min_samples_leaf': 1, 'n_estimators': 25}, {'max_depth': 20, 'min_samples_leaf': 1, 'n_estimators': 50}, {'max_depth': 20, 'min_samples_leaf': 1, 'n_estimators': 100}, {'max_depth': 20, 'min_samples_leaf': 1, 'n_estimators': 1000}, {'max_depth': 20, 'min_samples_leaf': 2, 'n_estimators': 10}, {'max_depth': 20, 'min_samples_leaf': 2, 'n_estimators': 25}, {'max_depth': 20, 'min_samples_leaf': 2, 'n_estimators': 50}, {'max_depth': 20, 'min_samples_leaf': 2, 'n_estimators': 100}, {'max_depth': 20, 'min_samples_leaf': 2, 'n_estimators': 1000}, {'max_depth': 20, 'min_samples_leaf': 4, 'n_estimators': 10}, {'max_depth': 20, 'min_samples_leaf': 4, 'n_estimators': 25}, {'max_depth': 20, 'min_samples_leaf': 4, 'n_estimators': 50}, {'max_depth': 20, 'min_samples_leaf': 4, 'n_estimators': 100}, {'max_depth': 20, 'min_samples_leaf': 4, 'n_estimators': 1000}, {'max_depth': 30, 'min_samples_leaf': 1, 'n_estimators': 10}, {'max_depth': 30, 'min_samples_leaf': 1, 'n_estimators': 25}, {'max_depth': 30, 'min_samples_leaf': 1, 'n_estimators': 50}, {'max_depth': 30, 'min_samples_leaf': 1, 'n_estimators': 100}, {'max_depth': 30, 'min_samples_leaf': 1, 'n_estimators': 1000}, {'max_depth': 30, 'min_samples_leaf': 2, 'n_estimators': 10}, {'max_depth': 30, 'min_samples_leaf': 2, 'n_estimators': 25}, {'max_depth': 30, 'min_samples_leaf': 2, 'n_estimators': 50}, {'max_depth': 30, 'min_samples_leaf': 2, 'n_estimators': 100}, {'max_depth': 30, 'min_samples_leaf': 2, 'n_estimators': 1000}, {'max_depth': 30, 'min_samples_leaf': 4, 'n_estimators': 10}, {'max_depth': 30, 'min_samples_leaf': 4, 'n_estimators': 25}, {'max_depth': 30, 'min_samples_leaf': 4, 'n_estimators': 50}, {'max_depth': 30, 'min_samples_leaf': 4, 'n_estimators': 100}, {'max_depth': 30, 'min_samples_leaf': 4, 'n_estimators': 1000}], 'split0_test_score': array([-24.07597279, -20.98111527, -13.84308084,  -8.42827344,\n",
      "        -5.74456515, -30.28967242, -25.92751922, -24.22411473,\n",
      "       -19.08452568, -15.84326476, -39.81794895, -28.30036345,\n",
      "       -30.98828036, -26.30276401, -23.33066258, -16.16839138,\n",
      "       -16.91586663, -11.80589605,  -8.10874099,  -6.26355436,\n",
      "       -34.47236976, -28.01641761, -25.2012299 , -19.70528032,\n",
      "       -15.78422166, -39.81794895, -28.30036345, -30.98828036,\n",
      "       -26.30276401, -23.33066258, -16.16839138, -16.91586663,\n",
      "       -11.80589605,  -8.10874099,  -6.26293216, -34.47236976,\n",
      "       -28.01641761, -25.2012299 , -19.70528032, -15.78422166,\n",
      "       -39.81794895, -28.30036345, -30.98828036, -26.30276401,\n",
      "       -23.33066258, -16.16839138, -16.91586663, -11.80589605,\n",
      "        -8.10874099,  -6.26293216, -34.47236976, -28.01641761,\n",
      "       -25.2012299 , -19.70528032, -15.78422166, -39.81794895,\n",
      "       -28.30036345, -30.98828036, -26.30276401, -23.33066258]), 'split1_test_score': array([-47.05698585, -50.82270088, -32.67733316, -31.08123834,\n",
      "       -34.42292817, -44.39779739, -47.87993904, -33.14829163,\n",
      "       -35.00600971, -41.1890261 , -89.94300082, -85.35262363,\n",
      "       -54.62394861, -58.85871015, -65.23270659, -43.01649309,\n",
      "       -52.04860474, -32.99900943, -31.48345633, -34.1978156 ,\n",
      "       -43.89460182, -47.7278237 , -33.13731721, -34.96238545,\n",
      "       -41.26081593, -89.94300082, -85.35262363, -54.62394861,\n",
      "       -58.85871015, -65.23270659, -43.01649309, -52.04860474,\n",
      "       -32.99900943, -31.48345633, -34.19613455, -43.89460182,\n",
      "       -47.7278237 , -33.13731721, -34.96238545, -41.26081593,\n",
      "       -89.94300082, -85.35262363, -54.62394861, -58.85871015,\n",
      "       -65.23270659, -43.01649309, -52.04860474, -32.99900943,\n",
      "       -31.48345633, -34.19613455, -43.89460182, -47.7278237 ,\n",
      "       -33.13731721, -34.96238545, -41.26081593, -89.94300082,\n",
      "       -85.35262363, -54.62394861, -58.85871015, -65.23270659]), 'split2_test_score': array([-28.61619964, -16.00687473, -26.83206549, -23.20465213,\n",
      "       -20.60794595, -13.69867887, -15.40667185, -26.84685201,\n",
      "       -27.0224027 , -22.93187982, -15.30133391, -22.49351515,\n",
      "       -35.41180498, -36.27621934, -30.38697759, -11.94801224,\n",
      "       -14.5199655 , -21.4740062 , -19.84463218, -20.26599586,\n",
      "       -11.77350982, -17.67978223, -28.55391051, -27.97638273,\n",
      "       -22.63381588, -15.30133391, -22.49351515, -35.41180498,\n",
      "       -36.27621934, -30.38697759, -11.94801224, -14.5199655 ,\n",
      "       -21.4740062 , -19.84463218, -20.24407396, -11.77350982,\n",
      "       -17.67978223, -28.55391051, -27.97638273, -22.63381588,\n",
      "       -15.30133391, -22.49351515, -35.41180498, -36.27621934,\n",
      "       -30.38697759, -11.94801224, -14.5199655 , -21.4740062 ,\n",
      "       -19.84463218, -20.24407396, -11.77350982, -17.67978223,\n",
      "       -28.55391051, -27.97638273, -22.63381588, -15.30133391,\n",
      "       -22.49351515, -35.41180498, -36.27621934, -30.38697759]), 'split3_test_score': array([-35.48479615, -31.50670887, -31.4813539 , -30.62924342,\n",
      "       -26.42204701, -47.65439508, -43.42772738, -34.91515555,\n",
      "       -32.44490138, -31.04982704, -47.76010392, -49.66628261,\n",
      "       -49.66598614, -49.05593159, -46.92938272, -30.14126485,\n",
      "       -29.91741707, -29.6153413 , -27.3233888 , -24.89340277,\n",
      "       -46.93146974, -43.10431695, -34.45276636, -32.03893066,\n",
      "       -30.76624644, -47.76010392, -49.66628261, -49.66598614,\n",
      "       -49.05593159, -46.92938272, -30.14126485, -29.91741707,\n",
      "       -29.6153413 , -27.3233888 , -24.89352443, -46.93146974,\n",
      "       -43.10431695, -34.45276636, -32.03893066, -30.76624644,\n",
      "       -47.76010392, -49.66628261, -49.66598614, -49.05593159,\n",
      "       -46.92938272, -30.14126485, -29.91741707, -29.6153413 ,\n",
      "       -27.3233888 , -24.89352443, -46.93146974, -43.10431695,\n",
      "       -34.45276636, -32.03893066, -30.76624644, -47.76010392,\n",
      "       -49.66628261, -49.66598614, -49.05593159, -46.92938272]), 'split4_test_score': array([-35.58915102, -39.62711275, -37.79084013, -40.59420264,\n",
      "       -45.03093534, -50.87545514, -57.45707692, -52.56267927,\n",
      "       -51.8564748 , -55.32391808, -51.65213223, -61.77267478,\n",
      "       -63.35040248, -65.80003695, -67.24573232, -43.32837003,\n",
      "       -42.91271311, -45.21986181, -46.6745565 , -44.66716106,\n",
      "       -45.74707607, -55.65268121, -51.67100834, -51.51359332,\n",
      "       -55.19250625, -51.65213223, -61.77267478, -63.35040248,\n",
      "       -65.80003695, -67.24573232, -43.32837003, -42.91271311,\n",
      "       -45.21986181, -46.6745565 , -44.66716106, -45.74707607,\n",
      "       -55.65268121, -51.67100834, -51.51359332, -55.19250625,\n",
      "       -51.65213223, -61.77267478, -63.35040248, -65.80003695,\n",
      "       -67.24573232, -43.32837003, -42.91271311, -45.21986181,\n",
      "       -46.6745565 , -44.66716106, -45.74707607, -55.65268121,\n",
      "       -51.67100834, -51.51359332, -55.19250625, -51.65213223,\n",
      "       -61.77267478, -63.35040248, -65.80003695, -67.24573232]), 'split5_test_score': array([-31.73031356, -32.30567378, -29.74004679, -30.7302498 ,\n",
      "       -31.86774548, -39.76378444, -43.42050256, -36.51611533,\n",
      "       -39.49252027, -38.53052476, -87.86501756, -90.85248347,\n",
      "       -85.09979592, -87.58678222, -91.10353751, -35.56699778,\n",
      "       -35.34647796, -32.33275291, -33.06410605, -30.73530641,\n",
      "       -38.62883764, -41.74443577, -35.62774722, -39.03558374,\n",
      "       -38.35819696, -87.86501756, -90.85248347, -85.09979592,\n",
      "       -87.58678222, -91.10353751, -35.56699778, -35.34647796,\n",
      "       -32.33275291, -33.06410605, -30.73530641, -38.62883764,\n",
      "       -41.74443577, -35.62774722, -39.03558374, -38.35819696,\n",
      "       -87.86501756, -90.85248347, -85.09979592, -87.58678222,\n",
      "       -91.10353751, -35.56699778, -35.34647796, -32.33275291,\n",
      "       -33.06410605, -30.73530641, -38.62883764, -41.74443577,\n",
      "       -35.62774722, -39.03558374, -38.35819696, -87.86501756,\n",
      "       -90.85248347, -85.09979592, -87.58678222, -91.10353751]), 'split6_test_score': array([-28.5255569 , -21.91194516, -20.41907721, -22.15391797,\n",
      "       -20.99170145, -31.60574407, -21.1550197 , -21.32570705,\n",
      "       -22.78857776, -21.34868766, -75.71201337, -48.42350284,\n",
      "       -48.13809723, -45.40568715, -41.3425435 , -27.63809663,\n",
      "       -21.03999281, -20.34542355, -22.01644881, -20.63699303,\n",
      "       -31.60574407, -21.31975645, -21.40140852, -22.79016309,\n",
      "       -21.35626228, -75.71201337, -48.42350284, -48.13809723,\n",
      "       -45.40568715, -41.3425435 , -27.63809663, -21.03999281,\n",
      "       -20.34542355, -22.01644881, -20.62046822, -31.60574407,\n",
      "       -21.31975645, -21.40140852, -22.79016309, -21.35626228,\n",
      "       -75.71201337, -48.42350284, -48.13809723, -45.40568715,\n",
      "       -41.3425435 , -27.63809663, -21.03999281, -20.34542355,\n",
      "       -22.01644881, -20.62046822, -31.60574407, -21.31975645,\n",
      "       -21.40140852, -22.79016309, -21.35626228, -75.71201337,\n",
      "       -48.42350284, -48.13809723, -45.40568715, -41.3425435 ]), 'split7_test_score': array([-41.80740822, -29.98794964, -28.24854851, -26.23216187,\n",
      "       -23.37114363, -47.5479876 , -28.64958997, -24.78951777,\n",
      "       -21.55096065, -18.44741833, -19.97716523, -17.72955364,\n",
      "       -15.97896781, -12.42618013, -14.50912082, -40.45067948,\n",
      "       -32.13252239, -25.88326722, -25.04010344, -22.58721539,\n",
      "       -46.76685924, -28.4232665 , -24.50200115, -21.333291  ,\n",
      "       -18.40692839, -19.97716523, -17.72955364, -15.97896781,\n",
      "       -12.42618013, -14.50912082, -40.45067948, -32.13252239,\n",
      "       -25.88326722, -25.04010344, -22.5926855 , -46.76685924,\n",
      "       -28.4232665 , -24.50200115, -21.333291  , -18.40692839,\n",
      "       -19.97716523, -17.72955364, -15.97896781, -12.42618013,\n",
      "       -14.50912082, -40.45067948, -32.13252239, -25.88326722,\n",
      "       -25.04010344, -22.5926855 , -46.76685924, -28.4232665 ,\n",
      "       -24.50200115, -21.333291  , -18.40692839, -19.97716523,\n",
      "       -17.72955364, -15.97896781, -12.42618013, -14.50912082]), 'split8_test_score': array([-10.03746289, -12.65275854, -12.05764665, -12.19627582,\n",
      "       -16.02537076, -21.66230898, -23.30379003, -23.70464515,\n",
      "       -22.30648997, -26.79883544, -42.55576822, -53.16061252,\n",
      "       -48.33107393, -49.14472025, -61.14967817, -11.15320372,\n",
      "       -12.37463598, -11.06648313, -12.18473065, -15.97093366,\n",
      "       -21.71807554, -23.32754646, -23.72321312, -22.37687609,\n",
      "       -26.81487699, -42.55576822, -53.16061252, -48.33107393,\n",
      "       -49.14472025, -61.14967817, -11.15320372, -12.37463598,\n",
      "       -11.06648313, -12.18473065, -15.97093366, -21.71807554,\n",
      "       -23.32754646, -23.72321312, -22.37687609, -26.81487699,\n",
      "       -42.55576822, -53.16061252, -48.33107393, -49.14472025,\n",
      "       -61.14967817, -11.15320372, -12.37463598, -11.06648313,\n",
      "       -12.18473065, -15.97093366, -21.71807554, -23.32754646,\n",
      "       -23.72321312, -22.37687609, -26.81487699, -42.55576822,\n",
      "       -53.16061252, -48.33107393, -49.14472025, -61.14967817]), 'split9_test_score': array([ -8.99306924,  -5.45675471,  -8.23915526,  -6.93042124,\n",
      "        -6.12945535, -15.28537615,  -8.19224039,  -9.77793506,\n",
      "        -8.88900038,  -6.71948746, -13.83092108, -14.004079  ,\n",
      "       -14.45233819, -11.7245453 , -12.44727755,  -8.59396409,\n",
      "        -6.12957253,  -8.06581561,  -7.05979569,  -6.21264333,\n",
      "       -15.28537615,  -8.19224039,  -9.53867012,  -8.86229255,\n",
      "        -6.75032459, -13.83092108, -14.004079  , -14.45233819,\n",
      "       -11.7245453 , -12.44727755,  -8.59396409,  -6.12957253,\n",
      "        -8.06581561,  -7.05979569,  -6.21460061, -15.28537615,\n",
      "        -8.19224039,  -9.53867012,  -8.86229255,  -6.75032459,\n",
      "       -13.83092108, -14.004079  , -14.45233819, -11.7245453 ,\n",
      "       -12.44727755,  -8.59396409,  -6.12957253,  -8.06581561,\n",
      "        -7.05979569,  -6.21460061, -15.28537615,  -8.19224039,\n",
      "        -9.53867012,  -8.86229255,  -6.75032459, -13.83092108,\n",
      "       -14.004079  , -14.45233819, -11.7245453 , -12.44727755]), 'mean_test_score': array([-29.19169163, -26.12595943, -24.1329148 , -23.21806367,\n",
      "       -23.06138383, -34.27812001, -31.48200771, -28.78110136,\n",
      "       -28.04418633, -27.81828695, -48.44154053, -47.17556911,\n",
      "       -44.60406957, -44.25815771, -45.36776193, -26.80054733,\n",
      "       -26.33377687, -23.88078572, -23.27999594, -22.64310215,\n",
      "       -33.68239199, -31.51882673, -28.78092724, -28.0594779 ,\n",
      "       -27.73241954, -48.44154053, -47.17556911, -44.60406957,\n",
      "       -44.25815771, -45.36776193, -26.80054733, -26.33377687,\n",
      "       -23.88078572, -23.27999594, -22.63978206, -33.68239199,\n",
      "       -31.51882673, -28.78092724, -28.0594779 , -27.73241954,\n",
      "       -48.44154053, -47.17556911, -44.60406957, -44.25815771,\n",
      "       -45.36776193, -26.80054733, -26.33377687, -23.88078572,\n",
      "       -23.27999594, -22.63978206, -33.68239199, -31.51882673,\n",
      "       -28.78092724, -28.0594779 , -27.73241954, -48.44154053,\n",
      "       -47.17556911, -44.60406957, -44.25815771, -45.36776193]), 'std_test_score': array([11.69236771, 12.76570742,  9.41969382, 10.44433157, 11.60628593,\n",
      "       13.1507861 , 14.97350591, 10.79354756, 11.47548683, 13.43010404,\n",
      "       26.9191944 , 25.60216852, 20.35224936, 22.49584535, 24.45159377,\n",
      "       13.1191617 , 13.86782253, 11.06906927, 11.65994469, 11.32061758,\n",
      "       12.59994131, 14.18653387, 10.50456974, 11.30348303, 13.40391985,\n",
      "       26.9191944 , 25.60216852, 20.35224936, 22.49584535, 24.45159377,\n",
      "       13.1191617 , 13.86782253, 11.06906927, 11.65994469, 11.32100781,\n",
      "       12.59994131, 14.18653387, 10.50456974, 11.30348303, 13.40391985,\n",
      "       26.9191944 , 25.60216852, 20.35224936, 22.49584535, 24.45159377,\n",
      "       13.1191617 , 13.86782253, 11.06906927, 11.65994469, 11.32100781,\n",
      "       12.59994131, 14.18653387, 10.50456974, 11.30348303, 13.40391985,\n",
      "       26.9191944 , 25.60216852, 20.35224936, 22.49584535, 24.45159377]), 'rank_test_score': array([32, 13, 12,  5,  4, 40, 33, 31, 24, 23, 59, 54, 47, 42, 52, 17, 14,\n",
      "       10,  6,  3, 39, 34, 29, 25, 22, 59, 53, 47, 42, 50, 17, 14,  9,  6,\n",
      "        2, 37, 34, 30, 26, 20, 57, 54, 45, 42, 49, 17, 14, 10,  6,  1, 37,\n",
      "       34, 28, 26, 20, 57, 54, 45, 41, 50], dtype=int32)}\n"
     ]
    }
   ],
   "source": [
    "print(\"grid.cv_results_ {}\".format(grid.cv_results_))"
   ]
  },
  {
   "cell_type": "code",
   "execution_count": 229,
   "metadata": {
    "colab": {
     "base_uri": "https://localhost:8080/"
    },
    "id": "0BXnNUMbLuXp",
    "outputId": "cd40eb7d-199c-4ffb-b257-d731849106a3"
   },
   "outputs": [
    {
     "name": "stdout",
     "output_type": "stream",
     "text": [
      "grid.best_params_ {'max_depth': 30, 'min_samples_leaf': 1, 'n_estimators': 1000}\n",
      "grid.best_estimator_ RandomForestRegressor(max_depth=30, n_estimators=1000, n_jobs=7,\n",
      "                      random_state=42)\n"
     ]
    }
   ],
   "source": [
    "print(\"grid.best_params_ {}\".format(grid.best_params_))\n",
    "print(\"grid.best_estimator_ {}\".format(grid.best_estimator_)) "
   ]
  },
  {
   "cell_type": "code",
   "execution_count": 230,
   "metadata": {
    "id": "JA0mDh_iLuaK"
   },
   "outputs": [],
   "source": [
    "# Instantiate model with grid search parameters\n",
    "rf = RandomForestRegressor(bootstrap=True, ccp_alpha=0.0, criterion='mse',\n",
    "                      max_depth=30, max_features='auto', max_leaf_nodes=None,\n",
    "                      max_samples=None, min_impurity_decrease=0.0,\n",
    "                      min_impurity_split=None, min_samples_leaf=1,\n",
    "                      min_samples_split=2, min_weight_fraction_leaf=0.0,\n",
    "                      n_estimators=1000, n_jobs=5, oob_score=False,\n",
    "                      random_state=42, verbose=0, warm_start=False)"
   ]
  },
  {
   "cell_type": "code",
   "execution_count": 231,
   "metadata": {
    "colab": {
     "base_uri": "https://localhost:8080/"
    },
    "id": "5Yb5E8qZLucT",
    "outputId": "9cf04fc8-58cd-4ab6-c6c7-d28bf4014e84"
   },
   "outputs": [
    {
     "data": {
      "text/plain": [
       "RandomForestRegressor(max_depth=30, n_estimators=1000, n_jobs=5,\n",
       "                      random_state=42)"
      ]
     },
     "execution_count": 231,
     "metadata": {},
     "output_type": "execute_result"
    }
   ],
   "source": [
    "# Train the model on training data\n",
    "rf.fit(X_train, y_train)"
   ]
  },
  {
   "cell_type": "code",
   "execution_count": 232,
   "metadata": {
    "id": "3OSZUuvILuej"
   },
   "outputs": [],
   "source": [
    "# Use the forest's predict method on the test data\n",
    "predictions = rf.predict(X)"
   ]
  },
  {
   "cell_type": "code",
   "execution_count": 233,
   "metadata": {
    "id": "D1rqzfSRMPqi"
   },
   "outputs": [],
   "source": [
    "# Place predictions in the dataframe\n",
    "df5['Mean of correct edit'] = df5['Mean of correct edit']\n",
    "df5['Predictions'] = pd.DataFrame(data=predictions)"
   ]
  },
  {
   "cell_type": "code",
   "execution_count": 234,
   "metadata": {
    "id": "S4vARNDDMPtT"
   },
   "outputs": [],
   "source": [
    "results = df5[['Mean of correct edit', 'Predictions']] "
   ]
  },
  {
   "cell_type": "code",
   "execution_count": 235,
   "metadata": {
    "colab": {
     "base_uri": "https://localhost:8080/",
     "height": 1000
    },
    "id": "Etq-9BUgMPvv",
    "outputId": "a9788f51-c323-4191-bd43-8b4436ff6a16"
   },
   "outputs": [
    {
     "data": {
      "text/html": [
       "<div>\n",
       "<style scoped>\n",
       "    .dataframe tbody tr th:only-of-type {\n",
       "        vertical-align: middle;\n",
       "    }\n",
       "\n",
       "    .dataframe tbody tr th {\n",
       "        vertical-align: top;\n",
       "    }\n",
       "\n",
       "    .dataframe thead th {\n",
       "        text-align: right;\n",
       "    }\n",
       "</style>\n",
       "<table border=\"1\" class=\"dataframe\">\n",
       "  <thead>\n",
       "    <tr style=\"text-align: right;\">\n",
       "      <th></th>\n",
       "      <th>Mean of correct edit</th>\n",
       "      <th>Predictions</th>\n",
       "    </tr>\n",
       "  </thead>\n",
       "  <tbody>\n",
       "    <tr>\n",
       "      <th>0</th>\n",
       "      <td>0.244361</td>\n",
       "      <td>0.826592</td>\n",
       "    </tr>\n",
       "    <tr>\n",
       "      <th>1</th>\n",
       "      <td>0.200436</td>\n",
       "      <td>0.919855</td>\n",
       "    </tr>\n",
       "    <tr>\n",
       "      <th>2</th>\n",
       "      <td>0.974926</td>\n",
       "      <td>1.825110</td>\n",
       "    </tr>\n",
       "    <tr>\n",
       "      <th>3</th>\n",
       "      <td>3.501457</td>\n",
       "      <td>9.749571</td>\n",
       "    </tr>\n",
       "    <tr>\n",
       "      <th>4</th>\n",
       "      <td>5.617375</td>\n",
       "      <td>10.927047</td>\n",
       "    </tr>\n",
       "    <tr>\n",
       "      <th>5</th>\n",
       "      <td>8.081667</td>\n",
       "      <td>9.783342</td>\n",
       "    </tr>\n",
       "    <tr>\n",
       "      <th>6</th>\n",
       "      <td>8.507569</td>\n",
       "      <td>9.610457</td>\n",
       "    </tr>\n",
       "    <tr>\n",
       "      <th>7</th>\n",
       "      <td>0.295150</td>\n",
       "      <td>2.884263</td>\n",
       "    </tr>\n",
       "    <tr>\n",
       "      <th>8</th>\n",
       "      <td>0.217884</td>\n",
       "      <td>3.151879</td>\n",
       "    </tr>\n",
       "    <tr>\n",
       "      <th>9</th>\n",
       "      <td>2.557439</td>\n",
       "      <td>4.517991</td>\n",
       "    </tr>\n",
       "    <tr>\n",
       "      <th>10</th>\n",
       "      <td>13.359573</td>\n",
       "      <td>14.865284</td>\n",
       "    </tr>\n",
       "    <tr>\n",
       "      <th>11</th>\n",
       "      <td>20.782235</td>\n",
       "      <td>19.291122</td>\n",
       "    </tr>\n",
       "    <tr>\n",
       "      <th>12</th>\n",
       "      <td>21.899994</td>\n",
       "      <td>19.771293</td>\n",
       "    </tr>\n",
       "    <tr>\n",
       "      <th>13</th>\n",
       "      <td>24.151245</td>\n",
       "      <td>19.700206</td>\n",
       "    </tr>\n",
       "    <tr>\n",
       "      <th>14</th>\n",
       "      <td>23.177921</td>\n",
       "      <td>21.274497</td>\n",
       "    </tr>\n",
       "    <tr>\n",
       "      <th>15</th>\n",
       "      <td>17.135563</td>\n",
       "      <td>18.240709</td>\n",
       "    </tr>\n",
       "    <tr>\n",
       "      <th>16</th>\n",
       "      <td>12.696679</td>\n",
       "      <td>13.119264</td>\n",
       "    </tr>\n",
       "    <tr>\n",
       "      <th>17</th>\n",
       "      <td>9.912916</td>\n",
       "      <td>11.456856</td>\n",
       "    </tr>\n",
       "    <tr>\n",
       "      <th>18</th>\n",
       "      <td>7.827915</td>\n",
       "      <td>9.610457</td>\n",
       "    </tr>\n",
       "    <tr>\n",
       "      <th>19</th>\n",
       "      <td>12.561643</td>\n",
       "      <td>11.752213</td>\n",
       "    </tr>\n",
       "    <tr>\n",
       "      <th>20</th>\n",
       "      <td>11.913568</td>\n",
       "      <td>11.802886</td>\n",
       "    </tr>\n",
       "    <tr>\n",
       "      <th>21</th>\n",
       "      <td>35.609565</td>\n",
       "      <td>32.372963</td>\n",
       "    </tr>\n",
       "    <tr>\n",
       "      <th>22</th>\n",
       "      <td>26.826254</td>\n",
       "      <td>28.811997</td>\n",
       "    </tr>\n",
       "    <tr>\n",
       "      <th>23</th>\n",
       "      <td>34.446860</td>\n",
       "      <td>32.321994</td>\n",
       "    </tr>\n",
       "    <tr>\n",
       "      <th>24</th>\n",
       "      <td>32.238113</td>\n",
       "      <td>32.315061</td>\n",
       "    </tr>\n",
       "    <tr>\n",
       "      <th>25</th>\n",
       "      <td>32.597615</td>\n",
       "      <td>29.478056</td>\n",
       "    </tr>\n",
       "    <tr>\n",
       "      <th>26</th>\n",
       "      <td>28.325073</td>\n",
       "      <td>23.346855</td>\n",
       "    </tr>\n",
       "    <tr>\n",
       "      <th>27</th>\n",
       "      <td>11.984408</td>\n",
       "      <td>12.640590</td>\n",
       "    </tr>\n",
       "    <tr>\n",
       "      <th>28</th>\n",
       "      <td>21.023686</td>\n",
       "      <td>22.190545</td>\n",
       "    </tr>\n",
       "    <tr>\n",
       "      <th>29</th>\n",
       "      <td>27.031981</td>\n",
       "      <td>24.494205</td>\n",
       "    </tr>\n",
       "    <tr>\n",
       "      <th>30</th>\n",
       "      <td>27.182724</td>\n",
       "      <td>23.507318</td>\n",
       "    </tr>\n",
       "    <tr>\n",
       "      <th>31</th>\n",
       "      <td>27.727643</td>\n",
       "      <td>24.069079</td>\n",
       "    </tr>\n",
       "    <tr>\n",
       "      <th>32</th>\n",
       "      <td>29.598098</td>\n",
       "      <td>27.851627</td>\n",
       "    </tr>\n",
       "    <tr>\n",
       "      <th>33</th>\n",
       "      <td>10.495570</td>\n",
       "      <td>13.528157</td>\n",
       "    </tr>\n",
       "    <tr>\n",
       "      <th>34</th>\n",
       "      <td>18.579099</td>\n",
       "      <td>15.697418</td>\n",
       "    </tr>\n",
       "    <tr>\n",
       "      <th>35</th>\n",
       "      <td>19.055985</td>\n",
       "      <td>20.484946</td>\n",
       "    </tr>\n",
       "    <tr>\n",
       "      <th>36</th>\n",
       "      <td>18.288197</td>\n",
       "      <td>19.770352</td>\n",
       "    </tr>\n",
       "    <tr>\n",
       "      <th>37</th>\n",
       "      <td>22.006427</td>\n",
       "      <td>21.383444</td>\n",
       "    </tr>\n",
       "    <tr>\n",
       "      <th>38</th>\n",
       "      <td>19.691309</td>\n",
       "      <td>19.675781</td>\n",
       "    </tr>\n",
       "    <tr>\n",
       "      <th>39</th>\n",
       "      <td>24.852150</td>\n",
       "      <td>23.060242</td>\n",
       "    </tr>\n",
       "    <tr>\n",
       "      <th>40</th>\n",
       "      <td>23.938638</td>\n",
       "      <td>24.711466</td>\n",
       "    </tr>\n",
       "    <tr>\n",
       "      <th>41</th>\n",
       "      <td>15.525116</td>\n",
       "      <td>19.162927</td>\n",
       "    </tr>\n",
       "    <tr>\n",
       "      <th>42</th>\n",
       "      <td>11.598062</td>\n",
       "      <td>11.687206</td>\n",
       "    </tr>\n",
       "    <tr>\n",
       "      <th>43</th>\n",
       "      <td>26.055314</td>\n",
       "      <td>18.502530</td>\n",
       "    </tr>\n",
       "    <tr>\n",
       "      <th>44</th>\n",
       "      <td>38.342348</td>\n",
       "      <td>37.570428</td>\n",
       "    </tr>\n",
       "    <tr>\n",
       "      <th>45</th>\n",
       "      <td>30.649822</td>\n",
       "      <td>33.237018</td>\n",
       "    </tr>\n",
       "    <tr>\n",
       "      <th>46</th>\n",
       "      <td>34.232669</td>\n",
       "      <td>34.236379</td>\n",
       "    </tr>\n",
       "    <tr>\n",
       "      <th>47</th>\n",
       "      <td>43.945129</td>\n",
       "      <td>36.247532</td>\n",
       "    </tr>\n",
       "    <tr>\n",
       "      <th>48</th>\n",
       "      <td>38.733817</td>\n",
       "      <td>37.974523</td>\n",
       "    </tr>\n",
       "    <tr>\n",
       "      <th>49</th>\n",
       "      <td>41.229895</td>\n",
       "      <td>39.358929</td>\n",
       "    </tr>\n",
       "    <tr>\n",
       "      <th>50</th>\n",
       "      <td>35.238776</td>\n",
       "      <td>35.525217</td>\n",
       "    </tr>\n",
       "    <tr>\n",
       "      <th>51</th>\n",
       "      <td>27.027768</td>\n",
       "      <td>28.093088</td>\n",
       "    </tr>\n",
       "    <tr>\n",
       "      <th>52</th>\n",
       "      <td>27.784734</td>\n",
       "      <td>29.188073</td>\n",
       "    </tr>\n",
       "    <tr>\n",
       "      <th>53</th>\n",
       "      <td>37.565587</td>\n",
       "      <td>33.938864</td>\n",
       "    </tr>\n",
       "    <tr>\n",
       "      <th>54</th>\n",
       "      <td>31.320555</td>\n",
       "      <td>32.607110</td>\n",
       "    </tr>\n",
       "    <tr>\n",
       "      <th>55</th>\n",
       "      <td>36.414891</td>\n",
       "      <td>32.894057</td>\n",
       "    </tr>\n",
       "    <tr>\n",
       "      <th>56</th>\n",
       "      <td>28.794391</td>\n",
       "      <td>30.515579</td>\n",
       "    </tr>\n",
       "  </tbody>\n",
       "</table>\n",
       "</div>"
      ],
      "text/plain": [
       "    Mean of correct edit  Predictions\n",
       "0               0.244361     0.826592\n",
       "1               0.200436     0.919855\n",
       "2               0.974926     1.825110\n",
       "3               3.501457     9.749571\n",
       "4               5.617375    10.927047\n",
       "5               8.081667     9.783342\n",
       "6               8.507569     9.610457\n",
       "7               0.295150     2.884263\n",
       "8               0.217884     3.151879\n",
       "9               2.557439     4.517991\n",
       "10             13.359573    14.865284\n",
       "11             20.782235    19.291122\n",
       "12             21.899994    19.771293\n",
       "13             24.151245    19.700206\n",
       "14             23.177921    21.274497\n",
       "15             17.135563    18.240709\n",
       "16             12.696679    13.119264\n",
       "17              9.912916    11.456856\n",
       "18              7.827915     9.610457\n",
       "19             12.561643    11.752213\n",
       "20             11.913568    11.802886\n",
       "21             35.609565    32.372963\n",
       "22             26.826254    28.811997\n",
       "23             34.446860    32.321994\n",
       "24             32.238113    32.315061\n",
       "25             32.597615    29.478056\n",
       "26             28.325073    23.346855\n",
       "27             11.984408    12.640590\n",
       "28             21.023686    22.190545\n",
       "29             27.031981    24.494205\n",
       "30             27.182724    23.507318\n",
       "31             27.727643    24.069079\n",
       "32             29.598098    27.851627\n",
       "33             10.495570    13.528157\n",
       "34             18.579099    15.697418\n",
       "35             19.055985    20.484946\n",
       "36             18.288197    19.770352\n",
       "37             22.006427    21.383444\n",
       "38             19.691309    19.675781\n",
       "39             24.852150    23.060242\n",
       "40             23.938638    24.711466\n",
       "41             15.525116    19.162927\n",
       "42             11.598062    11.687206\n",
       "43             26.055314    18.502530\n",
       "44             38.342348    37.570428\n",
       "45             30.649822    33.237018\n",
       "46             34.232669    34.236379\n",
       "47             43.945129    36.247532\n",
       "48             38.733817    37.974523\n",
       "49             41.229895    39.358929\n",
       "50             35.238776    35.525217\n",
       "51             27.027768    28.093088\n",
       "52             27.784734    29.188073\n",
       "53             37.565587    33.938864\n",
       "54             31.320555    32.607110\n",
       "55             36.414891    32.894057\n",
       "56             28.794391    30.515579"
      ]
     },
     "execution_count": 235,
     "metadata": {},
     "output_type": "execute_result"
    }
   ],
   "source": [
    "# Print the actual values and the model's predictions\n",
    "results"
   ]
  },
  {
   "cell_type": "code",
   "execution_count": 236,
   "metadata": {
    "colab": {
     "base_uri": "https://localhost:8080/"
    },
    "id": "oZ7bnV8pMP2h",
    "outputId": "6b10d8b6-164c-4ab3-cc30-641d824945d2"
   },
   "outputs": [
    {
     "name": "stdout",
     "output_type": "stream",
     "text": [
      "2.107452712413652\n",
      "7.438407116580154\n",
      "2.727344334069344\n"
     ]
    }
   ],
   "source": [
    "import sklearn.metrics as metrics\n",
    "\n",
    "# Calculate MAE, MSE, RMSE\n",
    "print(metrics.mean_absolute_error(df5['Mean of correct edit'],predictions))\n",
    "print(metrics.mean_squared_error(df5['Mean of correct edit'], predictions))\n",
    "print(np.sqrt(metrics.mean_squared_error(df5['Mean of correct edit'], predictions)))"
   ]
  },
  {
   "cell_type": "markdown",
   "metadata": {
    "id": "6RytAGR7MgrA"
   },
   "source": [
    "Gradient Boosting Regressor"
   ]
  },
  {
   "cell_type": "code",
   "execution_count": 237,
   "metadata": {
    "id": "PrAerzWJMP4-"
   },
   "outputs": [],
   "source": [
    "# Import the Gradient Boosting Regressor model\n",
    "from sklearn.ensemble import GradientBoostingRegressor"
   ]
  },
  {
   "cell_type": "code",
   "execution_count": 238,
   "metadata": {
    "id": "BlohznMeMP0v"
   },
   "outputs": [],
   "source": [
    "# Keep the features\n",
    "X2 = X"
   ]
  },
  {
   "cell_type": "code",
   "execution_count": 239,
   "metadata": {
    "id": "Ty213VYlMlW7"
   },
   "outputs": [],
   "source": [
    "# Target variable\n",
    "y = df5['Mean of correct edit']"
   ]
  },
  {
   "cell_type": "code",
   "execution_count": 240,
   "metadata": {
    "id": "89DsopkwMlZl"
   },
   "outputs": [],
   "source": [
    "# Splitting the dataset into the training set and test set\n",
    "from sklearn.model_selection import train_test_split\n",
    "X_train, X_test, y_train, y_test = train_test_split(X2, y, test_size = 0.3, random_state=42)"
   ]
  },
  {
   "cell_type": "code",
   "execution_count": 241,
   "metadata": {
    "colab": {
     "base_uri": "https://localhost:8080/"
    },
    "id": "-Mt5w0StMld9",
    "outputId": "5d76cc57-dba1-4d6d-96ee-609dbe663175"
   },
   "outputs": [
    {
     "data": {
      "text/plain": [
       "{'learning_rate': 0.05,\n",
       " 'max_depth': 6,\n",
       " 'max_features': 0.1,\n",
       " 'min_samples_leaf': 3}"
      ]
     },
     "execution_count": 241,
     "metadata": {},
     "output_type": "execute_result"
    }
   ],
   "source": [
    "#Random Search Gradient Boosting Regressor\n",
    "from sklearn.model_selection import GridSearchCV\n",
    "\n",
    "param_grid = {'learning_rate': [0.1, 0.05, 0.02, 0.01],\n",
    "'max_depth': [4, 6],\n",
    "'min_samples_leaf': [3, 5, 9, 17],\n",
    "'max_features': [1.0, 0.3, 0.1]}\n",
    "\n",
    "est = GradientBoostingRegressor(n_estimators=3000)\n",
    "gs_cv = GridSearchCV(est, param_grid, n_jobs=4).fit(X_train, y_train)\n",
    "\n",
    "# Best hyperparameter setting\n",
    "gs_cv.best_params_"
   ]
  },
  {
   "cell_type": "code",
   "execution_count": 242,
   "metadata": {
    "id": "IBCFM0MTMlgk"
   },
   "outputs": [],
   "source": [
    "# Parameters from grid search\n",
    "gbr = GradientBoostingRegressor(n_estimators=3000, max_depth=6, learning_rate=0.05,\n",
    "                                loss='huber', max_features=0.1,\n",
    "                                min_samples_leaf=3)"
   ]
  },
  {
   "cell_type": "code",
   "execution_count": 243,
   "metadata": {
    "colab": {
     "base_uri": "https://localhost:8080/"
    },
    "id": "hwjI_FQ-MlkT",
    "outputId": "256b6355-5f2e-40bf-fa36-e15b513e69aa"
   },
   "outputs": [
    {
     "data": {
      "text/plain": [
       "GradientBoostingRegressor(learning_rate=0.05, loss='huber', max_depth=6,\n",
       "                          max_features=0.1, min_samples_leaf=3,\n",
       "                          n_estimators=3000)"
      ]
     },
     "execution_count": 243,
     "metadata": {},
     "output_type": "execute_result"
    }
   ],
   "source": [
    "gbr.fit(X_train, y_train)"
   ]
  },
  {
   "cell_type": "code",
   "execution_count": 244,
   "metadata": {
    "id": "cOgZ29qCMlm4"
   },
   "outputs": [],
   "source": [
    "# Use the Gradient Boosting Regressor predict method on the test data\n",
    "predictions2 = gbr.predict(X2)"
   ]
  },
  {
   "cell_type": "code",
   "execution_count": 245,
   "metadata": {
    "id": "cU0qEtkLMlrM"
   },
   "outputs": [],
   "source": [
    "# Place predictions in the dataframe\n",
    "df5['Mean of correct edit'] = df5['Mean of correct edit']\n",
    "df5['Predictions 2'] = pd.DataFrame(data=predictions2)"
   ]
  },
  {
   "cell_type": "code",
   "execution_count": 246,
   "metadata": {
    "id": "sNSPt-tcMlt9"
   },
   "outputs": [],
   "source": [
    "results2 = df5[['Mean of correct edit', 'Predictions 2']] "
   ]
  },
  {
   "cell_type": "code",
   "execution_count": 247,
   "metadata": {
    "colab": {
     "base_uri": "https://localhost:8080/",
     "height": 1000
    },
    "id": "ls0MfCElMl0-",
    "outputId": "83cffee6-655d-4128-cac1-4cb507748604"
   },
   "outputs": [
    {
     "data": {
      "text/html": [
       "<div>\n",
       "<style scoped>\n",
       "    .dataframe tbody tr th:only-of-type {\n",
       "        vertical-align: middle;\n",
       "    }\n",
       "\n",
       "    .dataframe tbody tr th {\n",
       "        vertical-align: top;\n",
       "    }\n",
       "\n",
       "    .dataframe thead th {\n",
       "        text-align: right;\n",
       "    }\n",
       "</style>\n",
       "<table border=\"1\" class=\"dataframe\">\n",
       "  <thead>\n",
       "    <tr style=\"text-align: right;\">\n",
       "      <th></th>\n",
       "      <th>Mean of correct edit</th>\n",
       "      <th>Predictions 2</th>\n",
       "    </tr>\n",
       "  </thead>\n",
       "  <tbody>\n",
       "    <tr>\n",
       "      <th>0</th>\n",
       "      <td>0.244361</td>\n",
       "      <td>-0.450940</td>\n",
       "    </tr>\n",
       "    <tr>\n",
       "      <th>1</th>\n",
       "      <td>0.200436</td>\n",
       "      <td>0.203824</td>\n",
       "    </tr>\n",
       "    <tr>\n",
       "      <th>2</th>\n",
       "      <td>0.974926</td>\n",
       "      <td>0.968245</td>\n",
       "    </tr>\n",
       "    <tr>\n",
       "      <th>3</th>\n",
       "      <td>3.501457</td>\n",
       "      <td>6.123273</td>\n",
       "    </tr>\n",
       "    <tr>\n",
       "      <th>4</th>\n",
       "      <td>5.617375</td>\n",
       "      <td>9.026403</td>\n",
       "    </tr>\n",
       "    <tr>\n",
       "      <th>5</th>\n",
       "      <td>8.081667</td>\n",
       "      <td>8.216805</td>\n",
       "    </tr>\n",
       "    <tr>\n",
       "      <th>6</th>\n",
       "      <td>8.507569</td>\n",
       "      <td>7.819625</td>\n",
       "    </tr>\n",
       "    <tr>\n",
       "      <th>7</th>\n",
       "      <td>0.295150</td>\n",
       "      <td>0.315396</td>\n",
       "    </tr>\n",
       "    <tr>\n",
       "      <th>8</th>\n",
       "      <td>0.217884</td>\n",
       "      <td>1.413076</td>\n",
       "    </tr>\n",
       "    <tr>\n",
       "      <th>9</th>\n",
       "      <td>2.557439</td>\n",
       "      <td>2.535665</td>\n",
       "    </tr>\n",
       "    <tr>\n",
       "      <th>10</th>\n",
       "      <td>13.359573</td>\n",
       "      <td>13.361773</td>\n",
       "    </tr>\n",
       "    <tr>\n",
       "      <th>11</th>\n",
       "      <td>20.782235</td>\n",
       "      <td>20.770502</td>\n",
       "    </tr>\n",
       "    <tr>\n",
       "      <th>12</th>\n",
       "      <td>21.899994</td>\n",
       "      <td>22.623408</td>\n",
       "    </tr>\n",
       "    <tr>\n",
       "      <th>13</th>\n",
       "      <td>24.151245</td>\n",
       "      <td>23.193226</td>\n",
       "    </tr>\n",
       "    <tr>\n",
       "      <th>14</th>\n",
       "      <td>23.177921</td>\n",
       "      <td>23.193226</td>\n",
       "    </tr>\n",
       "    <tr>\n",
       "      <th>15</th>\n",
       "      <td>17.135563</td>\n",
       "      <td>17.135157</td>\n",
       "    </tr>\n",
       "    <tr>\n",
       "      <th>16</th>\n",
       "      <td>12.696679</td>\n",
       "      <td>12.702245</td>\n",
       "    </tr>\n",
       "    <tr>\n",
       "      <th>17</th>\n",
       "      <td>9.912916</td>\n",
       "      <td>8.776399</td>\n",
       "    </tr>\n",
       "    <tr>\n",
       "      <th>18</th>\n",
       "      <td>7.827915</td>\n",
       "      <td>7.819625</td>\n",
       "    </tr>\n",
       "    <tr>\n",
       "      <th>19</th>\n",
       "      <td>12.561643</td>\n",
       "      <td>12.713616</td>\n",
       "    </tr>\n",
       "    <tr>\n",
       "      <th>20</th>\n",
       "      <td>11.913568</td>\n",
       "      <td>11.720659</td>\n",
       "    </tr>\n",
       "    <tr>\n",
       "      <th>21</th>\n",
       "      <td>35.609565</td>\n",
       "      <td>35.589496</td>\n",
       "    </tr>\n",
       "    <tr>\n",
       "      <th>22</th>\n",
       "      <td>26.826254</td>\n",
       "      <td>26.848062</td>\n",
       "    </tr>\n",
       "    <tr>\n",
       "      <th>23</th>\n",
       "      <td>34.446860</td>\n",
       "      <td>34.464965</td>\n",
       "    </tr>\n",
       "    <tr>\n",
       "      <th>24</th>\n",
       "      <td>32.238113</td>\n",
       "      <td>32.233428</td>\n",
       "    </tr>\n",
       "    <tr>\n",
       "      <th>25</th>\n",
       "      <td>32.597615</td>\n",
       "      <td>32.574109</td>\n",
       "    </tr>\n",
       "    <tr>\n",
       "      <th>26</th>\n",
       "      <td>28.325073</td>\n",
       "      <td>22.779068</td>\n",
       "    </tr>\n",
       "    <tr>\n",
       "      <th>27</th>\n",
       "      <td>11.984408</td>\n",
       "      <td>8.136751</td>\n",
       "    </tr>\n",
       "    <tr>\n",
       "      <th>28</th>\n",
       "      <td>21.023686</td>\n",
       "      <td>21.168605</td>\n",
       "    </tr>\n",
       "    <tr>\n",
       "      <th>29</th>\n",
       "      <td>27.031981</td>\n",
       "      <td>25.975226</td>\n",
       "    </tr>\n",
       "    <tr>\n",
       "      <th>30</th>\n",
       "      <td>27.182724</td>\n",
       "      <td>22.291795</td>\n",
       "    </tr>\n",
       "    <tr>\n",
       "      <th>31</th>\n",
       "      <td>27.727643</td>\n",
       "      <td>24.045844</td>\n",
       "    </tr>\n",
       "    <tr>\n",
       "      <th>32</th>\n",
       "      <td>29.598098</td>\n",
       "      <td>29.633553</td>\n",
       "    </tr>\n",
       "    <tr>\n",
       "      <th>33</th>\n",
       "      <td>10.495570</td>\n",
       "      <td>10.500220</td>\n",
       "    </tr>\n",
       "    <tr>\n",
       "      <th>34</th>\n",
       "      <td>18.579099</td>\n",
       "      <td>14.199220</td>\n",
       "    </tr>\n",
       "    <tr>\n",
       "      <th>35</th>\n",
       "      <td>19.055985</td>\n",
       "      <td>19.117041</td>\n",
       "    </tr>\n",
       "    <tr>\n",
       "      <th>36</th>\n",
       "      <td>18.288197</td>\n",
       "      <td>18.284490</td>\n",
       "    </tr>\n",
       "    <tr>\n",
       "      <th>37</th>\n",
       "      <td>22.006427</td>\n",
       "      <td>21.970389</td>\n",
       "    </tr>\n",
       "    <tr>\n",
       "      <th>38</th>\n",
       "      <td>19.691309</td>\n",
       "      <td>19.702816</td>\n",
       "    </tr>\n",
       "    <tr>\n",
       "      <th>39</th>\n",
       "      <td>24.852150</td>\n",
       "      <td>24.837496</td>\n",
       "    </tr>\n",
       "    <tr>\n",
       "      <th>40</th>\n",
       "      <td>23.938638</td>\n",
       "      <td>23.874026</td>\n",
       "    </tr>\n",
       "    <tr>\n",
       "      <th>41</th>\n",
       "      <td>15.525116</td>\n",
       "      <td>15.559000</td>\n",
       "    </tr>\n",
       "    <tr>\n",
       "      <th>42</th>\n",
       "      <td>11.598062</td>\n",
       "      <td>11.624844</td>\n",
       "    </tr>\n",
       "    <tr>\n",
       "      <th>43</th>\n",
       "      <td>26.055314</td>\n",
       "      <td>18.977590</td>\n",
       "    </tr>\n",
       "    <tr>\n",
       "      <th>44</th>\n",
       "      <td>38.342348</td>\n",
       "      <td>38.321380</td>\n",
       "    </tr>\n",
       "    <tr>\n",
       "      <th>45</th>\n",
       "      <td>30.649822</td>\n",
       "      <td>33.306188</td>\n",
       "    </tr>\n",
       "    <tr>\n",
       "      <th>46</th>\n",
       "      <td>34.232669</td>\n",
       "      <td>34.161718</td>\n",
       "    </tr>\n",
       "    <tr>\n",
       "      <th>47</th>\n",
       "      <td>43.945129</td>\n",
       "      <td>44.485524</td>\n",
       "    </tr>\n",
       "    <tr>\n",
       "      <th>48</th>\n",
       "      <td>38.733817</td>\n",
       "      <td>39.000185</td>\n",
       "    </tr>\n",
       "    <tr>\n",
       "      <th>49</th>\n",
       "      <td>41.229895</td>\n",
       "      <td>40.306214</td>\n",
       "    </tr>\n",
       "    <tr>\n",
       "      <th>50</th>\n",
       "      <td>35.238776</td>\n",
       "      <td>35.316808</td>\n",
       "    </tr>\n",
       "    <tr>\n",
       "      <th>51</th>\n",
       "      <td>27.027768</td>\n",
       "      <td>27.022486</td>\n",
       "    </tr>\n",
       "    <tr>\n",
       "      <th>52</th>\n",
       "      <td>27.784734</td>\n",
       "      <td>27.867010</td>\n",
       "    </tr>\n",
       "    <tr>\n",
       "      <th>53</th>\n",
       "      <td>37.565587</td>\n",
       "      <td>37.501597</td>\n",
       "    </tr>\n",
       "    <tr>\n",
       "      <th>54</th>\n",
       "      <td>31.320555</td>\n",
       "      <td>31.263576</td>\n",
       "    </tr>\n",
       "    <tr>\n",
       "      <th>55</th>\n",
       "      <td>36.414891</td>\n",
       "      <td>30.691640</td>\n",
       "    </tr>\n",
       "    <tr>\n",
       "      <th>56</th>\n",
       "      <td>28.794391</td>\n",
       "      <td>28.842262</td>\n",
       "    </tr>\n",
       "  </tbody>\n",
       "</table>\n",
       "</div>"
      ],
      "text/plain": [
       "    Mean of correct edit  Predictions 2\n",
       "0               0.244361      -0.450940\n",
       "1               0.200436       0.203824\n",
       "2               0.974926       0.968245\n",
       "3               3.501457       6.123273\n",
       "4               5.617375       9.026403\n",
       "5               8.081667       8.216805\n",
       "6               8.507569       7.819625\n",
       "7               0.295150       0.315396\n",
       "8               0.217884       1.413076\n",
       "9               2.557439       2.535665\n",
       "10             13.359573      13.361773\n",
       "11             20.782235      20.770502\n",
       "12             21.899994      22.623408\n",
       "13             24.151245      23.193226\n",
       "14             23.177921      23.193226\n",
       "15             17.135563      17.135157\n",
       "16             12.696679      12.702245\n",
       "17              9.912916       8.776399\n",
       "18              7.827915       7.819625\n",
       "19             12.561643      12.713616\n",
       "20             11.913568      11.720659\n",
       "21             35.609565      35.589496\n",
       "22             26.826254      26.848062\n",
       "23             34.446860      34.464965\n",
       "24             32.238113      32.233428\n",
       "25             32.597615      32.574109\n",
       "26             28.325073      22.779068\n",
       "27             11.984408       8.136751\n",
       "28             21.023686      21.168605\n",
       "29             27.031981      25.975226\n",
       "30             27.182724      22.291795\n",
       "31             27.727643      24.045844\n",
       "32             29.598098      29.633553\n",
       "33             10.495570      10.500220\n",
       "34             18.579099      14.199220\n",
       "35             19.055985      19.117041\n",
       "36             18.288197      18.284490\n",
       "37             22.006427      21.970389\n",
       "38             19.691309      19.702816\n",
       "39             24.852150      24.837496\n",
       "40             23.938638      23.874026\n",
       "41             15.525116      15.559000\n",
       "42             11.598062      11.624844\n",
       "43             26.055314      18.977590\n",
       "44             38.342348      38.321380\n",
       "45             30.649822      33.306188\n",
       "46             34.232669      34.161718\n",
       "47             43.945129      44.485524\n",
       "48             38.733817      39.000185\n",
       "49             41.229895      40.306214\n",
       "50             35.238776      35.316808\n",
       "51             27.027768      27.022486\n",
       "52             27.784734      27.867010\n",
       "53             37.565587      37.501597\n",
       "54             31.320555      31.263576\n",
       "55             36.414891      30.691640\n",
       "56             28.794391      28.842262"
      ]
     },
     "execution_count": 247,
     "metadata": {},
     "output_type": "execute_result"
    }
   ],
   "source": [
    "# Print the actual values and the model's predictions\n",
    "results2"
   ]
  },
  {
   "cell_type": "code",
   "execution_count": 248,
   "metadata": {
    "colab": {
     "base_uri": "https://localhost:8080/"
    },
    "id": "qKndeME6Mlwg",
    "outputId": "d1eb2c6c-97f4-4974-d7f4-903bba1abd88"
   },
   "outputs": [
    {
     "name": "stdout",
     "output_type": "stream",
     "text": [
      "0.9393936060413121\n",
      "3.828396766027494\n",
      "1.9566289290582142\n"
     ]
    }
   ],
   "source": [
    "import sklearn.metrics as metrics\n",
    "\n",
    "# Calculate MAE, MSE, RMSE\n",
    "print(metrics.mean_absolute_error(df5['Mean of correct edit'], predictions2))\n",
    "print(metrics.mean_squared_error(df5['Mean of correct edit'], predictions2))\n",
    "print(np.sqrt(metrics.mean_squared_error(df5['Mean of correct edit'], predictions2)))"
   ]
  },
  {
   "cell_type": "markdown",
   "metadata": {
    "id": "laMe9ZPXEHtk"
   },
   "source": [
    "For DMD insertion data"
   ]
  },
  {
   "cell_type": "code",
   "execution_count": 355,
   "metadata": {
    "id": "vb6iRVJ0Eor2"
   },
   "outputs": [],
   "source": [
    "# Read DMD insertion data file\n",
    "df_ins = pd.read_excel(\"/home/kargas/D/3_extension_DMD_exon44_insertion.xls\")\n",
    "extensions = df_ins[\"3' extension\"]\n",
    "df_ins = df_ins.drop('Unnamed: 0', axis=1)\n",
    "df_ins = df_ins.drop('Names', axis=1)\n",
    "df_ins.rename(columns={\"3' extension\":\"3extension\"}, inplace=True)"
   ]
  },
  {
   "cell_type": "code",
   "execution_count": 356,
   "metadata": {
    "id": "I1JHJsMnMli0"
   },
   "outputs": [],
   "source": [
    "# Creating the Bag of Words model using CountVectorizer()\n",
    "# This is equivalent to k-mer counting\n",
    "X2 = cv.transform(df_ins['3extension'])\n",
    "\n",
    "# Convert sparse csr matrix to dense format and allow columns to contain the array mapping from feature integer indices to feature names\n",
    "count_vect_df2 = pd.DataFrame(X2.todense(), columns=cv.get_feature_names())\n",
    "\n",
    "# Concatenate the original dataframe and the count_vect_df columnwise\n",
    "df_ins = pd.concat([df_ins, count_vect_df2], axis=1)\n",
    "\n",
    "# Delete string column\n",
    "df_ins = df_ins.drop('3extension', axis=1)"
   ]
  },
  {
   "cell_type": "markdown",
   "metadata": {
    "id": "tQ_DEkhCEL1b"
   },
   "source": [
    "For DMD deletion data"
   ]
  },
  {
   "cell_type": "code",
   "execution_count": 357,
   "metadata": {
    "id": "fs_fKlqOGdPz"
   },
   "outputs": [],
   "source": [
    "# Read DMD deletion data file\n",
    "df_del = pd.read_excel(\"/home/kargas/D/3_extension_DMD_exon44_5-3_deletion.xls\")\n",
    "extensions2 = df_del[\"3' extension\"]\n",
    "df_del = df_del.drop('Unnamed: 0', axis=1)\n",
    "df_del = df_del.drop('Names', axis=1)\n",
    "df_del.rename(columns={\"3' extension\":\"3extension\"}, inplace=True)"
   ]
  },
  {
   "cell_type": "code",
   "execution_count": 358,
   "metadata": {
    "colab": {
     "base_uri": "https://localhost:8080/",
     "height": 531
    },
    "id": "pwV6lAwvMlcK",
    "outputId": "e7820212-a389-4e87-a491-75039ec01959"
   },
   "outputs": [],
   "source": [
    "# Creating the Bag of Words model using CountVectorizer()\n",
    "# This is equivalent to k-mer counting\n",
    "X3 = cv.transform(df_del['3extension'])\n",
    "\n",
    "# Convert sparse csr matrix to dense format and allow columns to contain the array mapping from feature integer indices to feature names\n",
    "count_vect_df3 = pd.DataFrame(X3.todense(), columns=cv.get_feature_names())\n",
    "\n",
    "# Concatenate the original dataframe and the count_vect_df columnwise\n",
    "df_del = pd.concat([df_del, count_vect_df3], axis=1)\n",
    "\n",
    "# Delete string column\n",
    "df_del = df_del.drop('3extension', axis=1)"
   ]
  },
  {
   "cell_type": "markdown",
   "metadata": {
    "id": "44QCg38EG8Tl"
   },
   "source": [
    "Test algorithms on the DMD data"
   ]
  },
  {
   "cell_type": "code",
   "execution_count": 359,
   "metadata": {
    "colab": {
     "base_uri": "https://localhost:8080/",
     "height": 327
    },
    "id": "5ZTOt3vaG_yw",
    "outputId": "6884013b-cdd5-413f-f474-86488ccb8578"
   },
   "outputs": [],
   "source": [
    "# Use the forest's predict method on the test data\n",
    "predictions_ins = rf.predict(df_ins)\n",
    "\n",
    "# Use the Gradient Boosting Regressor predict method on the test data\n",
    "predictions_ins2 = gbr.predict(df_ins)\n",
    "\n",
    "# Place predictions in new columns\n",
    "df_ins['rfr predictions'] = predictions_ins\n",
    "df_ins['gbr predictions'] = predictions_ins2\n",
    "df_ins[\"3' extension\"] = extensions"
   ]
  },
  {
   "cell_type": "code",
   "execution_count": 360,
   "metadata": {
    "id": "Mb0fCxjOHK84"
   },
   "outputs": [],
   "source": [
    "# Use the forest's predict method on the test data\n",
    "predictions_del = rf.predict(df_del)\n",
    "\n",
    "# Use the Gradient Boosting Regressor predict method on the test data\n",
    "predictions_del2 = gbr.predict(df_del)\n",
    "\n",
    "# Place predictions in new columns\n",
    "df_del['rfr predictions'] = predictions_del\n",
    "df_del['gbr predictions'] = predictions_del2\n",
    "df_del[\"3' extension\"] = extensions2"
   ]
  },
  {
   "cell_type": "code",
   "execution_count": 364,
   "metadata": {},
   "outputs": [],
   "source": [
    "# Write predictions to excel\n",
    "df_ins.to_excel('df_ins_predictions.xlsx')\n",
    "df_del.to_excel('df_del_predictions.xlsx')"
   ]
  }
 ],
 "metadata": {
  "colab": {
   "collapsed_sections": [],
   "name": "k_mer_counting_(cc)_(2) (1).ipynb",
   "provenance": []
  },
  "kernelspec": {
   "display_name": "Python 3",
   "language": "python",
   "name": "python3"
  },
  "language_info": {
   "codemirror_mode": {
    "name": "ipython",
    "version": 3
   },
   "file_extension": ".py",
   "mimetype": "text/x-python",
   "name": "python",
   "nbconvert_exporter": "python",
   "pygments_lexer": "ipython3",
   "version": "3.7.9"
  }
 },
 "nbformat": 4,
 "nbformat_minor": 1
}
