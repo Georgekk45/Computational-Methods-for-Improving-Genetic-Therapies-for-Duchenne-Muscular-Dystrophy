{
  "nbformat": 4,
  "nbformat_minor": 0,
  "metadata": {
    "colab": {
      "name": "Ordinal_encoding_(6)_(1) (1).ipynb",
      "provenance": [],
      "collapsed_sections": [],
      "toc_visible": true,
      "machine_shape": "hm"
    },
    "kernelspec": {
      "name": "python3",
      "display_name": "Python 3"
    },
    "accelerator": "GPU"
  },
  "cells": [
    {
      "cell_type": "code",
      "metadata": {
        "id": "GdCKRGA2eDdn",
        "colab_type": "code",
        "colab": {}
      },
      "source": [
        "# Import required libraries\n",
        "import numpy as np\n",
        "import pandas as pd \n",
        "import matplotlib.pyplot as plt"
      ],
      "execution_count": 0,
      "outputs": []
    },
    {
      "cell_type": "code",
      "metadata": {
        "colab_type": "code",
        "outputId": "582147aa-45ad-498e-8b1f-0ce5d60c604d",
        "id": "WsK_3ONV9uds",
        "colab": {
          "base_uri": "https://localhost:8080/",
          "height": 34
        }
      },
      "source": [
        "# Show available cpu cores\n",
        "import multiprocessing\n",
        "n_jobs = multiprocessing.cpu_count()-1\n",
        "n_jobs"
      ],
      "execution_count": 0,
      "outputs": [
        {
          "output_type": "execute_result",
          "data": {
            "text/plain": [
              "3"
            ]
          },
          "metadata": {
            "tags": []
          },
          "execution_count": 82
        }
      ]
    },
    {
      "cell_type": "code",
      "metadata": {
        "id": "mIsNEugIePhS",
        "colab_type": "code",
        "colab": {}
      },
      "source": [
        "# Read HBB and HEXA file\n",
        "df5 = pd.read_excel(\"dataset.xlsx\")\n",
        "df5 = df5.drop('Spacer sequence', axis=1)\n",
        "df5.rename(columns={\"3' extension\":\"3extension\"}, inplace=True)\n",
        "df5['Mean of correct edit'] = df5.iloc[:,1:3].mean(axis=1)"
      ],
      "execution_count": 0,
      "outputs": []
    },
    {
      "cell_type": "code",
      "metadata": {
        "id": "X1u-166-5VP8",
        "colab_type": "code",
        "colab": {}
      },
      "source": [
        "df5 = df5.drop(['% correct edit (w/o indels), rep 1', '% correct edit (w/o indels), rep 2', '% correct edit (w/o indels), rep 3'], axis=1)"
      ],
      "execution_count": 0,
      "outputs": []
    },
    {
      "cell_type": "markdown",
      "metadata": {
        "id": "vwN5EwL7A_dj",
        "colab_type": "text"
      },
      "source": [
        "## **Same length sequences method**\n",
        "\n"
      ]
    },
    {
      "cell_type": "code",
      "metadata": {
        "id": "fkPMUz4t53FK",
        "colab_type": "code",
        "colab": {}
      },
      "source": [
        "df4 = pd.read_excel(\"mtrx.xlsx\")"
      ],
      "execution_count": 0,
      "outputs": []
    },
    {
      "cell_type": "code",
      "metadata": {
        "id": "_hTGn9gU58SN",
        "colab_type": "code",
        "colab": {}
      },
      "source": [
        "df4['PBS length'] = df5['PBS length']\n",
        "df4['RT template length'] = df5['RT template length']\n",
        "df4['Mean of correct edit'] = df5['Mean of correct edit']"
      ],
      "execution_count": 0,
      "outputs": []
    },
    {
      "cell_type": "code",
      "metadata": {
        "id": "msjpp-I_6Gt0",
        "colab_type": "code",
        "colab": {}
      },
      "source": [
        "df4 = df4.drop(['Unnamed: 0'], axis=1)"
      ],
      "execution_count": 0,
      "outputs": []
    },
    {
      "cell_type": "code",
      "metadata": {
        "id": "LUXjFncID__p",
        "colab_type": "code",
        "colab": {}
      },
      "source": [
        "# Replace a, c, g, t with 0.25, 0.50, 0.75, 1.00 repectively, this is equal to ordinal encoding\n",
        "df4.replace(['a', 'c', 'g', 't'], [0.25, 0.50, 0.75, 1.00], inplace=True)"
      ],
      "execution_count": 0,
      "outputs": []
    },
    {
      "cell_type": "code",
      "metadata": {
        "id": "gn0TkIBr3Wbd",
        "colab_type": "code",
        "colab": {}
      },
      "source": [
        "vectors_40mtrx = df4"
      ],
      "execution_count": 0,
      "outputs": []
    },
    {
      "cell_type": "markdown",
      "metadata": {
        "id": "Rgw9WNTw-nP9",
        "colab_type": "text"
      },
      "source": [
        " Set features as X and target variable as y"
      ]
    },
    {
      "cell_type": "code",
      "metadata": {
        "id": "x74_cvVgf1NY",
        "colab_type": "code",
        "colab": {}
      },
      "source": [
        "# Features\n",
        "X = vectors_40mtrx.drop('Mean of correct edit', axis=1)"
      ],
      "execution_count": 0,
      "outputs": []
    },
    {
      "cell_type": "code",
      "metadata": {
        "id": "6mDcQ2SQf3OV",
        "colab_type": "code",
        "colab": {}
      },
      "source": [
        "# Target variable\n",
        "y = df5['Mean of correct edit']"
      ],
      "execution_count": 0,
      "outputs": []
    },
    {
      "cell_type": "code",
      "metadata": {
        "id": "MrQV2czu1Mmm",
        "colab_type": "code",
        "colab": {}
      },
      "source": [
        "# Splitting the dataset into the training set and test set\n",
        "from sklearn.model_selection import train_test_split\n",
        "X_train, X_test, y_train, y_test = train_test_split(X, y, test_size = 0.3, random_state=42)"
      ],
      "execution_count": 0,
      "outputs": []
    },
    {
      "cell_type": "markdown",
      "metadata": {
        "id": "yNnYmlKV-k7T",
        "colab_type": "text"
      },
      "source": [
        "Random Forest Regressor"
      ]
    },
    {
      "cell_type": "code",
      "metadata": {
        "id": "X0JyOA1bf4OV",
        "colab_type": "code",
        "colab": {}
      },
      "source": [
        "# Import the Random Forest Regressor model\n",
        "from sklearn.ensemble import RandomForestRegressor"
      ],
      "execution_count": 0,
      "outputs": []
    },
    {
      "cell_type": "code",
      "metadata": {
        "id": "Kpri7wcIf7Jg",
        "colab_type": "code",
        "outputId": "c503201e-0542-4db1-b57d-9d6afa44af8a",
        "colab": {
          "base_uri": "https://localhost:8080/",
          "height": 51
        }
      },
      "source": [
        "print(X_train.shape)\n",
        "print(X_test.shape)"
      ],
      "execution_count": 0,
      "outputs": [
        {
          "output_type": "stream",
          "text": [
            "(39, 42)\n",
            "(17, 42)\n"
          ],
          "name": "stdout"
        }
      ]
    },
    {
      "cell_type": "code",
      "metadata": {
        "id": "zU6Kc1ymf8sN",
        "colab_type": "code",
        "outputId": "0008bbd8-a036-4157-b0de-4f8107caf138",
        "colab": {
          "base_uri": "https://localhost:8080/",
          "height": 51
        }
      },
      "source": [
        "print(y_train.shape)\n",
        "print(y_test.shape)"
      ],
      "execution_count": 0,
      "outputs": [
        {
          "output_type": "stream",
          "text": [
            "(39,)\n",
            "(17,)\n"
          ],
          "name": "stdout"
        }
      ]
    },
    {
      "cell_type": "code",
      "metadata": {
        "id": "8oVOtKRSf-Mv",
        "colab_type": "code",
        "outputId": "3e2cb245-bf7b-4a58-f82d-0c064c24a2d6",
        "colab": {
          "base_uri": "https://localhost:8080/",
          "height": 357
        }
      },
      "source": [
        "# Grid search the Random Forest Regressor\n",
        "from sklearn.model_selection import GridSearchCV\n",
        "\n",
        "# Setting the static parameters\n",
        "rfr = RandomForestRegressor(bootstrap=True, random_state=42, n_jobs=3)\n",
        "\n",
        "param_grid = dict(n_estimators=[10, 25, 50, 100, 1000],\n",
        "                  max_depth=[5, 10, 20, 30],\n",
        "                  min_samples_leaf=[1,2,4])\n",
        "\n",
        "grid = GridSearchCV(rfr, param_grid, cv=10,\n",
        "                    scoring='neg_mean_squared_error')\n",
        "grid.fit(X_train,y_train)"
      ],
      "execution_count": 0,
      "outputs": [
        {
          "output_type": "execute_result",
          "data": {
            "text/plain": [
              "GridSearchCV(cv=10, error_score=nan,\n",
              "             estimator=RandomForestRegressor(bootstrap=True, ccp_alpha=0.0,\n",
              "                                             criterion='mse', max_depth=None,\n",
              "                                             max_features='auto',\n",
              "                                             max_leaf_nodes=None,\n",
              "                                             max_samples=None,\n",
              "                                             min_impurity_decrease=0.0,\n",
              "                                             min_impurity_split=None,\n",
              "                                             min_samples_leaf=1,\n",
              "                                             min_samples_split=2,\n",
              "                                             min_weight_fraction_leaf=0.0,\n",
              "                                             n_estimators=100, n_jobs=3,\n",
              "                                             oob_score=False, random_state=42,\n",
              "                                             verbose=0, warm_start=False),\n",
              "             iid='deprecated', n_jobs=None,\n",
              "             param_grid={'max_depth': [5, 10, 20, 30],\n",
              "                         'min_samples_leaf': [1, 2, 4],\n",
              "                         'n_estimators': [10, 25, 50, 100, 1000]},\n",
              "             pre_dispatch='2*n_jobs', refit=True, return_train_score=False,\n",
              "             scoring='neg_mean_squared_error', verbose=0)"
            ]
          },
          "metadata": {
            "tags": []
          },
          "execution_count": 16
        }
      ]
    },
    {
      "cell_type": "code",
      "metadata": {
        "id": "rXwZfL4JgOWi",
        "colab_type": "code",
        "colab": {}
      },
      "source": [
        "print(\"grid.cv_results_ {}\".format(grid.cv_results_))"
      ],
      "execution_count": 0,
      "outputs": []
    },
    {
      "cell_type": "code",
      "metadata": {
        "id": "7Hfbp0wqgS-l",
        "colab_type": "code",
        "outputId": "ce263717-0086-4856-d729-ee2f5ac568b7",
        "colab": {
          "base_uri": "https://localhost:8080/",
          "height": 153
        }
      },
      "source": [
        "print(\"grid.best_params_ {}\".format(grid.best_params_))\n",
        "print(\"grid.best_estimator_ {}\".format(grid.best_estimator_)) "
      ],
      "execution_count": 0,
      "outputs": [
        {
          "output_type": "stream",
          "text": [
            "grid.best_params_ {'max_depth': 5, 'min_samples_leaf': 1, 'n_estimators': 100}\n",
            "grid.best_estimator_ RandomForestRegressor(bootstrap=True, ccp_alpha=0.0, criterion='mse',\n",
            "                      max_depth=5, max_features='auto', max_leaf_nodes=None,\n",
            "                      max_samples=None, min_impurity_decrease=0.0,\n",
            "                      min_impurity_split=None, min_samples_leaf=1,\n",
            "                      min_samples_split=2, min_weight_fraction_leaf=0.0,\n",
            "                      n_estimators=100, n_jobs=3, oob_score=False,\n",
            "                      random_state=42, verbose=0, warm_start=False)\n"
          ],
          "name": "stdout"
        }
      ]
    },
    {
      "cell_type": "code",
      "metadata": {
        "id": "uvkDGx8dgUPJ",
        "colab_type": "code",
        "colab": {}
      },
      "source": [
        "# Instantiate model with grid search parameters\n",
        "rf = RandomForestRegressor(bootstrap=True, ccp_alpha=0.0, criterion='mse',\n",
        "                      max_depth=5, max_features='auto', max_leaf_nodes=None,\n",
        "                      max_samples=None, min_impurity_decrease=0.0,\n",
        "                      min_impurity_split=None, min_samples_leaf=1,\n",
        "                      min_samples_split=2, min_weight_fraction_leaf=0.0,\n",
        "                      n_estimators=100, n_jobs=3, oob_score=False,\n",
        "                      random_state=42, verbose=0, warm_start=False)"
      ],
      "execution_count": 0,
      "outputs": []
    },
    {
      "cell_type": "code",
      "metadata": {
        "id": "SUs8TprGgXom",
        "colab_type": "code",
        "outputId": "cf77cc6c-980d-46e5-ba17-9ed9d82eb1de",
        "colab": {
          "base_uri": "https://localhost:8080/",
          "height": 136
        }
      },
      "source": [
        "# Train the model on training data\n",
        "rf.fit(X_train, y_train)"
      ],
      "execution_count": 0,
      "outputs": [
        {
          "output_type": "execute_result",
          "data": {
            "text/plain": [
              "RandomForestRegressor(bootstrap=True, ccp_alpha=0.0, criterion='mse',\n",
              "                      max_depth=5, max_features='auto', max_leaf_nodes=None,\n",
              "                      max_samples=None, min_impurity_decrease=0.0,\n",
              "                      min_impurity_split=None, min_samples_leaf=1,\n",
              "                      min_samples_split=2, min_weight_fraction_leaf=0.0,\n",
              "                      n_estimators=100, n_jobs=3, oob_score=False,\n",
              "                      random_state=42, verbose=0, warm_start=False)"
            ]
          },
          "metadata": {
            "tags": []
          },
          "execution_count": 20
        }
      ]
    },
    {
      "cell_type": "code",
      "metadata": {
        "id": "YsJRBDrhgZLh",
        "colab_type": "code",
        "colab": {}
      },
      "source": [
        "# Use the forest's predict method on the test data\n",
        "predictions = rf.predict(X)"
      ],
      "execution_count": 0,
      "outputs": []
    },
    {
      "cell_type": "code",
      "metadata": {
        "id": "BFf9eHo4gaGZ",
        "colab_type": "code",
        "colab": {}
      },
      "source": [
        "# Place predictions in the dataframe\n",
        "vectors_40mtrx['Predictions'] = pd.DataFrame(data=predictions)"
      ],
      "execution_count": 0,
      "outputs": []
    },
    {
      "cell_type": "code",
      "metadata": {
        "id": "KbbB817X8xbG",
        "colab_type": "code",
        "colab": {}
      },
      "source": [
        "results = vectors_40mtrx[['Mean of correct edit', 'Predictions']] "
      ],
      "execution_count": 0,
      "outputs": []
    },
    {
      "cell_type": "code",
      "metadata": {
        "id": "nNXU2uf5z3dD",
        "colab_type": "code",
        "outputId": "7fafc7da-77ad-4356-ae0b-64dfef4cc58a",
        "colab": {
          "base_uri": "https://localhost:8080/",
          "height": 1000
        }
      },
      "source": [
        "# Print the actual values and the model's predictions\n",
        "results"
      ],
      "execution_count": 0,
      "outputs": [
        {
          "output_type": "execute_result",
          "data": {
            "text/html": [
              "<div>\n",
              "<style scoped>\n",
              "    .dataframe tbody tr th:only-of-type {\n",
              "        vertical-align: middle;\n",
              "    }\n",
              "\n",
              "    .dataframe tbody tr th {\n",
              "        vertical-align: top;\n",
              "    }\n",
              "\n",
              "    .dataframe thead th {\n",
              "        text-align: right;\n",
              "    }\n",
              "</style>\n",
              "<table border=\"1\" class=\"dataframe\">\n",
              "  <thead>\n",
              "    <tr style=\"text-align: right;\">\n",
              "      <th></th>\n",
              "      <th>Mean of correct edit</th>\n",
              "      <th>Predictions</th>\n",
              "    </tr>\n",
              "  </thead>\n",
              "  <tbody>\n",
              "    <tr>\n",
              "      <th>0</th>\n",
              "      <td>40.982414</td>\n",
              "      <td>26.237241</td>\n",
              "    </tr>\n",
              "    <tr>\n",
              "      <th>1</th>\n",
              "      <td>32.843033</td>\n",
              "      <td>28.471201</td>\n",
              "    </tr>\n",
              "    <tr>\n",
              "      <th>2</th>\n",
              "      <td>36.210669</td>\n",
              "      <td>33.090670</td>\n",
              "    </tr>\n",
              "    <tr>\n",
              "      <th>3</th>\n",
              "      <td>46.204905</td>\n",
              "      <td>30.636344</td>\n",
              "    </tr>\n",
              "    <tr>\n",
              "      <th>4</th>\n",
              "      <td>42.342045</td>\n",
              "      <td>36.156731</td>\n",
              "    </tr>\n",
              "    <tr>\n",
              "      <th>5</th>\n",
              "      <td>44.501013</td>\n",
              "      <td>34.743312</td>\n",
              "    </tr>\n",
              "    <tr>\n",
              "      <th>6</th>\n",
              "      <td>38.488102</td>\n",
              "      <td>23.445953</td>\n",
              "    </tr>\n",
              "    <tr>\n",
              "      <th>7</th>\n",
              "      <td>29.187135</td>\n",
              "      <td>29.207399</td>\n",
              "    </tr>\n",
              "    <tr>\n",
              "      <th>8</th>\n",
              "      <td>29.959730</td>\n",
              "      <td>34.035801</td>\n",
              "    </tr>\n",
              "    <tr>\n",
              "      <th>9</th>\n",
              "      <td>40.690499</td>\n",
              "      <td>34.212310</td>\n",
              "    </tr>\n",
              "    <tr>\n",
              "      <th>10</th>\n",
              "      <td>33.346109</td>\n",
              "      <td>34.086403</td>\n",
              "    </tr>\n",
              "    <tr>\n",
              "      <th>11</th>\n",
              "      <td>39.143062</td>\n",
              "      <td>35.985007</td>\n",
              "    </tr>\n",
              "    <tr>\n",
              "      <th>12</th>\n",
              "      <td>31.461293</td>\n",
              "      <td>25.884112</td>\n",
              "    </tr>\n",
              "    <tr>\n",
              "      <th>13</th>\n",
              "      <td>0.232247</td>\n",
              "      <td>6.623331</td>\n",
              "    </tr>\n",
              "    <tr>\n",
              "      <th>14</th>\n",
              "      <td>0.243254</td>\n",
              "      <td>2.843269</td>\n",
              "    </tr>\n",
              "    <tr>\n",
              "      <th>15</th>\n",
              "      <td>0.980358</td>\n",
              "      <td>4.424147</td>\n",
              "    </tr>\n",
              "    <tr>\n",
              "      <th>16</th>\n",
              "      <td>3.285856</td>\n",
              "      <td>8.226300</td>\n",
              "    </tr>\n",
              "    <tr>\n",
              "      <th>17</th>\n",
              "      <td>4.693972</td>\n",
              "      <td>14.062876</td>\n",
              "    </tr>\n",
              "    <tr>\n",
              "      <th>18</th>\n",
              "      <td>7.288269</td>\n",
              "      <td>11.866091</td>\n",
              "    </tr>\n",
              "    <tr>\n",
              "      <th>19</th>\n",
              "      <td>7.889493</td>\n",
              "      <td>11.472094</td>\n",
              "    </tr>\n",
              "    <tr>\n",
              "      <th>20</th>\n",
              "      <td>0.343363</td>\n",
              "      <td>6.523777</td>\n",
              "    </tr>\n",
              "    <tr>\n",
              "      <th>21</th>\n",
              "      <td>0.221537</td>\n",
              "      <td>7.861142</td>\n",
              "    </tr>\n",
              "    <tr>\n",
              "      <th>22</th>\n",
              "      <td>2.560767</td>\n",
              "      <td>5.677190</td>\n",
              "    </tr>\n",
              "    <tr>\n",
              "      <th>23</th>\n",
              "      <td>13.011737</td>\n",
              "      <td>14.073779</td>\n",
              "    </tr>\n",
              "    <tr>\n",
              "      <th>24</th>\n",
              "      <td>19.012042</td>\n",
              "      <td>18.979821</td>\n",
              "    </tr>\n",
              "    <tr>\n",
              "      <th>25</th>\n",
              "      <td>19.868651</td>\n",
              "      <td>19.016262</td>\n",
              "    </tr>\n",
              "    <tr>\n",
              "      <th>26</th>\n",
              "      <td>22.122870</td>\n",
              "      <td>18.867773</td>\n",
              "    </tr>\n",
              "    <tr>\n",
              "      <th>27</th>\n",
              "      <td>22.895820</td>\n",
              "      <td>20.867342</td>\n",
              "    </tr>\n",
              "    <tr>\n",
              "      <th>28</th>\n",
              "      <td>15.632697</td>\n",
              "      <td>15.779431</td>\n",
              "    </tr>\n",
              "    <tr>\n",
              "      <th>29</th>\n",
              "      <td>12.021063</td>\n",
              "      <td>14.730402</td>\n",
              "    </tr>\n",
              "    <tr>\n",
              "      <th>30</th>\n",
              "      <td>9.072358</td>\n",
              "      <td>18.730318</td>\n",
              "    </tr>\n",
              "    <tr>\n",
              "      <th>31</th>\n",
              "      <td>7.162188</td>\n",
              "      <td>11.472094</td>\n",
              "    </tr>\n",
              "    <tr>\n",
              "      <th>32</th>\n",
              "      <td>11.391022</td>\n",
              "      <td>12.729860</td>\n",
              "    </tr>\n",
              "    <tr>\n",
              "      <th>33</th>\n",
              "      <td>11.071509</td>\n",
              "      <td>9.341251</td>\n",
              "    </tr>\n",
              "    <tr>\n",
              "      <th>34</th>\n",
              "      <td>32.697945</td>\n",
              "      <td>25.852700</td>\n",
              "    </tr>\n",
              "    <tr>\n",
              "      <th>35</th>\n",
              "      <td>24.046569</td>\n",
              "      <td>21.668498</td>\n",
              "    </tr>\n",
              "    <tr>\n",
              "      <th>36</th>\n",
              "      <td>32.673327</td>\n",
              "      <td>15.620732</td>\n",
              "    </tr>\n",
              "    <tr>\n",
              "      <th>37</th>\n",
              "      <td>27.980605</td>\n",
              "      <td>24.730055</td>\n",
              "    </tr>\n",
              "    <tr>\n",
              "      <th>38</th>\n",
              "      <td>31.558509</td>\n",
              "      <td>27.969844</td>\n",
              "    </tr>\n",
              "    <tr>\n",
              "      <th>39</th>\n",
              "      <td>27.867751</td>\n",
              "      <td>23.176647</td>\n",
              "    </tr>\n",
              "    <tr>\n",
              "      <th>40</th>\n",
              "      <td>14.748934</td>\n",
              "      <td>11.292405</td>\n",
              "    </tr>\n",
              "    <tr>\n",
              "      <th>41</th>\n",
              "      <td>13.799727</td>\n",
              "      <td>18.132357</td>\n",
              "    </tr>\n",
              "    <tr>\n",
              "      <th>42</th>\n",
              "      <td>25.213954</td>\n",
              "      <td>23.024822</td>\n",
              "    </tr>\n",
              "    <tr>\n",
              "      <th>43</th>\n",
              "      <td>24.322523</td>\n",
              "      <td>26.700588</td>\n",
              "    </tr>\n",
              "    <tr>\n",
              "      <th>44</th>\n",
              "      <td>24.812133</td>\n",
              "      <td>21.109568</td>\n",
              "    </tr>\n",
              "    <tr>\n",
              "      <th>45</th>\n",
              "      <td>26.585110</td>\n",
              "      <td>24.998861</td>\n",
              "    </tr>\n",
              "    <tr>\n",
              "      <th>46</th>\n",
              "      <td>9.320976</td>\n",
              "      <td>11.033638</td>\n",
              "    </tr>\n",
              "    <tr>\n",
              "      <th>47</th>\n",
              "      <td>16.740829</td>\n",
              "      <td>10.697649</td>\n",
              "    </tr>\n",
              "    <tr>\n",
              "      <th>48</th>\n",
              "      <td>17.692417</td>\n",
              "      <td>16.340384</td>\n",
              "    </tr>\n",
              "    <tr>\n",
              "      <th>49</th>\n",
              "      <td>16.343508</td>\n",
              "      <td>19.933753</td>\n",
              "    </tr>\n",
              "    <tr>\n",
              "      <th>50</th>\n",
              "      <td>19.979771</td>\n",
              "      <td>12.089079</td>\n",
              "    </tr>\n",
              "    <tr>\n",
              "      <th>51</th>\n",
              "      <td>18.711186</td>\n",
              "      <td>18.449358</td>\n",
              "    </tr>\n",
              "    <tr>\n",
              "      <th>52</th>\n",
              "      <td>22.242170</td>\n",
              "      <td>18.660494</td>\n",
              "    </tr>\n",
              "    <tr>\n",
              "      <th>53</th>\n",
              "      <td>22.305753</td>\n",
              "      <td>21.371781</td>\n",
              "    </tr>\n",
              "    <tr>\n",
              "      <th>54</th>\n",
              "      <td>14.134634</td>\n",
              "      <td>25.164255</td>\n",
              "    </tr>\n",
              "    <tr>\n",
              "      <th>55</th>\n",
              "      <td>0.145917</td>\n",
              "      <td>5.434367</td>\n",
              "    </tr>\n",
              "  </tbody>\n",
              "</table>\n",
              "</div>"
            ],
            "text/plain": [
              "    Mean of correct edit  Predictions\n",
              "0              40.982414    26.237241\n",
              "1              32.843033    28.471201\n",
              "2              36.210669    33.090670\n",
              "3              46.204905    30.636344\n",
              "4              42.342045    36.156731\n",
              "5              44.501013    34.743312\n",
              "6              38.488102    23.445953\n",
              "7              29.187135    29.207399\n",
              "8              29.959730    34.035801\n",
              "9              40.690499    34.212310\n",
              "10             33.346109    34.086403\n",
              "11             39.143062    35.985007\n",
              "12             31.461293    25.884112\n",
              "13              0.232247     6.623331\n",
              "14              0.243254     2.843269\n",
              "15              0.980358     4.424147\n",
              "16              3.285856     8.226300\n",
              "17              4.693972    14.062876\n",
              "18              7.288269    11.866091\n",
              "19              7.889493    11.472094\n",
              "20              0.343363     6.523777\n",
              "21              0.221537     7.861142\n",
              "22              2.560767     5.677190\n",
              "23             13.011737    14.073779\n",
              "24             19.012042    18.979821\n",
              "25             19.868651    19.016262\n",
              "26             22.122870    18.867773\n",
              "27             22.895820    20.867342\n",
              "28             15.632697    15.779431\n",
              "29             12.021063    14.730402\n",
              "30              9.072358    18.730318\n",
              "31              7.162188    11.472094\n",
              "32             11.391022    12.729860\n",
              "33             11.071509     9.341251\n",
              "34             32.697945    25.852700\n",
              "35             24.046569    21.668498\n",
              "36             32.673327    15.620732\n",
              "37             27.980605    24.730055\n",
              "38             31.558509    27.969844\n",
              "39             27.867751    23.176647\n",
              "40             14.748934    11.292405\n",
              "41             13.799727    18.132357\n",
              "42             25.213954    23.024822\n",
              "43             24.322523    26.700588\n",
              "44             24.812133    21.109568\n",
              "45             26.585110    24.998861\n",
              "46              9.320976    11.033638\n",
              "47             16.740829    10.697649\n",
              "48             17.692417    16.340384\n",
              "49             16.343508    19.933753\n",
              "50             19.979771    12.089079\n",
              "51             18.711186    18.449358\n",
              "52             22.242170    18.660494\n",
              "53             22.305753    21.371781\n",
              "54             14.134634    25.164255\n",
              "55              0.145917     5.434367"
            ]
          },
          "metadata": {
            "tags": []
          },
          "execution_count": 24
        }
      ]
    },
    {
      "cell_type": "code",
      "metadata": {
        "id": "bi69nUvigbEr",
        "colab_type": "code",
        "outputId": "0be52f3c-4797-452c-8793-ea4c2b783405",
        "colab": {
          "base_uri": "https://localhost:8080/",
          "height": 68
        }
      },
      "source": [
        "import sklearn.metrics as metrics\n",
        "\n",
        "# Calculate MAE, MSE, RMSE\n",
        "print(metrics.mean_absolute_error(vectors_40mtrx['Mean of correct edit'],predictions))\n",
        "print(metrics.mean_squared_error(vectors_40mtrx['Mean of correct edit'], predictions))\n",
        "print(np.sqrt(metrics.mean_squared_error(vectors_40mtrx['Mean of correct edit'], predictions)))"
      ],
      "execution_count": 0,
      "outputs": [
        {
          "output_type": "stream",
          "text": [
            "4.73108756508952\n",
            "37.979343797720176\n",
            "6.162738335976969\n"
          ],
          "name": "stdout"
        }
      ]
    },
    {
      "cell_type": "markdown",
      "metadata": {
        "id": "M4cJZYDnpNhG",
        "colab_type": "text"
      },
      "source": [
        "Gradient Boosting Regressor"
      ]
    },
    {
      "cell_type": "code",
      "metadata": {
        "id": "jIV7hWcvitBU",
        "colab_type": "code",
        "colab": {}
      },
      "source": [
        "# Import the Gradient Boosting Regressor model\n",
        "from sklearn.ensemble import GradientBoostingRegressor"
      ],
      "execution_count": 0,
      "outputs": []
    },
    {
      "cell_type": "code",
      "metadata": {
        "id": "F49y_dd8pZSo",
        "colab_type": "code",
        "outputId": "4a6dfebb-9a10-41a0-f001-4e2e7ad51de9",
        "colab": {
          "base_uri": "https://localhost:8080/",
          "height": 85
        }
      },
      "source": [
        "#Random Search Gradient Boosting Regressor\n",
        "from sklearn.model_selection import GridSearchCV\n",
        "\n",
        "param_grid = {'learning_rate': [0.1, 0.05, 0.02, 0.01],\n",
        "'max_depth': [4, 6],\n",
        "'min_samples_leaf': [3, 5, 9, 17],\n",
        "'max_features': [1.0, 0.3, 0.1]}\n",
        "\n",
        "est = GradientBoostingRegressor(n_estimators=3000)\n",
        "gs_cv = GridSearchCV(est, param_grid, n_jobs=4).fit(X_train, y_train)\n",
        "\n",
        "# Best hyperparameter setting\n",
        "gs_cv.best_params_"
      ],
      "execution_count": 0,
      "outputs": [
        {
          "output_type": "execute_result",
          "data": {
            "text/plain": [
              "{'learning_rate': 0.01,\n",
              " 'max_depth': 4,\n",
              " 'max_features': 0.1,\n",
              " 'min_samples_leaf': 9}"
            ]
          },
          "metadata": {
            "tags": []
          },
          "execution_count": 28
        }
      ]
    },
    {
      "cell_type": "code",
      "metadata": {
        "id": "5xCrOudNpZXJ",
        "colab_type": "code",
        "colab": {}
      },
      "source": [
        "# Parameters from grid search\n",
        "gbr = GradientBoostingRegressor(n_estimators=3000, max_depth=4, learning_rate=0.01,\n",
        "                                loss='huber', max_features=0.1,\n",
        "                                min_samples_leaf=9)"
      ],
      "execution_count": 0,
      "outputs": []
    },
    {
      "cell_type": "code",
      "metadata": {
        "id": "rJaqZ4rWpZcc",
        "colab_type": "code",
        "outputId": "cd70a714-4d86-4b74-b960-32531d618425",
        "colab": {
          "base_uri": "https://localhost:8080/",
          "height": 170
        }
      },
      "source": [
        "gbr.fit(X_train, y_train)"
      ],
      "execution_count": 0,
      "outputs": [
        {
          "output_type": "execute_result",
          "data": {
            "text/plain": [
              "GradientBoostingRegressor(alpha=0.9, ccp_alpha=0.0, criterion='friedman_mse',\n",
              "                          init=None, learning_rate=0.01, loss='huber',\n",
              "                          max_depth=4, max_features=0.1, max_leaf_nodes=None,\n",
              "                          min_impurity_decrease=0.0, min_impurity_split=None,\n",
              "                          min_samples_leaf=9, min_samples_split=2,\n",
              "                          min_weight_fraction_leaf=0.0, n_estimators=3000,\n",
              "                          n_iter_no_change=None, presort='deprecated',\n",
              "                          random_state=None, subsample=1.0, tol=0.0001,\n",
              "                          validation_fraction=0.1, verbose=0, warm_start=False)"
            ]
          },
          "metadata": {
            "tags": []
          },
          "execution_count": 30
        }
      ]
    },
    {
      "cell_type": "code",
      "metadata": {
        "id": "Kgib1OdqpZau",
        "colab_type": "code",
        "colab": {}
      },
      "source": [
        "# Use the Gradient Boosting Regressor predict method on the test data\n",
        "predictions2 = gbr.predict(X)"
      ],
      "execution_count": 0,
      "outputs": []
    },
    {
      "cell_type": "code",
      "metadata": {
        "id": "HKCVcBBmpZVj",
        "colab_type": "code",
        "colab": {}
      },
      "source": [
        "# Place predictions in the dataframe\n",
        "vectors_40mtrx['Predictions 2'] = pd.DataFrame(data=predictions2)"
      ],
      "execution_count": 0,
      "outputs": []
    },
    {
      "cell_type": "code",
      "metadata": {
        "id": "aikh7o-y-WdA",
        "colab_type": "code",
        "colab": {}
      },
      "source": [
        "results2 = vectors_40mtrx[['Mean of correct edit', 'Predictions 2']] "
      ],
      "execution_count": 0,
      "outputs": []
    },
    {
      "cell_type": "code",
      "metadata": {
        "id": "YDBSdJ4D2XSM",
        "colab_type": "code",
        "outputId": "9faeebfe-a8da-45b7-ea37-1305c2eb163f",
        "colab": {
          "base_uri": "https://localhost:8080/",
          "height": 1000
        }
      },
      "source": [
        "# Print the actual values and the model's predictions\n",
        "results2"
      ],
      "execution_count": 0,
      "outputs": [
        {
          "output_type": "execute_result",
          "data": {
            "text/html": [
              "<div>\n",
              "<style scoped>\n",
              "    .dataframe tbody tr th:only-of-type {\n",
              "        vertical-align: middle;\n",
              "    }\n",
              "\n",
              "    .dataframe tbody tr th {\n",
              "        vertical-align: top;\n",
              "    }\n",
              "\n",
              "    .dataframe thead th {\n",
              "        text-align: right;\n",
              "    }\n",
              "</style>\n",
              "<table border=\"1\" class=\"dataframe\">\n",
              "  <thead>\n",
              "    <tr style=\"text-align: right;\">\n",
              "      <th></th>\n",
              "      <th>Mean of correct edit</th>\n",
              "      <th>Predictions 2</th>\n",
              "    </tr>\n",
              "  </thead>\n",
              "  <tbody>\n",
              "    <tr>\n",
              "      <th>0</th>\n",
              "      <td>40.982414</td>\n",
              "      <td>29.565791</td>\n",
              "    </tr>\n",
              "    <tr>\n",
              "      <th>1</th>\n",
              "      <td>32.843033</td>\n",
              "      <td>32.738961</td>\n",
              "    </tr>\n",
              "    <tr>\n",
              "      <th>2</th>\n",
              "      <td>36.210669</td>\n",
              "      <td>37.805063</td>\n",
              "    </tr>\n",
              "    <tr>\n",
              "      <th>3</th>\n",
              "      <td>46.204905</td>\n",
              "      <td>35.533021</td>\n",
              "    </tr>\n",
              "    <tr>\n",
              "      <th>4</th>\n",
              "      <td>42.342045</td>\n",
              "      <td>39.412034</td>\n",
              "    </tr>\n",
              "    <tr>\n",
              "      <th>5</th>\n",
              "      <td>44.501013</td>\n",
              "      <td>41.216907</td>\n",
              "    </tr>\n",
              "    <tr>\n",
              "      <th>6</th>\n",
              "      <td>38.488102</td>\n",
              "      <td>30.553989</td>\n",
              "    </tr>\n",
              "    <tr>\n",
              "      <th>7</th>\n",
              "      <td>29.187135</td>\n",
              "      <td>30.367173</td>\n",
              "    </tr>\n",
              "    <tr>\n",
              "      <th>8</th>\n",
              "      <td>29.959730</td>\n",
              "      <td>37.958706</td>\n",
              "    </tr>\n",
              "    <tr>\n",
              "      <th>9</th>\n",
              "      <td>40.690499</td>\n",
              "      <td>37.950018</td>\n",
              "    </tr>\n",
              "    <tr>\n",
              "      <th>10</th>\n",
              "      <td>33.346109</td>\n",
              "      <td>35.812597</td>\n",
              "    </tr>\n",
              "    <tr>\n",
              "      <th>11</th>\n",
              "      <td>39.143062</td>\n",
              "      <td>38.428207</td>\n",
              "    </tr>\n",
              "    <tr>\n",
              "      <th>12</th>\n",
              "      <td>31.461293</td>\n",
              "      <td>25.768890</td>\n",
              "    </tr>\n",
              "    <tr>\n",
              "      <th>13</th>\n",
              "      <td>0.232247</td>\n",
              "      <td>0.574553</td>\n",
              "    </tr>\n",
              "    <tr>\n",
              "      <th>14</th>\n",
              "      <td>0.243254</td>\n",
              "      <td>0.250164</td>\n",
              "    </tr>\n",
              "    <tr>\n",
              "      <th>15</th>\n",
              "      <td>0.980358</td>\n",
              "      <td>0.403148</td>\n",
              "    </tr>\n",
              "    <tr>\n",
              "      <th>16</th>\n",
              "      <td>3.285856</td>\n",
              "      <td>9.093572</td>\n",
              "    </tr>\n",
              "    <tr>\n",
              "      <th>17</th>\n",
              "      <td>4.693972</td>\n",
              "      <td>11.784638</td>\n",
              "    </tr>\n",
              "    <tr>\n",
              "      <th>18</th>\n",
              "      <td>7.288269</td>\n",
              "      <td>8.401785</td>\n",
              "    </tr>\n",
              "    <tr>\n",
              "      <th>19</th>\n",
              "      <td>7.889493</td>\n",
              "      <td>10.094352</td>\n",
              "    </tr>\n",
              "    <tr>\n",
              "      <th>20</th>\n",
              "      <td>0.343363</td>\n",
              "      <td>1.943518</td>\n",
              "    </tr>\n",
              "    <tr>\n",
              "      <th>21</th>\n",
              "      <td>0.221537</td>\n",
              "      <td>2.210435</td>\n",
              "    </tr>\n",
              "    <tr>\n",
              "      <th>22</th>\n",
              "      <td>2.560767</td>\n",
              "      <td>3.854250</td>\n",
              "    </tr>\n",
              "    <tr>\n",
              "      <th>23</th>\n",
              "      <td>13.011737</td>\n",
              "      <td>12.587783</td>\n",
              "    </tr>\n",
              "    <tr>\n",
              "      <th>24</th>\n",
              "      <td>19.012042</td>\n",
              "      <td>18.072583</td>\n",
              "    </tr>\n",
              "    <tr>\n",
              "      <th>25</th>\n",
              "      <td>19.868651</td>\n",
              "      <td>17.523264</td>\n",
              "    </tr>\n",
              "    <tr>\n",
              "      <th>26</th>\n",
              "      <td>22.122870</td>\n",
              "      <td>18.652274</td>\n",
              "    </tr>\n",
              "    <tr>\n",
              "      <th>27</th>\n",
              "      <td>22.895820</td>\n",
              "      <td>22.394097</td>\n",
              "    </tr>\n",
              "    <tr>\n",
              "      <th>28</th>\n",
              "      <td>15.632697</td>\n",
              "      <td>14.513876</td>\n",
              "    </tr>\n",
              "    <tr>\n",
              "      <th>29</th>\n",
              "      <td>12.021063</td>\n",
              "      <td>11.625503</td>\n",
              "    </tr>\n",
              "    <tr>\n",
              "      <th>30</th>\n",
              "      <td>9.072358</td>\n",
              "      <td>16.757352</td>\n",
              "    </tr>\n",
              "    <tr>\n",
              "      <th>31</th>\n",
              "      <td>7.162188</td>\n",
              "      <td>10.094352</td>\n",
              "    </tr>\n",
              "    <tr>\n",
              "      <th>32</th>\n",
              "      <td>11.391022</td>\n",
              "      <td>11.890878</td>\n",
              "    </tr>\n",
              "    <tr>\n",
              "      <th>33</th>\n",
              "      <td>11.071509</td>\n",
              "      <td>3.606523</td>\n",
              "    </tr>\n",
              "    <tr>\n",
              "      <th>34</th>\n",
              "      <td>32.697945</td>\n",
              "      <td>26.486439</td>\n",
              "    </tr>\n",
              "    <tr>\n",
              "      <th>35</th>\n",
              "      <td>24.046569</td>\n",
              "      <td>23.968080</td>\n",
              "    </tr>\n",
              "    <tr>\n",
              "      <th>36</th>\n",
              "      <td>32.673327</td>\n",
              "      <td>18.163415</td>\n",
              "    </tr>\n",
              "    <tr>\n",
              "      <th>37</th>\n",
              "      <td>27.980605</td>\n",
              "      <td>28.517789</td>\n",
              "    </tr>\n",
              "    <tr>\n",
              "      <th>38</th>\n",
              "      <td>31.558509</td>\n",
              "      <td>29.334186</td>\n",
              "    </tr>\n",
              "    <tr>\n",
              "      <th>39</th>\n",
              "      <td>27.867751</td>\n",
              "      <td>23.720154</td>\n",
              "    </tr>\n",
              "    <tr>\n",
              "      <th>40</th>\n",
              "      <td>14.748934</td>\n",
              "      <td>11.748149</td>\n",
              "    </tr>\n",
              "    <tr>\n",
              "      <th>41</th>\n",
              "      <td>13.799727</td>\n",
              "      <td>13.905850</td>\n",
              "    </tr>\n",
              "    <tr>\n",
              "      <th>42</th>\n",
              "      <td>25.213954</td>\n",
              "      <td>24.529160</td>\n",
              "    </tr>\n",
              "    <tr>\n",
              "      <th>43</th>\n",
              "      <td>24.322523</td>\n",
              "      <td>24.825125</td>\n",
              "    </tr>\n",
              "    <tr>\n",
              "      <th>44</th>\n",
              "      <td>24.812133</td>\n",
              "      <td>19.642583</td>\n",
              "    </tr>\n",
              "    <tr>\n",
              "      <th>45</th>\n",
              "      <td>26.585110</td>\n",
              "      <td>27.913893</td>\n",
              "    </tr>\n",
              "    <tr>\n",
              "      <th>46</th>\n",
              "      <td>9.320976</td>\n",
              "      <td>11.005678</td>\n",
              "    </tr>\n",
              "    <tr>\n",
              "      <th>47</th>\n",
              "      <td>16.740829</td>\n",
              "      <td>9.488505</td>\n",
              "    </tr>\n",
              "    <tr>\n",
              "      <th>48</th>\n",
              "      <td>17.692417</td>\n",
              "      <td>15.973935</td>\n",
              "    </tr>\n",
              "    <tr>\n",
              "      <th>49</th>\n",
              "      <td>16.343508</td>\n",
              "      <td>19.056391</td>\n",
              "    </tr>\n",
              "    <tr>\n",
              "      <th>50</th>\n",
              "      <td>19.979771</td>\n",
              "      <td>9.643054</td>\n",
              "    </tr>\n",
              "    <tr>\n",
              "      <th>51</th>\n",
              "      <td>18.711186</td>\n",
              "      <td>18.687297</td>\n",
              "    </tr>\n",
              "    <tr>\n",
              "      <th>52</th>\n",
              "      <td>22.242170</td>\n",
              "      <td>20.240779</td>\n",
              "    </tr>\n",
              "    <tr>\n",
              "      <th>53</th>\n",
              "      <td>22.305753</td>\n",
              "      <td>23.458255</td>\n",
              "    </tr>\n",
              "    <tr>\n",
              "      <th>54</th>\n",
              "      <td>14.134634</td>\n",
              "      <td>30.113678</td>\n",
              "    </tr>\n",
              "    <tr>\n",
              "      <th>55</th>\n",
              "      <td>0.145917</td>\n",
              "      <td>2.408141</td>\n",
              "    </tr>\n",
              "  </tbody>\n",
              "</table>\n",
              "</div>"
            ],
            "text/plain": [
              "    Mean of correct edit  Predictions 2\n",
              "0              40.982414      29.565791\n",
              "1              32.843033      32.738961\n",
              "2              36.210669      37.805063\n",
              "3              46.204905      35.533021\n",
              "4              42.342045      39.412034\n",
              "5              44.501013      41.216907\n",
              "6              38.488102      30.553989\n",
              "7              29.187135      30.367173\n",
              "8              29.959730      37.958706\n",
              "9              40.690499      37.950018\n",
              "10             33.346109      35.812597\n",
              "11             39.143062      38.428207\n",
              "12             31.461293      25.768890\n",
              "13              0.232247       0.574553\n",
              "14              0.243254       0.250164\n",
              "15              0.980358       0.403148\n",
              "16              3.285856       9.093572\n",
              "17              4.693972      11.784638\n",
              "18              7.288269       8.401785\n",
              "19              7.889493      10.094352\n",
              "20              0.343363       1.943518\n",
              "21              0.221537       2.210435\n",
              "22              2.560767       3.854250\n",
              "23             13.011737      12.587783\n",
              "24             19.012042      18.072583\n",
              "25             19.868651      17.523264\n",
              "26             22.122870      18.652274\n",
              "27             22.895820      22.394097\n",
              "28             15.632697      14.513876\n",
              "29             12.021063      11.625503\n",
              "30              9.072358      16.757352\n",
              "31              7.162188      10.094352\n",
              "32             11.391022      11.890878\n",
              "33             11.071509       3.606523\n",
              "34             32.697945      26.486439\n",
              "35             24.046569      23.968080\n",
              "36             32.673327      18.163415\n",
              "37             27.980605      28.517789\n",
              "38             31.558509      29.334186\n",
              "39             27.867751      23.720154\n",
              "40             14.748934      11.748149\n",
              "41             13.799727      13.905850\n",
              "42             25.213954      24.529160\n",
              "43             24.322523      24.825125\n",
              "44             24.812133      19.642583\n",
              "45             26.585110      27.913893\n",
              "46              9.320976      11.005678\n",
              "47             16.740829       9.488505\n",
              "48             17.692417      15.973935\n",
              "49             16.343508      19.056391\n",
              "50             19.979771       9.643054\n",
              "51             18.711186      18.687297\n",
              "52             22.242170      20.240779\n",
              "53             22.305753      23.458255\n",
              "54             14.134634      30.113678\n",
              "55              0.145917       2.408141"
            ]
          },
          "metadata": {
            "tags": []
          },
          "execution_count": 34
        }
      ]
    },
    {
      "cell_type": "code",
      "metadata": {
        "id": "65SQH9qhpZOI",
        "colab_type": "code",
        "outputId": "d3860e80-f77e-49a8-f7ea-b461bff99e72",
        "colab": {
          "base_uri": "https://localhost:8080/",
          "height": 68
        }
      },
      "source": [
        "import sklearn.metrics as metrics\n",
        "\n",
        "# Calculate MAE, MSE, RMSE\n",
        "print(metrics.mean_absolute_error(vectors_40mtrx['Mean of correct edit'], predictions2))\n",
        "print(metrics.mean_squared_error(vectors_40mtrx['Mean of correct edit'], predictions2))\n",
        "print(np.sqrt(metrics.mean_squared_error(vectors_40mtrx['Mean of correct edit'], predictions2)))"
      ],
      "execution_count": 0,
      "outputs": [
        {
          "output_type": "stream",
          "text": [
            "3.431383267098005\n",
            "25.567939753671965\n",
            "5.056475032438306\n"
          ],
          "name": "stdout"
        }
      ]
    },
    {
      "cell_type": "markdown",
      "metadata": {
        "id": "2liaJ5nDA5oT",
        "colab_type": "text"
      },
      "source": [
        "## **Fillna = 0 method**"
      ]
    },
    {
      "cell_type": "code",
      "metadata": {
        "id": "_R2MIH0oCpXx",
        "colab_type": "code",
        "colab": {}
      },
      "source": [
        "# Split each sequence to columnns and convert base pairs to lowercase\n",
        "df3 = df5['3extension'].apply(lambda x: [z for y in x for z in y.strip(\"'\").lower().split()])"
      ],
      "execution_count": 0,
      "outputs": []
    },
    {
      "cell_type": "code",
      "metadata": {
        "id": "UTg1qQ0bCyj6",
        "colab_type": "code",
        "colab": {}
      },
      "source": [
        "df3 = df3.apply(pd.Series)"
      ],
      "execution_count": 0,
      "outputs": []
    },
    {
      "cell_type": "code",
      "metadata": {
        "id": "vuL9t-VOM7fI",
        "colab_type": "code",
        "colab": {}
      },
      "source": [
        "# Replace a,c,g,t with 0.25, 0.50, 0.75, 1.00 repectively, this is equal to ordinal encoding\n",
        "df3.replace(['a', 'c', 'g', 't'], [0.25, 0.50, 0.75, 1.00], inplace=True)"
      ],
      "execution_count": 0,
      "outputs": []
    },
    {
      "cell_type": "code",
      "metadata": {
        "id": "nyF0gLsO_fmg",
        "colab_type": "code",
        "colab": {}
      },
      "source": [
        "# Replace NaN values with 0\n",
        "df3 = df3.fillna(0)"
      ],
      "execution_count": 0,
      "outputs": []
    },
    {
      "cell_type": "code",
      "metadata": {
        "id": "w2oZg_bF_fpH",
        "colab_type": "code",
        "colab": {}
      },
      "source": [
        "df3['PBS length'] = df5['PBS length']\n",
        "df3['RT template length'] = df5['RT template length']\n",
        "df3['Mean of correct edit'] = df5['Mean of correct edit']"
      ],
      "execution_count": 0,
      "outputs": []
    },
    {
      "cell_type": "code",
      "metadata": {
        "id": "2qEwi9d5_fwT",
        "colab_type": "code",
        "colab": {}
      },
      "source": [
        "df3.sort_values(['RT template length'], ascending=[False])"
      ],
      "execution_count": 0,
      "outputs": []
    },
    {
      "cell_type": "code",
      "metadata": {
        "id": "eETGjPny_f6o",
        "colab_type": "code",
        "colab": {}
      },
      "source": [
        "# Features\n",
        "X = df3.drop('Mean of correct edit', axis=1)"
      ],
      "execution_count": 0,
      "outputs": []
    },
    {
      "cell_type": "code",
      "metadata": {
        "id": "1bwxrFM4_f_C",
        "colab_type": "code",
        "colab": {}
      },
      "source": [
        "# Target variable\n",
        "y = df5['Mean of correct edit']"
      ],
      "execution_count": 0,
      "outputs": []
    },
    {
      "cell_type": "code",
      "metadata": {
        "id": "owZ1Oqd-_gCK",
        "colab_type": "code",
        "colab": {}
      },
      "source": [
        "# Import the Random Forest Regressor model\n",
        "from sklearn.ensemble import RandomForestRegressor"
      ],
      "execution_count": 0,
      "outputs": []
    },
    {
      "cell_type": "code",
      "metadata": {
        "id": "afij_rzu_gG7",
        "colab_type": "code",
        "colab": {}
      },
      "source": [
        "# Splitting the dataset into the training set and test set\n",
        "from sklearn.model_selection import train_test_split\n",
        "X_train, X_test, y_train, y_test = train_test_split(X, y, test_size = 0.3, random_state=42)"
      ],
      "execution_count": 0,
      "outputs": []
    },
    {
      "cell_type": "code",
      "metadata": {
        "id": "LNt2454P_gMZ",
        "colab_type": "code",
        "outputId": "2ab7b6ba-f125-457d-d534-546b3beff4e5",
        "colab": {
          "base_uri": "https://localhost:8080/",
          "height": 51
        }
      },
      "source": [
        "print(X_train.shape)\n",
        "print(X_test.shape)"
      ],
      "execution_count": 0,
      "outputs": [
        {
          "output_type": "stream",
          "text": [
            "(39, 40)\n",
            "(17, 40)\n"
          ],
          "name": "stdout"
        }
      ]
    },
    {
      "cell_type": "code",
      "metadata": {
        "id": "Mxh5O3Lr_gRY",
        "colab_type": "code",
        "outputId": "022c96e1-07b4-4ea7-a8b1-1868efca18ad",
        "colab": {
          "base_uri": "https://localhost:8080/",
          "height": 51
        }
      },
      "source": [
        "print(y_train.shape)\n",
        "print(y_test.shape)"
      ],
      "execution_count": 0,
      "outputs": [
        {
          "output_type": "stream",
          "text": [
            "(39,)\n",
            "(17,)\n"
          ],
          "name": "stdout"
        }
      ]
    },
    {
      "cell_type": "code",
      "metadata": {
        "id": "gmD4TDg2_gWH",
        "colab_type": "code",
        "outputId": "3da074f3-2544-4288-cdfa-c65a57ce6a90",
        "colab": {
          "base_uri": "https://localhost:8080/",
          "height": 357
        }
      },
      "source": [
        "# Grid search the Random Forest Regressor\n",
        "from sklearn.model_selection import GridSearchCV\n",
        "\n",
        "# Setting the static parameters\n",
        "rfr = RandomForestRegressor(bootstrap=True, random_state=42, n_jobs=4)\n",
        "\n",
        "param_grid = dict(n_estimators=[10, 25, 50, 100, 1000],\n",
        "                  max_depth=[5, 10, 20, 30],\n",
        "                  min_samples_leaf=[1,2,4])\n",
        "\n",
        "grid = GridSearchCV(rfr, param_grid, cv=10,\n",
        "                    scoring='neg_mean_squared_error')\n",
        "grid.fit(X_train,y_train)"
      ],
      "execution_count": 0,
      "outputs": [
        {
          "output_type": "execute_result",
          "data": {
            "text/plain": [
              "GridSearchCV(cv=10, error_score=nan,\n",
              "             estimator=RandomForestRegressor(bootstrap=True, ccp_alpha=0.0,\n",
              "                                             criterion='mse', max_depth=None,\n",
              "                                             max_features='auto',\n",
              "                                             max_leaf_nodes=None,\n",
              "                                             max_samples=None,\n",
              "                                             min_impurity_decrease=0.0,\n",
              "                                             min_impurity_split=None,\n",
              "                                             min_samples_leaf=1,\n",
              "                                             min_samples_split=2,\n",
              "                                             min_weight_fraction_leaf=0.0,\n",
              "                                             n_estimators=100, n_jobs=4,\n",
              "                                             oob_score=False, random_state=42,\n",
              "                                             verbose=0, warm_start=False),\n",
              "             iid='deprecated', n_jobs=None,\n",
              "             param_grid={'max_depth': [5, 10, 20, 30],\n",
              "                         'min_samples_leaf': [1, 2, 4],\n",
              "                         'n_estimators': [10, 25, 50, 100, 1000]},\n",
              "             pre_dispatch='2*n_jobs', refit=True, return_train_score=False,\n",
              "             scoring='neg_mean_squared_error', verbose=0)"
            ]
          },
          "metadata": {
            "tags": []
          },
          "execution_count": 113
        }
      ]
    },
    {
      "cell_type": "code",
      "metadata": {
        "id": "Jgh3Casv_gUG",
        "colab_type": "code",
        "colab": {}
      },
      "source": [
        "print(\"grid.cv_results_ {}\".format(grid.cv_results_))"
      ],
      "execution_count": 0,
      "outputs": []
    },
    {
      "cell_type": "code",
      "metadata": {
        "id": "b5tA1dVi_gP_",
        "colab_type": "code",
        "outputId": "baec435f-256b-4f9a-d28b-4a2a08731799",
        "colab": {
          "base_uri": "https://localhost:8080/",
          "height": 170
        }
      },
      "source": [
        "print(\"-grid.best_score_ {}\".format(-grid.best_score_))\n",
        "print(\"grid.best_params_ {}\".format(grid.best_params_))\n",
        "print(\"grid.best_estimator_ {}\".format(grid.best_estimator_)) "
      ],
      "execution_count": 0,
      "outputs": [
        {
          "output_type": "stream",
          "text": [
            "-grid.best_score_ 98.10587088702927\n",
            "grid.best_params_ {'max_depth': 20, 'min_samples_leaf': 1, 'n_estimators': 1000}\n",
            "grid.best_estimator_ RandomForestRegressor(bootstrap=True, ccp_alpha=0.0, criterion='mse',\n",
            "                      max_depth=20, max_features='auto', max_leaf_nodes=None,\n",
            "                      max_samples=None, min_impurity_decrease=0.0,\n",
            "                      min_impurity_split=None, min_samples_leaf=1,\n",
            "                      min_samples_split=2, min_weight_fraction_leaf=0.0,\n",
            "                      n_estimators=1000, n_jobs=4, oob_score=False,\n",
            "                      random_state=42, verbose=0, warm_start=False)\n"
          ],
          "name": "stdout"
        }
      ]
    },
    {
      "cell_type": "code",
      "metadata": {
        "id": "nbEhjdVr_gJ2",
        "colab_type": "code",
        "colab": {}
      },
      "source": [
        "# Instantiate model with grid search parameters\n",
        "rf = RandomForestRegressor(bootstrap=True, ccp_alpha=0.0, criterion='mse',\n",
        "                      max_depth=20, max_features='auto', max_leaf_nodes=None,\n",
        "                      max_samples=None, min_impurity_decrease=0.0,\n",
        "                      min_impurity_split=None, min_samples_leaf=1,\n",
        "                      min_samples_split=2, min_weight_fraction_leaf=0.0,\n",
        "                      n_estimators=1000, n_jobs=4, oob_score=False,\n",
        "                      random_state=42, verbose=0, warm_start=False)"
      ],
      "execution_count": 0,
      "outputs": []
    },
    {
      "cell_type": "code",
      "metadata": {
        "id": "mH_CmxpX_gE2",
        "colab_type": "code",
        "outputId": "f129d1de-0b3d-4545-eb75-12b192eaf980",
        "colab": {
          "base_uri": "https://localhost:8080/",
          "height": 136
        }
      },
      "source": [
        "# Train the model on training data\n",
        "rf.fit(X_train, y_train)"
      ],
      "execution_count": 0,
      "outputs": [
        {
          "output_type": "execute_result",
          "data": {
            "text/plain": [
              "RandomForestRegressor(bootstrap=True, ccp_alpha=0.0, criterion='mse',\n",
              "                      max_depth=20, max_features='auto', max_leaf_nodes=None,\n",
              "                      max_samples=None, min_impurity_decrease=0.0,\n",
              "                      min_impurity_split=None, min_samples_leaf=1,\n",
              "                      min_samples_split=2, min_weight_fraction_leaf=0.0,\n",
              "                      n_estimators=1000, n_jobs=4, oob_score=False,\n",
              "                      random_state=42, verbose=0, warm_start=False)"
            ]
          },
          "metadata": {
            "tags": []
          },
          "execution_count": 117
        }
      ]
    },
    {
      "cell_type": "code",
      "metadata": {
        "id": "BjMoRwe2_f9f",
        "colab_type": "code",
        "colab": {}
      },
      "source": [
        "# Use the forest's predict method on the test data\n",
        "predictions = rf.predict(X)"
      ],
      "execution_count": 0,
      "outputs": []
    },
    {
      "cell_type": "code",
      "metadata": {
        "id": "fBf3awB__f5S",
        "colab_type": "code",
        "colab": {}
      },
      "source": [
        "# Place predictions in the dataframe\n",
        "df3['Predictions'] = pd.DataFrame(data=predictions)"
      ],
      "execution_count": 0,
      "outputs": []
    },
    {
      "cell_type": "code",
      "metadata": {
        "id": "zc0dyLTA_fzv",
        "colab_type": "code",
        "outputId": "d947c89d-abca-4167-dd07-ad07405097c4",
        "colab": {
          "base_uri": "https://localhost:8080/",
          "height": 1000
        }
      },
      "source": [
        "# Print the actual values and the model's predictions\n",
        "df3[['Mean of correct edit', 'Predictions']] "
      ],
      "execution_count": 0,
      "outputs": [
        {
          "output_type": "execute_result",
          "data": {
            "text/html": [
              "<div>\n",
              "<style scoped>\n",
              "    .dataframe tbody tr th:only-of-type {\n",
              "        vertical-align: middle;\n",
              "    }\n",
              "\n",
              "    .dataframe tbody tr th {\n",
              "        vertical-align: top;\n",
              "    }\n",
              "\n",
              "    .dataframe thead th {\n",
              "        text-align: right;\n",
              "    }\n",
              "</style>\n",
              "<table border=\"1\" class=\"dataframe\">\n",
              "  <thead>\n",
              "    <tr style=\"text-align: right;\">\n",
              "      <th></th>\n",
              "      <th>Mean of correct edit</th>\n",
              "      <th>Predictions</th>\n",
              "    </tr>\n",
              "  </thead>\n",
              "  <tbody>\n",
              "    <tr>\n",
              "      <th>0</th>\n",
              "      <td>40.982414</td>\n",
              "      <td>21.381649</td>\n",
              "    </tr>\n",
              "    <tr>\n",
              "      <th>1</th>\n",
              "      <td>32.843033</td>\n",
              "      <td>28.738437</td>\n",
              "    </tr>\n",
              "    <tr>\n",
              "      <th>2</th>\n",
              "      <td>36.210669</td>\n",
              "      <td>29.938973</td>\n",
              "    </tr>\n",
              "    <tr>\n",
              "      <th>3</th>\n",
              "      <td>46.204905</td>\n",
              "      <td>31.370687</td>\n",
              "    </tr>\n",
              "    <tr>\n",
              "      <th>4</th>\n",
              "      <td>42.342045</td>\n",
              "      <td>36.318928</td>\n",
              "    </tr>\n",
              "    <tr>\n",
              "      <th>5</th>\n",
              "      <td>44.501013</td>\n",
              "      <td>31.462871</td>\n",
              "    </tr>\n",
              "    <tr>\n",
              "      <th>6</th>\n",
              "      <td>38.488102</td>\n",
              "      <td>10.144545</td>\n",
              "    </tr>\n",
              "    <tr>\n",
              "      <th>7</th>\n",
              "      <td>29.187135</td>\n",
              "      <td>28.063951</td>\n",
              "    </tr>\n",
              "    <tr>\n",
              "      <th>8</th>\n",
              "      <td>29.959730</td>\n",
              "      <td>30.067672</td>\n",
              "    </tr>\n",
              "    <tr>\n",
              "      <th>9</th>\n",
              "      <td>40.690499</td>\n",
              "      <td>31.825738</td>\n",
              "    </tr>\n",
              "    <tr>\n",
              "      <th>10</th>\n",
              "      <td>33.346109</td>\n",
              "      <td>33.587110</td>\n",
              "    </tr>\n",
              "    <tr>\n",
              "      <th>11</th>\n",
              "      <td>39.143062</td>\n",
              "      <td>32.028194</td>\n",
              "    </tr>\n",
              "    <tr>\n",
              "      <th>12</th>\n",
              "      <td>31.461293</td>\n",
              "      <td>9.812747</td>\n",
              "    </tr>\n",
              "    <tr>\n",
              "      <th>13</th>\n",
              "      <td>0.232247</td>\n",
              "      <td>7.937856</td>\n",
              "    </tr>\n",
              "    <tr>\n",
              "      <th>14</th>\n",
              "      <td>0.243254</td>\n",
              "      <td>4.039556</td>\n",
              "    </tr>\n",
              "    <tr>\n",
              "      <th>15</th>\n",
              "      <td>0.980358</td>\n",
              "      <td>5.938470</td>\n",
              "    </tr>\n",
              "    <tr>\n",
              "      <th>16</th>\n",
              "      <td>3.285856</td>\n",
              "      <td>8.304400</td>\n",
              "    </tr>\n",
              "    <tr>\n",
              "      <th>17</th>\n",
              "      <td>4.693972</td>\n",
              "      <td>13.619387</td>\n",
              "    </tr>\n",
              "    <tr>\n",
              "      <th>18</th>\n",
              "      <td>7.288269</td>\n",
              "      <td>10.823014</td>\n",
              "    </tr>\n",
              "    <tr>\n",
              "      <th>19</th>\n",
              "      <td>7.889493</td>\n",
              "      <td>9.158382</td>\n",
              "    </tr>\n",
              "    <tr>\n",
              "      <th>20</th>\n",
              "      <td>0.343363</td>\n",
              "      <td>6.392326</td>\n",
              "    </tr>\n",
              "    <tr>\n",
              "      <th>21</th>\n",
              "      <td>0.221537</td>\n",
              "      <td>4.130785</td>\n",
              "    </tr>\n",
              "    <tr>\n",
              "      <th>22</th>\n",
              "      <td>2.560767</td>\n",
              "      <td>5.179703</td>\n",
              "    </tr>\n",
              "    <tr>\n",
              "      <th>23</th>\n",
              "      <td>13.011737</td>\n",
              "      <td>12.641670</td>\n",
              "    </tr>\n",
              "    <tr>\n",
              "      <th>24</th>\n",
              "      <td>19.012042</td>\n",
              "      <td>18.751937</td>\n",
              "    </tr>\n",
              "    <tr>\n",
              "      <th>25</th>\n",
              "      <td>19.868651</td>\n",
              "      <td>16.556084</td>\n",
              "    </tr>\n",
              "    <tr>\n",
              "      <th>26</th>\n",
              "      <td>22.122870</td>\n",
              "      <td>17.637367</td>\n",
              "    </tr>\n",
              "    <tr>\n",
              "      <th>27</th>\n",
              "      <td>22.895820</td>\n",
              "      <td>20.184375</td>\n",
              "    </tr>\n",
              "    <tr>\n",
              "      <th>28</th>\n",
              "      <td>15.632697</td>\n",
              "      <td>16.557174</td>\n",
              "    </tr>\n",
              "    <tr>\n",
              "      <th>29</th>\n",
              "      <td>12.021063</td>\n",
              "      <td>13.245448</td>\n",
              "    </tr>\n",
              "    <tr>\n",
              "      <th>30</th>\n",
              "      <td>9.072358</td>\n",
              "      <td>12.109304</td>\n",
              "    </tr>\n",
              "    <tr>\n",
              "      <th>31</th>\n",
              "      <td>7.162188</td>\n",
              "      <td>9.158382</td>\n",
              "    </tr>\n",
              "    <tr>\n",
              "      <th>32</th>\n",
              "      <td>11.391022</td>\n",
              "      <td>10.283486</td>\n",
              "    </tr>\n",
              "    <tr>\n",
              "      <th>33</th>\n",
              "      <td>11.071509</td>\n",
              "      <td>5.986755</td>\n",
              "    </tr>\n",
              "    <tr>\n",
              "      <th>34</th>\n",
              "      <td>32.697945</td>\n",
              "      <td>25.419308</td>\n",
              "    </tr>\n",
              "    <tr>\n",
              "      <th>35</th>\n",
              "      <td>24.046569</td>\n",
              "      <td>23.537815</td>\n",
              "    </tr>\n",
              "    <tr>\n",
              "      <th>36</th>\n",
              "      <td>32.673327</td>\n",
              "      <td>19.682402</td>\n",
              "    </tr>\n",
              "    <tr>\n",
              "      <th>37</th>\n",
              "      <td>27.980605</td>\n",
              "      <td>26.812940</td>\n",
              "    </tr>\n",
              "    <tr>\n",
              "      <th>38</th>\n",
              "      <td>31.558509</td>\n",
              "      <td>28.681633</td>\n",
              "    </tr>\n",
              "    <tr>\n",
              "      <th>39</th>\n",
              "      <td>27.867751</td>\n",
              "      <td>26.121619</td>\n",
              "    </tr>\n",
              "    <tr>\n",
              "      <th>40</th>\n",
              "      <td>14.748934</td>\n",
              "      <td>14.475264</td>\n",
              "    </tr>\n",
              "    <tr>\n",
              "      <th>41</th>\n",
              "      <td>13.799727</td>\n",
              "      <td>17.712922</td>\n",
              "    </tr>\n",
              "    <tr>\n",
              "      <th>42</th>\n",
              "      <td>25.213954</td>\n",
              "      <td>23.657242</td>\n",
              "    </tr>\n",
              "    <tr>\n",
              "      <th>43</th>\n",
              "      <td>24.322523</td>\n",
              "      <td>25.117301</td>\n",
              "    </tr>\n",
              "    <tr>\n",
              "      <th>44</th>\n",
              "      <td>24.812133</td>\n",
              "      <td>25.751970</td>\n",
              "    </tr>\n",
              "    <tr>\n",
              "      <th>45</th>\n",
              "      <td>26.585110</td>\n",
              "      <td>26.097212</td>\n",
              "    </tr>\n",
              "    <tr>\n",
              "      <th>46</th>\n",
              "      <td>9.320976</td>\n",
              "      <td>14.491101</td>\n",
              "    </tr>\n",
              "    <tr>\n",
              "      <th>47</th>\n",
              "      <td>16.740829</td>\n",
              "      <td>13.617775</td>\n",
              "    </tr>\n",
              "    <tr>\n",
              "      <th>48</th>\n",
              "      <td>17.692417</td>\n",
              "      <td>18.854983</td>\n",
              "    </tr>\n",
              "    <tr>\n",
              "      <th>49</th>\n",
              "      <td>16.343508</td>\n",
              "      <td>20.440174</td>\n",
              "    </tr>\n",
              "    <tr>\n",
              "      <th>50</th>\n",
              "      <td>19.979771</td>\n",
              "      <td>15.482282</td>\n",
              "    </tr>\n",
              "    <tr>\n",
              "      <th>51</th>\n",
              "      <td>18.711186</td>\n",
              "      <td>19.839668</td>\n",
              "    </tr>\n",
              "    <tr>\n",
              "      <th>52</th>\n",
              "      <td>22.242170</td>\n",
              "      <td>19.300722</td>\n",
              "    </tr>\n",
              "    <tr>\n",
              "      <th>53</th>\n",
              "      <td>22.305753</td>\n",
              "      <td>22.083390</td>\n",
              "    </tr>\n",
              "    <tr>\n",
              "      <th>54</th>\n",
              "      <td>14.134634</td>\n",
              "      <td>25.385457</td>\n",
              "    </tr>\n",
              "    <tr>\n",
              "      <th>55</th>\n",
              "      <td>0.145917</td>\n",
              "      <td>5.047785</td>\n",
              "    </tr>\n",
              "  </tbody>\n",
              "</table>\n",
              "</div>"
            ],
            "text/plain": [
              "    Mean of correct edit  Predictions\n",
              "0              40.982414    21.381649\n",
              "1              32.843033    28.738437\n",
              "2              36.210669    29.938973\n",
              "3              46.204905    31.370687\n",
              "4              42.342045    36.318928\n",
              "5              44.501013    31.462871\n",
              "6              38.488102    10.144545\n",
              "7              29.187135    28.063951\n",
              "8              29.959730    30.067672\n",
              "9              40.690499    31.825738\n",
              "10             33.346109    33.587110\n",
              "11             39.143062    32.028194\n",
              "12             31.461293     9.812747\n",
              "13              0.232247     7.937856\n",
              "14              0.243254     4.039556\n",
              "15              0.980358     5.938470\n",
              "16              3.285856     8.304400\n",
              "17              4.693972    13.619387\n",
              "18              7.288269    10.823014\n",
              "19              7.889493     9.158382\n",
              "20              0.343363     6.392326\n",
              "21              0.221537     4.130785\n",
              "22              2.560767     5.179703\n",
              "23             13.011737    12.641670\n",
              "24             19.012042    18.751937\n",
              "25             19.868651    16.556084\n",
              "26             22.122870    17.637367\n",
              "27             22.895820    20.184375\n",
              "28             15.632697    16.557174\n",
              "29             12.021063    13.245448\n",
              "30              9.072358    12.109304\n",
              "31              7.162188     9.158382\n",
              "32             11.391022    10.283486\n",
              "33             11.071509     5.986755\n",
              "34             32.697945    25.419308\n",
              "35             24.046569    23.537815\n",
              "36             32.673327    19.682402\n",
              "37             27.980605    26.812940\n",
              "38             31.558509    28.681633\n",
              "39             27.867751    26.121619\n",
              "40             14.748934    14.475264\n",
              "41             13.799727    17.712922\n",
              "42             25.213954    23.657242\n",
              "43             24.322523    25.117301\n",
              "44             24.812133    25.751970\n",
              "45             26.585110    26.097212\n",
              "46              9.320976    14.491101\n",
              "47             16.740829    13.617775\n",
              "48             17.692417    18.854983\n",
              "49             16.343508    20.440174\n",
              "50             19.979771    15.482282\n",
              "51             18.711186    19.839668\n",
              "52             22.242170    19.300722\n",
              "53             22.305753    22.083390\n",
              "54             14.134634    25.385457\n",
              "55              0.145917     5.047785"
            ]
          },
          "metadata": {
            "tags": []
          },
          "execution_count": 120
        }
      ]
    },
    {
      "cell_type": "code",
      "metadata": {
        "id": "v7Q2uz7T_fr_",
        "colab_type": "code",
        "outputId": "2dd9bd35-cf03-4660-9bbc-449b45ca1e0b",
        "colab": {
          "base_uri": "https://localhost:8080/",
          "height": 68
        }
      },
      "source": [
        "import sklearn.metrics as metrics\n",
        "\n",
        "# Calculate MAE, MSE, RMSE\n",
        "print(metrics.mean_absolute_error(df3['Mean of correct edit'],predictions))\n",
        "print(metrics.mean_squared_error(df3['Mean of correct edit'], predictions))\n",
        "print(np.sqrt(metrics.mean_squared_error(df3['Mean of correct edit'], predictions)))"
      ],
      "execution_count": 0,
      "outputs": [
        {
          "output_type": "stream",
          "text": [
            "4.940090990581845\n",
            "55.647902350758145\n",
            "7.4597521641645805\n"
          ],
          "name": "stdout"
        }
      ]
    },
    {
      "cell_type": "markdown",
      "metadata": {
        "id": "2wUeVFZXAl93",
        "colab_type": "text"
      },
      "source": [
        "Gradient Boosting Regressor"
      ]
    },
    {
      "cell_type": "code",
      "metadata": {
        "id": "OPiI-T4E_fbf",
        "colab_type": "code",
        "colab": {}
      },
      "source": [
        "# Import the Gradient Boosting Regressor model\n",
        "from sklearn.ensemble import GradientBoostingRegressor"
      ],
      "execution_count": 0,
      "outputs": []
    },
    {
      "cell_type": "code",
      "metadata": {
        "id": "qxNwvQ6YApEU",
        "colab_type": "code",
        "outputId": "81a02dcb-bae8-4a7d-fcc7-1ac8d85e361a",
        "colab": {
          "base_uri": "https://localhost:8080/",
          "height": 85
        }
      },
      "source": [
        "#Random Search Gradient Boosting Regressor\n",
        "from sklearn.model_selection import GridSearchCV\n",
        "\n",
        "param_grid = {'learning_rate': [0.1, 0.05, 0.02, 0.01],\n",
        "'max_depth': [4, 6],\n",
        "'min_samples_leaf': [3, 5, 9, 17],\n",
        "'max_features': [1.0, 0.3, 0.1]}\n",
        "\n",
        "est = GradientBoostingRegressor(n_estimators=3000)\n",
        "gs_cv = GridSearchCV(est, param_grid, n_jobs=4).fit(X_train, y_train)\n",
        "\n",
        "# Best hyperparameter setting\n",
        "gs_cv.best_params_"
      ],
      "execution_count": 0,
      "outputs": [
        {
          "output_type": "execute_result",
          "data": {
            "text/plain": [
              "{'learning_rate': 0.01,\n",
              " 'max_depth': 4,\n",
              " 'max_features': 1.0,\n",
              " 'min_samples_leaf': 3}"
            ]
          },
          "metadata": {
            "tags": []
          },
          "execution_count": 124
        }
      ]
    },
    {
      "cell_type": "code",
      "metadata": {
        "id": "_xyrIwLvApIu",
        "colab_type": "code",
        "colab": {}
      },
      "source": [
        "# Parameters from grid search\n",
        "gbr = GradientBoostingRegressor(n_estimators=3000, max_depth=4, learning_rate=0.01,\n",
        "                                loss='huber', max_features=1.0,\n",
        "                                min_samples_leaf=3)"
      ],
      "execution_count": 0,
      "outputs": []
    },
    {
      "cell_type": "code",
      "metadata": {
        "id": "CkeDuuH3ApM9",
        "colab_type": "code",
        "outputId": "e3091c7f-477d-4e2a-e819-53938d7776cb",
        "colab": {
          "base_uri": "https://localhost:8080/",
          "height": 170
        }
      },
      "source": [
        "gbr.fit(X_train, y_train)"
      ],
      "execution_count": 0,
      "outputs": [
        {
          "output_type": "execute_result",
          "data": {
            "text/plain": [
              "GradientBoostingRegressor(alpha=0.9, ccp_alpha=0.0, criterion='friedman_mse',\n",
              "                          init=None, learning_rate=0.01, loss='huber',\n",
              "                          max_depth=4, max_features=1.0, max_leaf_nodes=None,\n",
              "                          min_impurity_decrease=0.0, min_impurity_split=None,\n",
              "                          min_samples_leaf=3, min_samples_split=2,\n",
              "                          min_weight_fraction_leaf=0.0, n_estimators=3000,\n",
              "                          n_iter_no_change=None, presort='deprecated',\n",
              "                          random_state=None, subsample=1.0, tol=0.0001,\n",
              "                          validation_fraction=0.1, verbose=0, warm_start=False)"
            ]
          },
          "metadata": {
            "tags": []
          },
          "execution_count": 127
        }
      ]
    },
    {
      "cell_type": "code",
      "metadata": {
        "id": "3itCgyS3AuO7",
        "colab_type": "code",
        "colab": {}
      },
      "source": [
        "# Use the Gradient Boosting Regressor predict method on the test data\n",
        "predictions2 = gbr.predict(X)"
      ],
      "execution_count": 0,
      "outputs": []
    },
    {
      "cell_type": "code",
      "metadata": {
        "id": "EkTyyVQ5AuT9",
        "colab_type": "code",
        "colab": {}
      },
      "source": [
        "# Place predictions in the dataframe\n",
        "df3['Predictions 2'] = pd.DataFrame(data=predictions2)"
      ],
      "execution_count": 0,
      "outputs": []
    },
    {
      "cell_type": "code",
      "metadata": {
        "id": "1HgbPqKcAucC",
        "colab_type": "code",
        "outputId": "7aaaaafb-1081-472b-9aae-fedfd4d5bcfb",
        "colab": {
          "base_uri": "https://localhost:8080/",
          "height": 1000
        }
      },
      "source": [
        "# Print the actual values and the model's predictions\n",
        "df3[['Mean of correct edit', 'Predictions 2']] "
      ],
      "execution_count": 0,
      "outputs": [
        {
          "output_type": "execute_result",
          "data": {
            "text/html": [
              "<div>\n",
              "<style scoped>\n",
              "    .dataframe tbody tr th:only-of-type {\n",
              "        vertical-align: middle;\n",
              "    }\n",
              "\n",
              "    .dataframe tbody tr th {\n",
              "        vertical-align: top;\n",
              "    }\n",
              "\n",
              "    .dataframe thead th {\n",
              "        text-align: right;\n",
              "    }\n",
              "</style>\n",
              "<table border=\"1\" class=\"dataframe\">\n",
              "  <thead>\n",
              "    <tr style=\"text-align: right;\">\n",
              "      <th></th>\n",
              "      <th>Mean of correct edit</th>\n",
              "      <th>Predictions 2</th>\n",
              "    </tr>\n",
              "  </thead>\n",
              "  <tbody>\n",
              "    <tr>\n",
              "      <th>0</th>\n",
              "      <td>40.982414</td>\n",
              "      <td>13.124828</td>\n",
              "    </tr>\n",
              "    <tr>\n",
              "      <th>1</th>\n",
              "      <td>32.843033</td>\n",
              "      <td>32.813572</td>\n",
              "    </tr>\n",
              "    <tr>\n",
              "      <th>2</th>\n",
              "      <td>36.210669</td>\n",
              "      <td>36.209424</td>\n",
              "    </tr>\n",
              "    <tr>\n",
              "      <th>3</th>\n",
              "      <td>46.204905</td>\n",
              "      <td>33.847808</td>\n",
              "    </tr>\n",
              "    <tr>\n",
              "      <th>4</th>\n",
              "      <td>42.342045</td>\n",
              "      <td>42.319322</td>\n",
              "    </tr>\n",
              "    <tr>\n",
              "      <th>5</th>\n",
              "      <td>44.501013</td>\n",
              "      <td>36.720060</td>\n",
              "    </tr>\n",
              "    <tr>\n",
              "      <th>6</th>\n",
              "      <td>38.488102</td>\n",
              "      <td>3.957600</td>\n",
              "    </tr>\n",
              "    <tr>\n",
              "      <th>7</th>\n",
              "      <td>29.187135</td>\n",
              "      <td>29.207630</td>\n",
              "    </tr>\n",
              "    <tr>\n",
              "      <th>8</th>\n",
              "      <td>29.959730</td>\n",
              "      <td>34.599080</td>\n",
              "    </tr>\n",
              "    <tr>\n",
              "      <th>9</th>\n",
              "      <td>40.690499</td>\n",
              "      <td>40.688284</td>\n",
              "    </tr>\n",
              "    <tr>\n",
              "      <th>10</th>\n",
              "      <td>33.346109</td>\n",
              "      <td>33.369486</td>\n",
              "    </tr>\n",
              "    <tr>\n",
              "      <th>11</th>\n",
              "      <td>39.143062</td>\n",
              "      <td>39.145962</td>\n",
              "    </tr>\n",
              "    <tr>\n",
              "      <th>12</th>\n",
              "      <td>31.461293</td>\n",
              "      <td>3.787860</td>\n",
              "    </tr>\n",
              "    <tr>\n",
              "      <th>13</th>\n",
              "      <td>0.232247</td>\n",
              "      <td>1.472531</td>\n",
              "    </tr>\n",
              "    <tr>\n",
              "      <th>14</th>\n",
              "      <td>0.243254</td>\n",
              "      <td>0.245898</td>\n",
              "    </tr>\n",
              "    <tr>\n",
              "      <th>15</th>\n",
              "      <td>0.980358</td>\n",
              "      <td>0.973069</td>\n",
              "    </tr>\n",
              "    <tr>\n",
              "      <th>16</th>\n",
              "      <td>3.285856</td>\n",
              "      <td>3.305402</td>\n",
              "    </tr>\n",
              "    <tr>\n",
              "      <th>17</th>\n",
              "      <td>4.693972</td>\n",
              "      <td>8.682879</td>\n",
              "    </tr>\n",
              "    <tr>\n",
              "      <th>18</th>\n",
              "      <td>7.288269</td>\n",
              "      <td>7.282686</td>\n",
              "    </tr>\n",
              "    <tr>\n",
              "      <th>19</th>\n",
              "      <td>7.889493</td>\n",
              "      <td>7.193702</td>\n",
              "    </tr>\n",
              "    <tr>\n",
              "      <th>20</th>\n",
              "      <td>0.343363</td>\n",
              "      <td>0.341211</td>\n",
              "    </tr>\n",
              "    <tr>\n",
              "      <th>21</th>\n",
              "      <td>0.221537</td>\n",
              "      <td>0.219920</td>\n",
              "    </tr>\n",
              "    <tr>\n",
              "      <th>22</th>\n",
              "      <td>2.560767</td>\n",
              "      <td>2.569189</td>\n",
              "    </tr>\n",
              "    <tr>\n",
              "      <th>23</th>\n",
              "      <td>13.011737</td>\n",
              "      <td>13.009265</td>\n",
              "    </tr>\n",
              "    <tr>\n",
              "      <th>24</th>\n",
              "      <td>19.012042</td>\n",
              "      <td>19.008931</td>\n",
              "    </tr>\n",
              "    <tr>\n",
              "      <th>25</th>\n",
              "      <td>19.868651</td>\n",
              "      <td>19.875621</td>\n",
              "    </tr>\n",
              "    <tr>\n",
              "      <th>26</th>\n",
              "      <td>22.122870</td>\n",
              "      <td>20.467044</td>\n",
              "    </tr>\n",
              "    <tr>\n",
              "      <th>27</th>\n",
              "      <td>22.895820</td>\n",
              "      <td>22.873618</td>\n",
              "    </tr>\n",
              "    <tr>\n",
              "      <th>28</th>\n",
              "      <td>15.632697</td>\n",
              "      <td>15.710522</td>\n",
              "    </tr>\n",
              "    <tr>\n",
              "      <th>29</th>\n",
              "      <td>12.021063</td>\n",
              "      <td>11.999831</td>\n",
              "    </tr>\n",
              "    <tr>\n",
              "      <th>30</th>\n",
              "      <td>9.072358</td>\n",
              "      <td>11.385613</td>\n",
              "    </tr>\n",
              "    <tr>\n",
              "      <th>31</th>\n",
              "      <td>7.162188</td>\n",
              "      <td>7.193702</td>\n",
              "    </tr>\n",
              "    <tr>\n",
              "      <th>32</th>\n",
              "      <td>11.391022</td>\n",
              "      <td>11.369917</td>\n",
              "    </tr>\n",
              "    <tr>\n",
              "      <th>33</th>\n",
              "      <td>11.071509</td>\n",
              "      <td>2.788005</td>\n",
              "    </tr>\n",
              "    <tr>\n",
              "      <th>34</th>\n",
              "      <td>32.697945</td>\n",
              "      <td>25.447293</td>\n",
              "    </tr>\n",
              "    <tr>\n",
              "      <th>35</th>\n",
              "      <td>24.046569</td>\n",
              "      <td>24.044167</td>\n",
              "    </tr>\n",
              "    <tr>\n",
              "      <th>36</th>\n",
              "      <td>32.673327</td>\n",
              "      <td>21.118949</td>\n",
              "    </tr>\n",
              "    <tr>\n",
              "      <th>37</th>\n",
              "      <td>27.980605</td>\n",
              "      <td>27.977033</td>\n",
              "    </tr>\n",
              "    <tr>\n",
              "      <th>38</th>\n",
              "      <td>31.558509</td>\n",
              "      <td>31.567692</td>\n",
              "    </tr>\n",
              "    <tr>\n",
              "      <th>39</th>\n",
              "      <td>27.867751</td>\n",
              "      <td>27.885112</td>\n",
              "    </tr>\n",
              "    <tr>\n",
              "      <th>40</th>\n",
              "      <td>14.748934</td>\n",
              "      <td>14.731300</td>\n",
              "    </tr>\n",
              "    <tr>\n",
              "      <th>41</th>\n",
              "      <td>13.799727</td>\n",
              "      <td>23.017083</td>\n",
              "    </tr>\n",
              "    <tr>\n",
              "      <th>42</th>\n",
              "      <td>25.213954</td>\n",
              "      <td>23.017083</td>\n",
              "    </tr>\n",
              "    <tr>\n",
              "      <th>43</th>\n",
              "      <td>24.322523</td>\n",
              "      <td>24.303929</td>\n",
              "    </tr>\n",
              "    <tr>\n",
              "      <th>44</th>\n",
              "      <td>24.812133</td>\n",
              "      <td>27.577715</td>\n",
              "    </tr>\n",
              "    <tr>\n",
              "      <th>45</th>\n",
              "      <td>26.585110</td>\n",
              "      <td>26.590229</td>\n",
              "    </tr>\n",
              "    <tr>\n",
              "      <th>46</th>\n",
              "      <td>9.320976</td>\n",
              "      <td>9.329696</td>\n",
              "    </tr>\n",
              "    <tr>\n",
              "      <th>47</th>\n",
              "      <td>16.740829</td>\n",
              "      <td>16.737576</td>\n",
              "    </tr>\n",
              "    <tr>\n",
              "      <th>48</th>\n",
              "      <td>17.692417</td>\n",
              "      <td>17.682756</td>\n",
              "    </tr>\n",
              "    <tr>\n",
              "      <th>49</th>\n",
              "      <td>16.343508</td>\n",
              "      <td>16.347296</td>\n",
              "    </tr>\n",
              "    <tr>\n",
              "      <th>50</th>\n",
              "      <td>19.979771</td>\n",
              "      <td>13.988961</td>\n",
              "    </tr>\n",
              "    <tr>\n",
              "      <th>51</th>\n",
              "      <td>18.711186</td>\n",
              "      <td>18.710560</td>\n",
              "    </tr>\n",
              "    <tr>\n",
              "      <th>52</th>\n",
              "      <td>22.242170</td>\n",
              "      <td>22.219552</td>\n",
              "    </tr>\n",
              "    <tr>\n",
              "      <th>53</th>\n",
              "      <td>22.305753</td>\n",
              "      <td>22.307161</td>\n",
              "    </tr>\n",
              "    <tr>\n",
              "      <th>54</th>\n",
              "      <td>14.134634</td>\n",
              "      <td>21.004626</td>\n",
              "    </tr>\n",
              "    <tr>\n",
              "      <th>55</th>\n",
              "      <td>0.145917</td>\n",
              "      <td>0.164737</td>\n",
              "    </tr>\n",
              "  </tbody>\n",
              "</table>\n",
              "</div>"
            ],
            "text/plain": [
              "    Mean of correct edit  Predictions 2\n",
              "0              40.982414      13.124828\n",
              "1              32.843033      32.813572\n",
              "2              36.210669      36.209424\n",
              "3              46.204905      33.847808\n",
              "4              42.342045      42.319322\n",
              "5              44.501013      36.720060\n",
              "6              38.488102       3.957600\n",
              "7              29.187135      29.207630\n",
              "8              29.959730      34.599080\n",
              "9              40.690499      40.688284\n",
              "10             33.346109      33.369486\n",
              "11             39.143062      39.145962\n",
              "12             31.461293       3.787860\n",
              "13              0.232247       1.472531\n",
              "14              0.243254       0.245898\n",
              "15              0.980358       0.973069\n",
              "16              3.285856       3.305402\n",
              "17              4.693972       8.682879\n",
              "18              7.288269       7.282686\n",
              "19              7.889493       7.193702\n",
              "20              0.343363       0.341211\n",
              "21              0.221537       0.219920\n",
              "22              2.560767       2.569189\n",
              "23             13.011737      13.009265\n",
              "24             19.012042      19.008931\n",
              "25             19.868651      19.875621\n",
              "26             22.122870      20.467044\n",
              "27             22.895820      22.873618\n",
              "28             15.632697      15.710522\n",
              "29             12.021063      11.999831\n",
              "30              9.072358      11.385613\n",
              "31              7.162188       7.193702\n",
              "32             11.391022      11.369917\n",
              "33             11.071509       2.788005\n",
              "34             32.697945      25.447293\n",
              "35             24.046569      24.044167\n",
              "36             32.673327      21.118949\n",
              "37             27.980605      27.977033\n",
              "38             31.558509      31.567692\n",
              "39             27.867751      27.885112\n",
              "40             14.748934      14.731300\n",
              "41             13.799727      23.017083\n",
              "42             25.213954      23.017083\n",
              "43             24.322523      24.303929\n",
              "44             24.812133      27.577715\n",
              "45             26.585110      26.590229\n",
              "46              9.320976       9.329696\n",
              "47             16.740829      16.737576\n",
              "48             17.692417      17.682756\n",
              "49             16.343508      16.347296\n",
              "50             19.979771      13.988961\n",
              "51             18.711186      18.710560\n",
              "52             22.242170      22.219552\n",
              "53             22.305753      22.307161\n",
              "54             14.134634      21.004626\n",
              "55              0.145917       0.164737"
            ]
          },
          "metadata": {
            "tags": []
          },
          "execution_count": 130
        }
      ]
    },
    {
      "cell_type": "code",
      "metadata": {
        "id": "oxZGLNK3Auai",
        "colab_type": "code",
        "outputId": "105aa818-740e-4352-bf8f-9e6df2955f20",
        "colab": {
          "base_uri": "https://localhost:8080/",
          "height": 68
        }
      },
      "source": [
        "import sklearn.metrics as metrics\n",
        "\n",
        "# Calculate MAE, MSE, RMSE\n",
        "print(metrics.mean_absolute_error(df3['Mean of correct edit'], predictions2))\n",
        "print(metrics.mean_squared_error(df3['Mean of correct edit'], predictions2))\n",
        "print(np.sqrt(metrics.mean_squared_error(df3['Mean of correct edit'], predictions2)))"
      ],
      "execution_count": 0,
      "outputs": [
        {
          "output_type": "stream",
          "text": [
            "3.2025175823174203\n",
            "61.25423908037336\n",
            "7.826508741474282\n"
          ],
          "name": "stdout"
        }
      ]
    }
  ]
}