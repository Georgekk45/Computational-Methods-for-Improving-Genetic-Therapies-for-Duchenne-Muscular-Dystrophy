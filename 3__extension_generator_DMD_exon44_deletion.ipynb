{
  "nbformat": 4,
  "nbformat_minor": 0,
  "metadata": {
    "colab": {
      "name": "3__extension_generator_DMD_exon44_deletion.ipynb",
      "provenance": [],
      "collapsed_sections": [],
      "toc_visible": true
    },
    "kernelspec": {
      "display_name": "Python 3",
      "language": "python",
      "name": "python3"
    },
    "language_info": {
      "codemirror_mode": {
        "name": "ipython",
        "version": 3
      },
      "file_extension": ".py",
      "mimetype": "text/x-python",
      "name": "python",
      "nbconvert_exporter": "python",
      "pygments_lexer": "ipython3",
      "version": "3.7.6"
    }
  },
  "cells": [
    {
      "cell_type": "code",
      "metadata": {
        "id": "Qoh3w89umg1H"
      },
      "source": [
        "import numpy as np\n",
        "import pandas as pd\n",
        "import sys"
      ],
      "execution_count": 1,
      "outputs": []
    },
    {
      "cell_type": "markdown",
      "metadata": {
        "id": "eJPKIezKvMvQ"
      },
      "source": [
        "Function that computes the complementary bases.\n",
        "\n",
        "\n",
        "\n"
      ]
    },
    {
      "cell_type": "code",
      "metadata": {
        "id": "XLx9FBO4vJBJ"
      },
      "source": [
        "# Calculate the complementary DNA sequence\n",
        "def complement(Nucleotide):\n",
        "    comp = []\n",
        "    for i in Nucleotide:\n",
        "        if i == \"T\":\n",
        "            comp.append(\"A\")\n",
        "        if i == \"A\":\n",
        "            comp.append(\"T\")\n",
        "        if i == \"G\":\n",
        "            comp.append(\"C\")\n",
        "        if i == \"C\":\n",
        "            comp.append(\"G\")\n",
        "    return ''.join(comp)"
      ],
      "execution_count": 3,
      "outputs": []
    },
    {
      "cell_type": "code",
      "metadata": {
        "id": "8e30HrcKCYGQ"
      },
      "source": [
        "# Variables\n",
        "\n",
        "# Coding strand of exon 45\n",
        "coding_strand = 'AAAAAGACATGGGGCTTCATTTTTGTTTTGCCTTTTTGGTATCTTACAGGAACTCCAGGATGGCATTGGGCAGCGGCAAACTGTTGTCAGAACATTGAATGCAACTGGGGAAGAAATAATTCAGCAATCCTCAAAAACAGATGCCAGTATTCTACAGGAAAAATTGGGAAGCCTGAATCTGCGGTGGCAGGAGGTCTGCAAACAGCTGTCAGACAGAAAA'\n",
        "\n",
        "# PAM sequence\n",
        "PAM = 'TGG'\n",
        "\n",
        "# Protospacer sequence\n",
        "protospacer = 'CTTACAGGAACTCCAGGA'\n",
        "\n",
        "# Minimum PBS\n",
        "minPBS = complement(protospacer[7:15])"
      ],
      "execution_count": 4,
      "outputs": []
    },
    {
      "cell_type": "code",
      "metadata": {
        "colab": {
          "base_uri": "https://localhost:8080/"
        },
        "id": "KlevG7DB1W5k",
        "outputId": "5d91cc44-302b-4eaa-a59e-c165ec209759"
      },
      "source": [
        "# Calculate the non coding strand\n",
        "non_coding_strand1 = complement(coding_strand)\n",
        "non_coding_strand = non_coding_strand1[::-1]\n",
        "print(non_coding_strand1)"
      ],
      "execution_count": null,
      "outputs": [
        {
          "output_type": "stream",
          "text": [
            "TTTTTCTGTACCCCGAAGTAAAAACAAAACGGAAAAACCATAGAATGTCCTTGAGGTCCTACCGTAACCCGTCGCCGTTTGACAACAGTCTTGTAACTTACGTTGACCCCTTCTTTATTAAGTCGTTAGGAGTTTTTGTCTACGGTCATAAGATGTCCTTTTTAACCCTTCGGACTTAGACGCCACCGTCCTCCAGACGTTTGTCGACAGTCTGTCTTTT\n"
          ],
          "name": "stdout"
        }
      ]
    },
    {
      "cell_type": "code",
      "metadata": {
        "id": "LmSATioK522I"
      },
      "source": [
        "# Protospacer + PAM\n",
        "prot_pam = protospacer + PAM"
      ],
      "execution_count": null,
      "outputs": []
    },
    {
      "cell_type": "code",
      "metadata": {
        "colab": {
          "base_uri": "https://localhost:8080/"
        },
        "id": "0enwa6Pr5umG",
        "outputId": "ce85d386-4052-4f92-898f-3b8095790143"
      },
      "source": [
        "# Find the rest two bases for the minmum RT template\n",
        "temp_calculations_ = coding_strand.find(prot_pam)\n",
        "temp_ = coding_strand[(temp_calculations_+len(str(temp_calculations_))):(temp_calculations_+len(str(temp_calculations_)) + 4)]\n",
        "two_bases = temp_[2::]\n",
        "print(two_bases)"
      ],
      "execution_count": null,
      "outputs": [
        {
          "output_type": "stream",
          "text": [
            "CA\n"
          ],
          "name": "stdout"
        }
      ]
    },
    {
      "cell_type": "code",
      "metadata": {
        "colab": {
          "base_uri": "https://localhost:8080/"
        },
        "id": "v8v4JLOVfjIr",
        "outputId": "4a3a1d81-7187-41e7-cc1b-3a6bc73683bf"
      },
      "source": [
        "# Create the minimum RT template \n",
        "min_RT = complement(protospacer[-1:]) + complement(PAM) + complement(two_bases)\n",
        "print(min_RT)"
      ],
      "execution_count": null,
      "outputs": [
        {
          "output_type": "stream",
          "text": [
            "TACCGT\n"
          ],
          "name": "stdout"
        }
      ]
    },
    {
      "cell_type": "code",
      "metadata": {
        "colab": {
          "base_uri": "https://localhost:8080/"
        },
        "id": "0_tSLKmRfjLS",
        "outputId": "ba45e22d-c073-48d7-f210-bdf91b947e99"
      },
      "source": [
        "# Create rest bases for the generated RT templates\n",
        "temp_calculations_1 = non_coding_strand1.find(min_RT)\n",
        "temp_ = non_coding_strand1[(temp_calculations_1+len(str(temp_calculations_1))):(temp_calculations_1+len(str(temp_calculations_1)) + 27)]\n",
        "rest_bases = temp_[4::]\n",
        "print(rest_bases)"
      ],
      "execution_count": null,
      "outputs": [
        {
          "output_type": "stream",
          "text": [
            "AACCCGTCGCCGTTTGACAACAG\n"
          ],
          "name": "stdout"
        }
      ]
    },
    {
      "cell_type": "code",
      "metadata": {
        "colab": {
          "base_uri": "https://localhost:8080/"
        },
        "id": "64jGjC81iK-N",
        "outputId": "d6db59cb-e0e9-4ed3-925a-2a71ab91ce95"
      },
      "source": [
        "# Create the different RT templates\n",
        "temp_calculations =[] # Temporary list of insertions\n",
        "\n",
        "for i in range(0,22):# loop integer position over restbases\n",
        "    pointer = i + 1 # pointer i \n",
        "    add1 = ''.join(rest_bases[:pointer]) # calculation join pointer list items into string\n",
        "    add2 = min_RT + add1 # calculation string concatenation\n",
        "    temp_calculations.append(add2)\n",
        "\n",
        "# Add minimum RT template in the list\n",
        "temp_calculations.insert(0, min_RT)\n",
        "# Print all generated RT templates\n",
        "temp_calculations"
      ],
      "execution_count": null,
      "outputs": [
        {
          "output_type": "execute_result",
          "data": {
            "text/plain": [
              "['TACCGT',\n",
              " 'TACCGTA',\n",
              " 'TACCGTAA',\n",
              " 'TACCGTAAC',\n",
              " 'TACCGTAACC',\n",
              " 'TACCGTAACCC',\n",
              " 'TACCGTAACCCG',\n",
              " 'TACCGTAACCCGT',\n",
              " 'TACCGTAACCCGTC',\n",
              " 'TACCGTAACCCGTCG',\n",
              " 'TACCGTAACCCGTCGC',\n",
              " 'TACCGTAACCCGTCGCC',\n",
              " 'TACCGTAACCCGTCGCCG',\n",
              " 'TACCGTAACCCGTCGCCGT',\n",
              " 'TACCGTAACCCGTCGCCGTT',\n",
              " 'TACCGTAACCCGTCGCCGTTT',\n",
              " 'TACCGTAACCCGTCGCCGTTTG',\n",
              " 'TACCGTAACCCGTCGCCGTTTGA',\n",
              " 'TACCGTAACCCGTCGCCGTTTGAC',\n",
              " 'TACCGTAACCCGTCGCCGTTTGACA',\n",
              " 'TACCGTAACCCGTCGCCGTTTGACAA',\n",
              " 'TACCGTAACCCGTCGCCGTTTGACAAC',\n",
              " 'TACCGTAACCCGTCGCCGTTTGACAACA']"
            ]
          },
          "metadata": {
            "tags": []
          },
          "execution_count": 11
        }
      ]
    },
    {
      "cell_type": "markdown",
      "metadata": {
        "id": "w4C45XJ2M0uc"
      },
      "source": [
        "PBS will be the last 8 protospacer bases in the coding strand. These bases are from left to right in the non-code chain and are complementary and parallel to the protospacer bases.\n",
        "The remaining bases, after the 8th base, will be used one by one for the different produced PBS."
      ]
    },
    {
      "cell_type": "code",
      "metadata": {
        "colab": {
          "base_uri": "https://localhost:8080/"
        },
        "id": "4Dm2JNDM3I7V",
        "outputId": "db593b17-c5b7-4179-f86c-23960026ed86"
      },
      "source": [
        "# Create rest bases for the generated PBS\n",
        "rest_bases2 = complement(protospacer[0:7])\n",
        "print(rest_bases2)"
      ],
      "execution_count": null,
      "outputs": [
        {
          "output_type": "stream",
          "text": [
            "GAATGTC\n"
          ],
          "name": "stdout"
        }
      ]
    },
    {
      "cell_type": "code",
      "metadata": {
        "colab": {
          "base_uri": "https://localhost:8080/"
        },
        "id": "Lhsy8nEH6Opz",
        "outputId": "ff483627-489f-429f-a8ee-ce62b8597db0"
      },
      "source": [
        "# Create the different PBS\n",
        "temp_calculations2 =[] # Temporary list of insertions\n",
        "\n",
        "for i in range(0,9):# loop integer position over restbases\n",
        "    rev_pointer = i - 1 # reverse pointer i \n",
        "    add3 = ''.join(rest_bases2[rev_pointer:]) # calculation join pointer list items into string \n",
        "    add4 = add3 + minPBS  # calculation string concatenation\n",
        "    temp_calculations2.append(add4)\n",
        "\n",
        "# Print all generated PBS\n",
        "del temp_calculations2[0]\n",
        "temp_calculations2"
      ],
      "execution_count": null,
      "outputs": [
        {
          "output_type": "execute_result",
          "data": {
            "text/plain": [
              "['GAATGTCCTTGAGGT',\n",
              " 'AATGTCCTTGAGGT',\n",
              " 'ATGTCCTTGAGGT',\n",
              " 'TGTCCTTGAGGT',\n",
              " 'GTCCTTGAGGT',\n",
              " 'TCCTTGAGGT',\n",
              " 'CCTTGAGGT',\n",
              " 'CTTGAGGT']"
            ]
          },
          "metadata": {
            "tags": []
          },
          "execution_count": 14
        }
      ]
    },
    {
      "cell_type": "code",
      "metadata": {
        "id": "cSpKQJLGpaAy"
      },
      "source": [
        "# Μultiplication of all possible RT templates x all possible PBS in order to create the 3' extension\n",
        "multipl_list = []\n",
        "multipl_list2 = []\n",
        "multipl_list3 = []\n",
        "for x in range(len(temp_calculations2)):\n",
        "    for y in range(len(temp_calculations)):\n",
        "        calc = (temp_calculations2[x] + temp_calculations[y])\n",
        "        # Count PBS and RT lengths and append to new lists\n",
        "        multipl_list2.append(len(temp_calculations2[x]))\n",
        "        multipl_list3.append(len(temp_calculations[y]))\n",
        "        multipl_list.append(calc)"
      ],
      "execution_count": null,
      "outputs": []
    },
    {
      "cell_type": "markdown",
      "metadata": {
        "id": "5dKm97T-wlvK"
      },
      "source": [
        "# Produced 3' extensions"
      ]
    },
    {
      "cell_type": "markdown",
      "metadata": {
        "id": "-fci8LtgwlvK"
      },
      "source": [
        "# 3' - 5' orientation"
      ]
    },
    {
      "cell_type": "code",
      "metadata": {
        "colab": {
          "base_uri": "https://localhost:8080/"
        },
        "id": "ok51pDHJmr_o",
        "outputId": "a8dc1c91-081d-4ced-d94d-0b15328c8496"
      },
      "source": [
        "multipl_list"
      ],
      "execution_count": null,
      "outputs": [
        {
          "output_type": "execute_result",
          "data": {
            "text/plain": [
              "['GAATGTCCTTGAGGTTACCGT',\n",
              " 'GAATGTCCTTGAGGTTACCGTA',\n",
              " 'GAATGTCCTTGAGGTTACCGTAA',\n",
              " 'GAATGTCCTTGAGGTTACCGTAAC',\n",
              " 'GAATGTCCTTGAGGTTACCGTAACC',\n",
              " 'GAATGTCCTTGAGGTTACCGTAACCC',\n",
              " 'GAATGTCCTTGAGGTTACCGTAACCCG',\n",
              " 'GAATGTCCTTGAGGTTACCGTAACCCGT',\n",
              " 'GAATGTCCTTGAGGTTACCGTAACCCGTC',\n",
              " 'GAATGTCCTTGAGGTTACCGTAACCCGTCG',\n",
              " 'GAATGTCCTTGAGGTTACCGTAACCCGTCGC',\n",
              " 'GAATGTCCTTGAGGTTACCGTAACCCGTCGCC',\n",
              " 'GAATGTCCTTGAGGTTACCGTAACCCGTCGCCG',\n",
              " 'GAATGTCCTTGAGGTTACCGTAACCCGTCGCCGT',\n",
              " 'GAATGTCCTTGAGGTTACCGTAACCCGTCGCCGTT',\n",
              " 'GAATGTCCTTGAGGTTACCGTAACCCGTCGCCGTTT',\n",
              " 'GAATGTCCTTGAGGTTACCGTAACCCGTCGCCGTTTG',\n",
              " 'GAATGTCCTTGAGGTTACCGTAACCCGTCGCCGTTTGA',\n",
              " 'GAATGTCCTTGAGGTTACCGTAACCCGTCGCCGTTTGAC',\n",
              " 'GAATGTCCTTGAGGTTACCGTAACCCGTCGCCGTTTGACA',\n",
              " 'GAATGTCCTTGAGGTTACCGTAACCCGTCGCCGTTTGACAA',\n",
              " 'GAATGTCCTTGAGGTTACCGTAACCCGTCGCCGTTTGACAAC',\n",
              " 'GAATGTCCTTGAGGTTACCGTAACCCGTCGCCGTTTGACAACA',\n",
              " 'AATGTCCTTGAGGTTACCGT',\n",
              " 'AATGTCCTTGAGGTTACCGTA',\n",
              " 'AATGTCCTTGAGGTTACCGTAA',\n",
              " 'AATGTCCTTGAGGTTACCGTAAC',\n",
              " 'AATGTCCTTGAGGTTACCGTAACC',\n",
              " 'AATGTCCTTGAGGTTACCGTAACCC',\n",
              " 'AATGTCCTTGAGGTTACCGTAACCCG',\n",
              " 'AATGTCCTTGAGGTTACCGTAACCCGT',\n",
              " 'AATGTCCTTGAGGTTACCGTAACCCGTC',\n",
              " 'AATGTCCTTGAGGTTACCGTAACCCGTCG',\n",
              " 'AATGTCCTTGAGGTTACCGTAACCCGTCGC',\n",
              " 'AATGTCCTTGAGGTTACCGTAACCCGTCGCC',\n",
              " 'AATGTCCTTGAGGTTACCGTAACCCGTCGCCG',\n",
              " 'AATGTCCTTGAGGTTACCGTAACCCGTCGCCGT',\n",
              " 'AATGTCCTTGAGGTTACCGTAACCCGTCGCCGTT',\n",
              " 'AATGTCCTTGAGGTTACCGTAACCCGTCGCCGTTT',\n",
              " 'AATGTCCTTGAGGTTACCGTAACCCGTCGCCGTTTG',\n",
              " 'AATGTCCTTGAGGTTACCGTAACCCGTCGCCGTTTGA',\n",
              " 'AATGTCCTTGAGGTTACCGTAACCCGTCGCCGTTTGAC',\n",
              " 'AATGTCCTTGAGGTTACCGTAACCCGTCGCCGTTTGACA',\n",
              " 'AATGTCCTTGAGGTTACCGTAACCCGTCGCCGTTTGACAA',\n",
              " 'AATGTCCTTGAGGTTACCGTAACCCGTCGCCGTTTGACAAC',\n",
              " 'AATGTCCTTGAGGTTACCGTAACCCGTCGCCGTTTGACAACA',\n",
              " 'ATGTCCTTGAGGTTACCGT',\n",
              " 'ATGTCCTTGAGGTTACCGTA',\n",
              " 'ATGTCCTTGAGGTTACCGTAA',\n",
              " 'ATGTCCTTGAGGTTACCGTAAC',\n",
              " 'ATGTCCTTGAGGTTACCGTAACC',\n",
              " 'ATGTCCTTGAGGTTACCGTAACCC',\n",
              " 'ATGTCCTTGAGGTTACCGTAACCCG',\n",
              " 'ATGTCCTTGAGGTTACCGTAACCCGT',\n",
              " 'ATGTCCTTGAGGTTACCGTAACCCGTC',\n",
              " 'ATGTCCTTGAGGTTACCGTAACCCGTCG',\n",
              " 'ATGTCCTTGAGGTTACCGTAACCCGTCGC',\n",
              " 'ATGTCCTTGAGGTTACCGTAACCCGTCGCC',\n",
              " 'ATGTCCTTGAGGTTACCGTAACCCGTCGCCG',\n",
              " 'ATGTCCTTGAGGTTACCGTAACCCGTCGCCGT',\n",
              " 'ATGTCCTTGAGGTTACCGTAACCCGTCGCCGTT',\n",
              " 'ATGTCCTTGAGGTTACCGTAACCCGTCGCCGTTT',\n",
              " 'ATGTCCTTGAGGTTACCGTAACCCGTCGCCGTTTG',\n",
              " 'ATGTCCTTGAGGTTACCGTAACCCGTCGCCGTTTGA',\n",
              " 'ATGTCCTTGAGGTTACCGTAACCCGTCGCCGTTTGAC',\n",
              " 'ATGTCCTTGAGGTTACCGTAACCCGTCGCCGTTTGACA',\n",
              " 'ATGTCCTTGAGGTTACCGTAACCCGTCGCCGTTTGACAA',\n",
              " 'ATGTCCTTGAGGTTACCGTAACCCGTCGCCGTTTGACAAC',\n",
              " 'ATGTCCTTGAGGTTACCGTAACCCGTCGCCGTTTGACAACA',\n",
              " 'TGTCCTTGAGGTTACCGT',\n",
              " 'TGTCCTTGAGGTTACCGTA',\n",
              " 'TGTCCTTGAGGTTACCGTAA',\n",
              " 'TGTCCTTGAGGTTACCGTAAC',\n",
              " 'TGTCCTTGAGGTTACCGTAACC',\n",
              " 'TGTCCTTGAGGTTACCGTAACCC',\n",
              " 'TGTCCTTGAGGTTACCGTAACCCG',\n",
              " 'TGTCCTTGAGGTTACCGTAACCCGT',\n",
              " 'TGTCCTTGAGGTTACCGTAACCCGTC',\n",
              " 'TGTCCTTGAGGTTACCGTAACCCGTCG',\n",
              " 'TGTCCTTGAGGTTACCGTAACCCGTCGC',\n",
              " 'TGTCCTTGAGGTTACCGTAACCCGTCGCC',\n",
              " 'TGTCCTTGAGGTTACCGTAACCCGTCGCCG',\n",
              " 'TGTCCTTGAGGTTACCGTAACCCGTCGCCGT',\n",
              " 'TGTCCTTGAGGTTACCGTAACCCGTCGCCGTT',\n",
              " 'TGTCCTTGAGGTTACCGTAACCCGTCGCCGTTT',\n",
              " 'TGTCCTTGAGGTTACCGTAACCCGTCGCCGTTTG',\n",
              " 'TGTCCTTGAGGTTACCGTAACCCGTCGCCGTTTGA',\n",
              " 'TGTCCTTGAGGTTACCGTAACCCGTCGCCGTTTGAC',\n",
              " 'TGTCCTTGAGGTTACCGTAACCCGTCGCCGTTTGACA',\n",
              " 'TGTCCTTGAGGTTACCGTAACCCGTCGCCGTTTGACAA',\n",
              " 'TGTCCTTGAGGTTACCGTAACCCGTCGCCGTTTGACAAC',\n",
              " 'TGTCCTTGAGGTTACCGTAACCCGTCGCCGTTTGACAACA',\n",
              " 'GTCCTTGAGGTTACCGT',\n",
              " 'GTCCTTGAGGTTACCGTA',\n",
              " 'GTCCTTGAGGTTACCGTAA',\n",
              " 'GTCCTTGAGGTTACCGTAAC',\n",
              " 'GTCCTTGAGGTTACCGTAACC',\n",
              " 'GTCCTTGAGGTTACCGTAACCC',\n",
              " 'GTCCTTGAGGTTACCGTAACCCG',\n",
              " 'GTCCTTGAGGTTACCGTAACCCGT',\n",
              " 'GTCCTTGAGGTTACCGTAACCCGTC',\n",
              " 'GTCCTTGAGGTTACCGTAACCCGTCG',\n",
              " 'GTCCTTGAGGTTACCGTAACCCGTCGC',\n",
              " 'GTCCTTGAGGTTACCGTAACCCGTCGCC',\n",
              " 'GTCCTTGAGGTTACCGTAACCCGTCGCCG',\n",
              " 'GTCCTTGAGGTTACCGTAACCCGTCGCCGT',\n",
              " 'GTCCTTGAGGTTACCGTAACCCGTCGCCGTT',\n",
              " 'GTCCTTGAGGTTACCGTAACCCGTCGCCGTTT',\n",
              " 'GTCCTTGAGGTTACCGTAACCCGTCGCCGTTTG',\n",
              " 'GTCCTTGAGGTTACCGTAACCCGTCGCCGTTTGA',\n",
              " 'GTCCTTGAGGTTACCGTAACCCGTCGCCGTTTGAC',\n",
              " 'GTCCTTGAGGTTACCGTAACCCGTCGCCGTTTGACA',\n",
              " 'GTCCTTGAGGTTACCGTAACCCGTCGCCGTTTGACAA',\n",
              " 'GTCCTTGAGGTTACCGTAACCCGTCGCCGTTTGACAAC',\n",
              " 'GTCCTTGAGGTTACCGTAACCCGTCGCCGTTTGACAACA',\n",
              " 'TCCTTGAGGTTACCGT',\n",
              " 'TCCTTGAGGTTACCGTA',\n",
              " 'TCCTTGAGGTTACCGTAA',\n",
              " 'TCCTTGAGGTTACCGTAAC',\n",
              " 'TCCTTGAGGTTACCGTAACC',\n",
              " 'TCCTTGAGGTTACCGTAACCC',\n",
              " 'TCCTTGAGGTTACCGTAACCCG',\n",
              " 'TCCTTGAGGTTACCGTAACCCGT',\n",
              " 'TCCTTGAGGTTACCGTAACCCGTC',\n",
              " 'TCCTTGAGGTTACCGTAACCCGTCG',\n",
              " 'TCCTTGAGGTTACCGTAACCCGTCGC',\n",
              " 'TCCTTGAGGTTACCGTAACCCGTCGCC',\n",
              " 'TCCTTGAGGTTACCGTAACCCGTCGCCG',\n",
              " 'TCCTTGAGGTTACCGTAACCCGTCGCCGT',\n",
              " 'TCCTTGAGGTTACCGTAACCCGTCGCCGTT',\n",
              " 'TCCTTGAGGTTACCGTAACCCGTCGCCGTTT',\n",
              " 'TCCTTGAGGTTACCGTAACCCGTCGCCGTTTG',\n",
              " 'TCCTTGAGGTTACCGTAACCCGTCGCCGTTTGA',\n",
              " 'TCCTTGAGGTTACCGTAACCCGTCGCCGTTTGAC',\n",
              " 'TCCTTGAGGTTACCGTAACCCGTCGCCGTTTGACA',\n",
              " 'TCCTTGAGGTTACCGTAACCCGTCGCCGTTTGACAA',\n",
              " 'TCCTTGAGGTTACCGTAACCCGTCGCCGTTTGACAAC',\n",
              " 'TCCTTGAGGTTACCGTAACCCGTCGCCGTTTGACAACA',\n",
              " 'CCTTGAGGTTACCGT',\n",
              " 'CCTTGAGGTTACCGTA',\n",
              " 'CCTTGAGGTTACCGTAA',\n",
              " 'CCTTGAGGTTACCGTAAC',\n",
              " 'CCTTGAGGTTACCGTAACC',\n",
              " 'CCTTGAGGTTACCGTAACCC',\n",
              " 'CCTTGAGGTTACCGTAACCCG',\n",
              " 'CCTTGAGGTTACCGTAACCCGT',\n",
              " 'CCTTGAGGTTACCGTAACCCGTC',\n",
              " 'CCTTGAGGTTACCGTAACCCGTCG',\n",
              " 'CCTTGAGGTTACCGTAACCCGTCGC',\n",
              " 'CCTTGAGGTTACCGTAACCCGTCGCC',\n",
              " 'CCTTGAGGTTACCGTAACCCGTCGCCG',\n",
              " 'CCTTGAGGTTACCGTAACCCGTCGCCGT',\n",
              " 'CCTTGAGGTTACCGTAACCCGTCGCCGTT',\n",
              " 'CCTTGAGGTTACCGTAACCCGTCGCCGTTT',\n",
              " 'CCTTGAGGTTACCGTAACCCGTCGCCGTTTG',\n",
              " 'CCTTGAGGTTACCGTAACCCGTCGCCGTTTGA',\n",
              " 'CCTTGAGGTTACCGTAACCCGTCGCCGTTTGAC',\n",
              " 'CCTTGAGGTTACCGTAACCCGTCGCCGTTTGACA',\n",
              " 'CCTTGAGGTTACCGTAACCCGTCGCCGTTTGACAA',\n",
              " 'CCTTGAGGTTACCGTAACCCGTCGCCGTTTGACAAC',\n",
              " 'CCTTGAGGTTACCGTAACCCGTCGCCGTTTGACAACA',\n",
              " 'CTTGAGGTTACCGT',\n",
              " 'CTTGAGGTTACCGTA',\n",
              " 'CTTGAGGTTACCGTAA',\n",
              " 'CTTGAGGTTACCGTAAC',\n",
              " 'CTTGAGGTTACCGTAACC',\n",
              " 'CTTGAGGTTACCGTAACCC',\n",
              " 'CTTGAGGTTACCGTAACCCG',\n",
              " 'CTTGAGGTTACCGTAACCCGT',\n",
              " 'CTTGAGGTTACCGTAACCCGTC',\n",
              " 'CTTGAGGTTACCGTAACCCGTCG',\n",
              " 'CTTGAGGTTACCGTAACCCGTCGC',\n",
              " 'CTTGAGGTTACCGTAACCCGTCGCC',\n",
              " 'CTTGAGGTTACCGTAACCCGTCGCCG',\n",
              " 'CTTGAGGTTACCGTAACCCGTCGCCGT',\n",
              " 'CTTGAGGTTACCGTAACCCGTCGCCGTT',\n",
              " 'CTTGAGGTTACCGTAACCCGTCGCCGTTT',\n",
              " 'CTTGAGGTTACCGTAACCCGTCGCCGTTTG',\n",
              " 'CTTGAGGTTACCGTAACCCGTCGCCGTTTGA',\n",
              " 'CTTGAGGTTACCGTAACCCGTCGCCGTTTGAC',\n",
              " 'CTTGAGGTTACCGTAACCCGTCGCCGTTTGACA',\n",
              " 'CTTGAGGTTACCGTAACCCGTCGCCGTTTGACAA',\n",
              " 'CTTGAGGTTACCGTAACCCGTCGCCGTTTGACAAC',\n",
              " 'CTTGAGGTTACCGTAACCCGTCGCCGTTTGACAACA']"
            ]
          },
          "metadata": {
            "tags": []
          },
          "execution_count": 17
        }
      ]
    },
    {
      "cell_type": "code",
      "metadata": {
        "colab": {
          "base_uri": "https://localhost:8080/",
          "height": 419
        },
        "id": "EZkzkUjZttz9",
        "outputId": "9c40c4fb-a181-4617-874a-aa9e4a5523fd"
      },
      "source": [
        "# Convert list to dataframe column\n",
        "df2 = pd.DataFrame({'col':multipl_list, 'PBS length':multipl_list2, 'RT template length':multipl_list3})\n",
        "\n",
        "# Reindex starting from 1\n",
        "df2.index = np.arange(1, len(df2) + 1)\n",
        "\n",
        "# Rename column\n",
        "df2['3_extension'] = df2['col']\n",
        "del df2['col']\n",
        "\n",
        "# Index to column\n",
        "df2['Names'] = df2.index\n",
        "\n",
        "# Add prefix to names column\n",
        "df2['Names'] = 'DMD' + ' ' + df2['Names'].astype(str)\n",
        "\n",
        "# Reverse orientation from 3'-5' to 5'-3'\n",
        "df2[\"3' extension\"] = df2['3_extension'].str[::-1]\n",
        "\n",
        "# Delete old orientation column\n",
        "del df2['3_extension']\n",
        "\n",
        "df2"
      ],
      "execution_count": null,
      "outputs": [
        {
          "output_type": "execute_result",
          "data": {
            "text/html": [
              "<div>\n",
              "<style scoped>\n",
              "    .dataframe tbody tr th:only-of-type {\n",
              "        vertical-align: middle;\n",
              "    }\n",
              "\n",
              "    .dataframe tbody tr th {\n",
              "        vertical-align: top;\n",
              "    }\n",
              "\n",
              "    .dataframe thead th {\n",
              "        text-align: right;\n",
              "    }\n",
              "</style>\n",
              "<table border=\"1\" class=\"dataframe\">\n",
              "  <thead>\n",
              "    <tr style=\"text-align: right;\">\n",
              "      <th></th>\n",
              "      <th>PBS length</th>\n",
              "      <th>RT template length</th>\n",
              "      <th>Names</th>\n",
              "      <th>3' extension</th>\n",
              "    </tr>\n",
              "  </thead>\n",
              "  <tbody>\n",
              "    <tr>\n",
              "      <th>1</th>\n",
              "      <td>15</td>\n",
              "      <td>6</td>\n",
              "      <td>DMD 1</td>\n",
              "      <td>TGCCATTGGAGTTCCTGTAAG</td>\n",
              "    </tr>\n",
              "    <tr>\n",
              "      <th>2</th>\n",
              "      <td>15</td>\n",
              "      <td>7</td>\n",
              "      <td>DMD 2</td>\n",
              "      <td>ATGCCATTGGAGTTCCTGTAAG</td>\n",
              "    </tr>\n",
              "    <tr>\n",
              "      <th>3</th>\n",
              "      <td>15</td>\n",
              "      <td>8</td>\n",
              "      <td>DMD 3</td>\n",
              "      <td>AATGCCATTGGAGTTCCTGTAAG</td>\n",
              "    </tr>\n",
              "    <tr>\n",
              "      <th>4</th>\n",
              "      <td>15</td>\n",
              "      <td>9</td>\n",
              "      <td>DMD 4</td>\n",
              "      <td>CAATGCCATTGGAGTTCCTGTAAG</td>\n",
              "    </tr>\n",
              "    <tr>\n",
              "      <th>5</th>\n",
              "      <td>15</td>\n",
              "      <td>10</td>\n",
              "      <td>DMD 5</td>\n",
              "      <td>CCAATGCCATTGGAGTTCCTGTAAG</td>\n",
              "    </tr>\n",
              "    <tr>\n",
              "      <th>...</th>\n",
              "      <td>...</td>\n",
              "      <td>...</td>\n",
              "      <td>...</td>\n",
              "      <td>...</td>\n",
              "    </tr>\n",
              "    <tr>\n",
              "      <th>180</th>\n",
              "      <td>8</td>\n",
              "      <td>24</td>\n",
              "      <td>DMD 180</td>\n",
              "      <td>CAGTTTGCCGCTGCCCAATGCCATTGGAGTTC</td>\n",
              "    </tr>\n",
              "    <tr>\n",
              "      <th>181</th>\n",
              "      <td>8</td>\n",
              "      <td>25</td>\n",
              "      <td>DMD 181</td>\n",
              "      <td>ACAGTTTGCCGCTGCCCAATGCCATTGGAGTTC</td>\n",
              "    </tr>\n",
              "    <tr>\n",
              "      <th>182</th>\n",
              "      <td>8</td>\n",
              "      <td>26</td>\n",
              "      <td>DMD 182</td>\n",
              "      <td>AACAGTTTGCCGCTGCCCAATGCCATTGGAGTTC</td>\n",
              "    </tr>\n",
              "    <tr>\n",
              "      <th>183</th>\n",
              "      <td>8</td>\n",
              "      <td>27</td>\n",
              "      <td>DMD 183</td>\n",
              "      <td>CAACAGTTTGCCGCTGCCCAATGCCATTGGAGTTC</td>\n",
              "    </tr>\n",
              "    <tr>\n",
              "      <th>184</th>\n",
              "      <td>8</td>\n",
              "      <td>28</td>\n",
              "      <td>DMD 184</td>\n",
              "      <td>ACAACAGTTTGCCGCTGCCCAATGCCATTGGAGTTC</td>\n",
              "    </tr>\n",
              "  </tbody>\n",
              "</table>\n",
              "<p>184 rows × 4 columns</p>\n",
              "</div>"
            ],
            "text/plain": [
              "     PBS length  ...                          3' extension\n",
              "1            15  ...                 TGCCATTGGAGTTCCTGTAAG\n",
              "2            15  ...                ATGCCATTGGAGTTCCTGTAAG\n",
              "3            15  ...               AATGCCATTGGAGTTCCTGTAAG\n",
              "4            15  ...              CAATGCCATTGGAGTTCCTGTAAG\n",
              "5            15  ...             CCAATGCCATTGGAGTTCCTGTAAG\n",
              "..          ...  ...                                   ...\n",
              "180           8  ...      CAGTTTGCCGCTGCCCAATGCCATTGGAGTTC\n",
              "181           8  ...     ACAGTTTGCCGCTGCCCAATGCCATTGGAGTTC\n",
              "182           8  ...    AACAGTTTGCCGCTGCCCAATGCCATTGGAGTTC\n",
              "183           8  ...   CAACAGTTTGCCGCTGCCCAATGCCATTGGAGTTC\n",
              "184           8  ...  ACAACAGTTTGCCGCTGCCCAATGCCATTGGAGTTC\n",
              "\n",
              "[184 rows x 4 columns]"
            ]
          },
          "metadata": {
            "tags": []
          },
          "execution_count": 18
        }
      ]
    },
    {
      "cell_type": "code",
      "metadata": {
        "id": "xdczwcuk0wc1"
      },
      "source": [
        "# Delete any 3' extension that starts with C\n",
        "df2 = df2[~df2[\"3' extension\"].astype(str).str.startswith('C')].reindex()"
      ],
      "execution_count": null,
      "outputs": []
    },
    {
      "cell_type": "code",
      "metadata": {
        "id": "UlOHg3usty5L"
      },
      "source": [
        "# Export to excel\n",
        "df2.to_excel('3_extension_DMD_exon44_5-3_deletion.xls')"
      ],
      "execution_count": null,
      "outputs": []
    }
  ]
}