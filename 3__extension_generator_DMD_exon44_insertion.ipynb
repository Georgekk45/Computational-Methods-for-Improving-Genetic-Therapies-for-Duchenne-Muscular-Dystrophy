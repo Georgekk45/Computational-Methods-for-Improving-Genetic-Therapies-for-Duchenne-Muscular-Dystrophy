{
  "nbformat": 4,
  "nbformat_minor": 0,
  "metadata": {
    "colab": {
      "name": "3__extension_generator_DMD_exon44_insertion.ipynb",
      "provenance": [],
      "collapsed_sections": [],
      "toc_visible": true
    },
    "kernelspec": {
      "display_name": "Python 3",
      "language": "python",
      "name": "python3"
    },
    "language_info": {
      "codemirror_mode": {
        "name": "ipython",
        "version": 3
      },
      "file_extension": ".py",
      "mimetype": "text/x-python",
      "name": "python",
      "nbconvert_exporter": "python",
      "pygments_lexer": "ipython3",
      "version": "3.7.6"
    }
  },
  "cells": [
    {
      "cell_type": "code",
      "metadata": {
        "id": "Qoh3w89umg1H"
      },
      "source": [
        "import numpy as np\n",
        "import pandas as pd\n",
        "import sys"
      ],
      "execution_count": null,
      "outputs": []
    },
    {
      "cell_type": "markdown",
      "metadata": {
        "id": "S4hsjoawvU42"
      },
      "source": [
        "Function that computes the complementary bases.\n"
      ]
    },
    {
      "cell_type": "code",
      "metadata": {
        "id": "CIS4rz-TvSbm"
      },
      "source": [
        "# Calculate the complementary DNA sequence\n",
        "def complement(Nucleotide):\n",
        "    comp = []\n",
        "    for i in Nucleotide:\n",
        "        if i == \"T\":\n",
        "            comp.append(\"A\")\n",
        "        if i == \"A\":\n",
        "            comp.append(\"T\")\n",
        "        if i == \"G\":\n",
        "            comp.append(\"C\")\n",
        "        if i == \"C\":\n",
        "            comp.append(\"G\")\n",
        "    return ''.join(comp)"
      ],
      "execution_count": null,
      "outputs": []
    },
    {
      "cell_type": "code",
      "metadata": {
        "id": "uF3rbSB8BSu1"
      },
      "source": [
        "# Variables\n",
        "\n",
        "# Coding strand of exon 45\n",
        "coding_strand = 'AAAAAGACATGGGGCTTCATTTTTGTTTTGCCTTTTTGGTATCTTACAGGAACTCCAGGATGGCATTGGGCAGCGGCAAACTGTTGTCAGAACATTGAATGCAACTGGGGAAGAAATAATTCAGCAATCCTCAAAAACAGATGCCAGTATTCTACAGGAAAAATTGGGAAGCCTGAATCTGCGGTGGCAGGAGGTCTGCAAACAGCTGTCAGACAGAAAA'\n",
        "\n",
        "# The correct base that will be inserted\n",
        "bp = 'T'\n",
        "\n",
        "# PAM sequence\n",
        "PAM = 'TGG'\n",
        "\n",
        "# Protospacer sequence\n",
        "protospacer = 'CTTACAGGAACTCCAGGA'\n",
        "\n",
        "# Minimum PBS\n",
        "minPBS = complement(protospacer[7:15])"
      ],
      "execution_count": null,
      "outputs": []
    },
    {
      "cell_type": "code",
      "metadata": {
        "colab": {
          "base_uri": "https://localhost:8080/"
        },
        "id": "KlevG7DB1W5k",
        "outputId": "9ec3959a-dee8-4a55-9576-b53ce2867ed4"
      },
      "source": [
        "# Calculate the non coding strand\n",
        "non_coding_strand1 = complement(coding_strand)\n",
        "non_coding_strand = non_coding_strand1[::-1]\n",
        "print(non_coding_strand1)"
      ],
      "execution_count": null,
      "outputs": [
        {
          "output_type": "stream",
          "text": [
            "TTTTTCTGTACCCCGAAGTAAAAACAAAACGGAAAAACCATAGAATGTCCTTGAGGTCCTACCGTAACCCGTCGCCGTTTGACAACAGTCTTGTAACTTACGTTGACCCCTTCTTTATTAAGTCGTTAGGAGTTTTTGTCTACGGTCATAAGATGTCCTTTTTAACCCTTCGGACTTAGACGCCACCGTCCTCCAGACGTTTGTCGACAGTCTGTCTTTT\n"
          ],
          "name": "stdout"
        }
      ]
    },
    {
      "cell_type": "code",
      "metadata": {
        "colab": {
          "base_uri": "https://localhost:8080/"
        },
        "id": "v8v4JLOVfjIr",
        "outputId": "5ff661a5-ee11-4624-81f5-e62fb36f1705"
      },
      "source": [
        "# Create the minimum RT template (the last base of the RT\n",
        "min_RT = bp + complement(protospacer[15:18]) + complement(PAM)\n",
        "print(min_RT)"
      ],
      "execution_count": null,
      "outputs": [
        {
          "output_type": "stream",
          "text": [
            "TCCTACC\n"
          ],
          "name": "stdout"
        }
      ]
    },
    {
      "cell_type": "code",
      "metadata": {
        "colab": {
          "base_uri": "https://localhost:8080/"
        },
        "id": "0_tSLKmRfjLS",
        "outputId": "359b811c-a789-4c25-b7f2-9ba387536905"
      },
      "source": [
        "# Create rest bases for the generated RT templates\n",
        "temp_calculations_1 = non_coding_strand1.find(min_RT)\n",
        "temp_ = non_coding_strand1[(temp_calculations_1+len(str(temp_calculations_1))):(temp_calculations_1+len(str(temp_calculations_1)) + 27)]\n",
        "rest_bases = temp_[5::]\n",
        "print(rest_bases)"
      ],
      "execution_count": null,
      "outputs": [
        {
          "output_type": "stream",
          "text": [
            "GTAACCCGTCGCCGTTTGACAA\n"
          ],
          "name": "stdout"
        }
      ]
    },
    {
      "cell_type": "code",
      "metadata": {
        "colab": {
          "base_uri": "https://localhost:8080/"
        },
        "id": "64jGjC81iK-N",
        "outputId": "fd3c7cac-f352-4a86-8ac0-2d0520c1ce6d"
      },
      "source": [
        "# Create the different RT templates\n",
        "temp_calculations =[] # Temporary list of insertions\n",
        "\n",
        "for i in range(0,22):# loop integer position over restbases\n",
        "    pointer = i + 1 # pointer i \n",
        "    add1 = ''.join(rest_bases[:pointer]) # calculation join pointer list items into string\n",
        "    add2 = min_RT + add1 # calculation string concatenation\n",
        "    temp_calculations.append(add2)\n",
        "\n",
        "# Add minimum RT template in the list\n",
        "temp_calculations.insert(0, min_RT)\n",
        "# Print all generated RT templates\n",
        "temp_calculations"
      ],
      "execution_count": null,
      "outputs": [
        {
          "output_type": "execute_result",
          "data": {
            "text/plain": [
              "['TCCTACC',\n",
              " 'TCCTACCG',\n",
              " 'TCCTACCGT',\n",
              " 'TCCTACCGTA',\n",
              " 'TCCTACCGTAA',\n",
              " 'TCCTACCGTAAC',\n",
              " 'TCCTACCGTAACC',\n",
              " 'TCCTACCGTAACCC',\n",
              " 'TCCTACCGTAACCCG',\n",
              " 'TCCTACCGTAACCCGT',\n",
              " 'TCCTACCGTAACCCGTC',\n",
              " 'TCCTACCGTAACCCGTCG',\n",
              " 'TCCTACCGTAACCCGTCGC',\n",
              " 'TCCTACCGTAACCCGTCGCC',\n",
              " 'TCCTACCGTAACCCGTCGCCG',\n",
              " 'TCCTACCGTAACCCGTCGCCGT',\n",
              " 'TCCTACCGTAACCCGTCGCCGTT',\n",
              " 'TCCTACCGTAACCCGTCGCCGTTT',\n",
              " 'TCCTACCGTAACCCGTCGCCGTTTG',\n",
              " 'TCCTACCGTAACCCGTCGCCGTTTGA',\n",
              " 'TCCTACCGTAACCCGTCGCCGTTTGAC',\n",
              " 'TCCTACCGTAACCCGTCGCCGTTTGACA',\n",
              " 'TCCTACCGTAACCCGTCGCCGTTTGACAA']"
            ]
          },
          "metadata": {
            "tags": []
          },
          "execution_count": 8
        }
      ]
    },
    {
      "cell_type": "code",
      "metadata": {
        "colab": {
          "base_uri": "https://localhost:8080/"
        },
        "id": "Lhsy8nEH6Opz",
        "outputId": "cf31e693-e9ed-4430-9c05-a40f600409a4"
      },
      "source": [
        "# Create the different PBS\n",
        "temp_calculations2 =[] # Temporary list of insertions\n",
        "\n",
        "for i in range(0,9):# loop integer position over restbases\n",
        "    rev_pointer = i - 1 # reverse pointer i \n",
        "    add3 = ''.join(rest_bases2[rev_pointer:]) # calculation join pointer list items into string \n",
        "    add4 = add3 + minPBS  # calculation string concatenation\n",
        "    temp_calculations2.append(add4)\n",
        "\n",
        "# Print all generated PBS\n",
        "del temp_calculations2[0]\n",
        "temp_calculations2"
      ],
      "execution_count": null,
      "outputs": [
        {
          "output_type": "execute_result",
          "data": {
            "text/plain": [
              "['GAATGTCCTTGAGGT',\n",
              " 'AATGTCCTTGAGGT',\n",
              " 'ATGTCCTTGAGGT',\n",
              " 'TGTCCTTGAGGT',\n",
              " 'GTCCTTGAGGT',\n",
              " 'TCCTTGAGGT',\n",
              " 'CCTTGAGGT',\n",
              " 'CTTGAGGT']"
            ]
          },
          "metadata": {
            "tags": []
          },
          "execution_count": 11
        }
      ]
    },
    {
      "cell_type": "code",
      "metadata": {
        "id": "cSpKQJLGpaAy"
      },
      "source": [
        "# Μultiplication of all possible RT templates x all possible PBS in order to create the 3' extension\n",
        "multipl_list = []\n",
        "multipl_list2 = []\n",
        "multipl_list3 = []\n",
        "for x in range(len(temp_calculations2)):\n",
        "    for y in range(len(temp_calculations)):\n",
        "        calc = (temp_calculations2[x] + temp_calculations[y])\n",
        "        # Count PBS and RT lengths and append to new lists\n",
        "        multipl_list2.append(len(temp_calculations2[x]))\n",
        "        multipl_list3.append(len(temp_calculations[y]))\n",
        "        multipl_list.append(calc)"
      ],
      "execution_count": null,
      "outputs": []
    },
    {
      "cell_type": "markdown",
      "metadata": {
        "id": "5dKm97T-wlvK"
      },
      "source": [
        "# Produced 3' extensions"
      ]
    },
    {
      "cell_type": "markdown",
      "metadata": {
        "id": "-fci8LtgwlvK"
      },
      "source": [
        "# 3' - 5' orientation"
      ]
    },
    {
      "cell_type": "code",
      "metadata": {
        "colab": {
          "base_uri": "https://localhost:8080/"
        },
        "id": "ok51pDHJmr_o",
        "outputId": "fd9f9ec2-27b2-482c-cba2-a0917632faca"
      },
      "source": [
        "multipl_list"
      ],
      "execution_count": null,
      "outputs": [
        {
          "output_type": "execute_result",
          "data": {
            "text/plain": [
              "['GAATGTCCTTGAGGTTCCTACC',\n",
              " 'GAATGTCCTTGAGGTTCCTACCG',\n",
              " 'GAATGTCCTTGAGGTTCCTACCGT',\n",
              " 'GAATGTCCTTGAGGTTCCTACCGTA',\n",
              " 'GAATGTCCTTGAGGTTCCTACCGTAA',\n",
              " 'GAATGTCCTTGAGGTTCCTACCGTAAC',\n",
              " 'GAATGTCCTTGAGGTTCCTACCGTAACC',\n",
              " 'GAATGTCCTTGAGGTTCCTACCGTAACCC',\n",
              " 'GAATGTCCTTGAGGTTCCTACCGTAACCCG',\n",
              " 'GAATGTCCTTGAGGTTCCTACCGTAACCCGT',\n",
              " 'GAATGTCCTTGAGGTTCCTACCGTAACCCGTC',\n",
              " 'GAATGTCCTTGAGGTTCCTACCGTAACCCGTCG',\n",
              " 'GAATGTCCTTGAGGTTCCTACCGTAACCCGTCGC',\n",
              " 'GAATGTCCTTGAGGTTCCTACCGTAACCCGTCGCC',\n",
              " 'GAATGTCCTTGAGGTTCCTACCGTAACCCGTCGCCG',\n",
              " 'GAATGTCCTTGAGGTTCCTACCGTAACCCGTCGCCGT',\n",
              " 'GAATGTCCTTGAGGTTCCTACCGTAACCCGTCGCCGTT',\n",
              " 'GAATGTCCTTGAGGTTCCTACCGTAACCCGTCGCCGTTT',\n",
              " 'GAATGTCCTTGAGGTTCCTACCGTAACCCGTCGCCGTTTG',\n",
              " 'GAATGTCCTTGAGGTTCCTACCGTAACCCGTCGCCGTTTGA',\n",
              " 'GAATGTCCTTGAGGTTCCTACCGTAACCCGTCGCCGTTTGAC',\n",
              " 'GAATGTCCTTGAGGTTCCTACCGTAACCCGTCGCCGTTTGACA',\n",
              " 'GAATGTCCTTGAGGTTCCTACCGTAACCCGTCGCCGTTTGACAA',\n",
              " 'AATGTCCTTGAGGTTCCTACC',\n",
              " 'AATGTCCTTGAGGTTCCTACCG',\n",
              " 'AATGTCCTTGAGGTTCCTACCGT',\n",
              " 'AATGTCCTTGAGGTTCCTACCGTA',\n",
              " 'AATGTCCTTGAGGTTCCTACCGTAA',\n",
              " 'AATGTCCTTGAGGTTCCTACCGTAAC',\n",
              " 'AATGTCCTTGAGGTTCCTACCGTAACC',\n",
              " 'AATGTCCTTGAGGTTCCTACCGTAACCC',\n",
              " 'AATGTCCTTGAGGTTCCTACCGTAACCCG',\n",
              " 'AATGTCCTTGAGGTTCCTACCGTAACCCGT',\n",
              " 'AATGTCCTTGAGGTTCCTACCGTAACCCGTC',\n",
              " 'AATGTCCTTGAGGTTCCTACCGTAACCCGTCG',\n",
              " 'AATGTCCTTGAGGTTCCTACCGTAACCCGTCGC',\n",
              " 'AATGTCCTTGAGGTTCCTACCGTAACCCGTCGCC',\n",
              " 'AATGTCCTTGAGGTTCCTACCGTAACCCGTCGCCG',\n",
              " 'AATGTCCTTGAGGTTCCTACCGTAACCCGTCGCCGT',\n",
              " 'AATGTCCTTGAGGTTCCTACCGTAACCCGTCGCCGTT',\n",
              " 'AATGTCCTTGAGGTTCCTACCGTAACCCGTCGCCGTTT',\n",
              " 'AATGTCCTTGAGGTTCCTACCGTAACCCGTCGCCGTTTG',\n",
              " 'AATGTCCTTGAGGTTCCTACCGTAACCCGTCGCCGTTTGA',\n",
              " 'AATGTCCTTGAGGTTCCTACCGTAACCCGTCGCCGTTTGAC',\n",
              " 'AATGTCCTTGAGGTTCCTACCGTAACCCGTCGCCGTTTGACA',\n",
              " 'AATGTCCTTGAGGTTCCTACCGTAACCCGTCGCCGTTTGACAA',\n",
              " 'ATGTCCTTGAGGTTCCTACC',\n",
              " 'ATGTCCTTGAGGTTCCTACCG',\n",
              " 'ATGTCCTTGAGGTTCCTACCGT',\n",
              " 'ATGTCCTTGAGGTTCCTACCGTA',\n",
              " 'ATGTCCTTGAGGTTCCTACCGTAA',\n",
              " 'ATGTCCTTGAGGTTCCTACCGTAAC',\n",
              " 'ATGTCCTTGAGGTTCCTACCGTAACC',\n",
              " 'ATGTCCTTGAGGTTCCTACCGTAACCC',\n",
              " 'ATGTCCTTGAGGTTCCTACCGTAACCCG',\n",
              " 'ATGTCCTTGAGGTTCCTACCGTAACCCGT',\n",
              " 'ATGTCCTTGAGGTTCCTACCGTAACCCGTC',\n",
              " 'ATGTCCTTGAGGTTCCTACCGTAACCCGTCG',\n",
              " 'ATGTCCTTGAGGTTCCTACCGTAACCCGTCGC',\n",
              " 'ATGTCCTTGAGGTTCCTACCGTAACCCGTCGCC',\n",
              " 'ATGTCCTTGAGGTTCCTACCGTAACCCGTCGCCG',\n",
              " 'ATGTCCTTGAGGTTCCTACCGTAACCCGTCGCCGT',\n",
              " 'ATGTCCTTGAGGTTCCTACCGTAACCCGTCGCCGTT',\n",
              " 'ATGTCCTTGAGGTTCCTACCGTAACCCGTCGCCGTTT',\n",
              " 'ATGTCCTTGAGGTTCCTACCGTAACCCGTCGCCGTTTG',\n",
              " 'ATGTCCTTGAGGTTCCTACCGTAACCCGTCGCCGTTTGA',\n",
              " 'ATGTCCTTGAGGTTCCTACCGTAACCCGTCGCCGTTTGAC',\n",
              " 'ATGTCCTTGAGGTTCCTACCGTAACCCGTCGCCGTTTGACA',\n",
              " 'ATGTCCTTGAGGTTCCTACCGTAACCCGTCGCCGTTTGACAA',\n",
              " 'TGTCCTTGAGGTTCCTACC',\n",
              " 'TGTCCTTGAGGTTCCTACCG',\n",
              " 'TGTCCTTGAGGTTCCTACCGT',\n",
              " 'TGTCCTTGAGGTTCCTACCGTA',\n",
              " 'TGTCCTTGAGGTTCCTACCGTAA',\n",
              " 'TGTCCTTGAGGTTCCTACCGTAAC',\n",
              " 'TGTCCTTGAGGTTCCTACCGTAACC',\n",
              " 'TGTCCTTGAGGTTCCTACCGTAACCC',\n",
              " 'TGTCCTTGAGGTTCCTACCGTAACCCG',\n",
              " 'TGTCCTTGAGGTTCCTACCGTAACCCGT',\n",
              " 'TGTCCTTGAGGTTCCTACCGTAACCCGTC',\n",
              " 'TGTCCTTGAGGTTCCTACCGTAACCCGTCG',\n",
              " 'TGTCCTTGAGGTTCCTACCGTAACCCGTCGC',\n",
              " 'TGTCCTTGAGGTTCCTACCGTAACCCGTCGCC',\n",
              " 'TGTCCTTGAGGTTCCTACCGTAACCCGTCGCCG',\n",
              " 'TGTCCTTGAGGTTCCTACCGTAACCCGTCGCCGT',\n",
              " 'TGTCCTTGAGGTTCCTACCGTAACCCGTCGCCGTT',\n",
              " 'TGTCCTTGAGGTTCCTACCGTAACCCGTCGCCGTTT',\n",
              " 'TGTCCTTGAGGTTCCTACCGTAACCCGTCGCCGTTTG',\n",
              " 'TGTCCTTGAGGTTCCTACCGTAACCCGTCGCCGTTTGA',\n",
              " 'TGTCCTTGAGGTTCCTACCGTAACCCGTCGCCGTTTGAC',\n",
              " 'TGTCCTTGAGGTTCCTACCGTAACCCGTCGCCGTTTGACA',\n",
              " 'TGTCCTTGAGGTTCCTACCGTAACCCGTCGCCGTTTGACAA',\n",
              " 'GTCCTTGAGGTTCCTACC',\n",
              " 'GTCCTTGAGGTTCCTACCG',\n",
              " 'GTCCTTGAGGTTCCTACCGT',\n",
              " 'GTCCTTGAGGTTCCTACCGTA',\n",
              " 'GTCCTTGAGGTTCCTACCGTAA',\n",
              " 'GTCCTTGAGGTTCCTACCGTAAC',\n",
              " 'GTCCTTGAGGTTCCTACCGTAACC',\n",
              " 'GTCCTTGAGGTTCCTACCGTAACCC',\n",
              " 'GTCCTTGAGGTTCCTACCGTAACCCG',\n",
              " 'GTCCTTGAGGTTCCTACCGTAACCCGT',\n",
              " 'GTCCTTGAGGTTCCTACCGTAACCCGTC',\n",
              " 'GTCCTTGAGGTTCCTACCGTAACCCGTCG',\n",
              " 'GTCCTTGAGGTTCCTACCGTAACCCGTCGC',\n",
              " 'GTCCTTGAGGTTCCTACCGTAACCCGTCGCC',\n",
              " 'GTCCTTGAGGTTCCTACCGTAACCCGTCGCCG',\n",
              " 'GTCCTTGAGGTTCCTACCGTAACCCGTCGCCGT',\n",
              " 'GTCCTTGAGGTTCCTACCGTAACCCGTCGCCGTT',\n",
              " 'GTCCTTGAGGTTCCTACCGTAACCCGTCGCCGTTT',\n",
              " 'GTCCTTGAGGTTCCTACCGTAACCCGTCGCCGTTTG',\n",
              " 'GTCCTTGAGGTTCCTACCGTAACCCGTCGCCGTTTGA',\n",
              " 'GTCCTTGAGGTTCCTACCGTAACCCGTCGCCGTTTGAC',\n",
              " 'GTCCTTGAGGTTCCTACCGTAACCCGTCGCCGTTTGACA',\n",
              " 'GTCCTTGAGGTTCCTACCGTAACCCGTCGCCGTTTGACAA',\n",
              " 'TCCTTGAGGTTCCTACC',\n",
              " 'TCCTTGAGGTTCCTACCG',\n",
              " 'TCCTTGAGGTTCCTACCGT',\n",
              " 'TCCTTGAGGTTCCTACCGTA',\n",
              " 'TCCTTGAGGTTCCTACCGTAA',\n",
              " 'TCCTTGAGGTTCCTACCGTAAC',\n",
              " 'TCCTTGAGGTTCCTACCGTAACC',\n",
              " 'TCCTTGAGGTTCCTACCGTAACCC',\n",
              " 'TCCTTGAGGTTCCTACCGTAACCCG',\n",
              " 'TCCTTGAGGTTCCTACCGTAACCCGT',\n",
              " 'TCCTTGAGGTTCCTACCGTAACCCGTC',\n",
              " 'TCCTTGAGGTTCCTACCGTAACCCGTCG',\n",
              " 'TCCTTGAGGTTCCTACCGTAACCCGTCGC',\n",
              " 'TCCTTGAGGTTCCTACCGTAACCCGTCGCC',\n",
              " 'TCCTTGAGGTTCCTACCGTAACCCGTCGCCG',\n",
              " 'TCCTTGAGGTTCCTACCGTAACCCGTCGCCGT',\n",
              " 'TCCTTGAGGTTCCTACCGTAACCCGTCGCCGTT',\n",
              " 'TCCTTGAGGTTCCTACCGTAACCCGTCGCCGTTT',\n",
              " 'TCCTTGAGGTTCCTACCGTAACCCGTCGCCGTTTG',\n",
              " 'TCCTTGAGGTTCCTACCGTAACCCGTCGCCGTTTGA',\n",
              " 'TCCTTGAGGTTCCTACCGTAACCCGTCGCCGTTTGAC',\n",
              " 'TCCTTGAGGTTCCTACCGTAACCCGTCGCCGTTTGACA',\n",
              " 'TCCTTGAGGTTCCTACCGTAACCCGTCGCCGTTTGACAA',\n",
              " 'CCTTGAGGTTCCTACC',\n",
              " 'CCTTGAGGTTCCTACCG',\n",
              " 'CCTTGAGGTTCCTACCGT',\n",
              " 'CCTTGAGGTTCCTACCGTA',\n",
              " 'CCTTGAGGTTCCTACCGTAA',\n",
              " 'CCTTGAGGTTCCTACCGTAAC',\n",
              " 'CCTTGAGGTTCCTACCGTAACC',\n",
              " 'CCTTGAGGTTCCTACCGTAACCC',\n",
              " 'CCTTGAGGTTCCTACCGTAACCCG',\n",
              " 'CCTTGAGGTTCCTACCGTAACCCGT',\n",
              " 'CCTTGAGGTTCCTACCGTAACCCGTC',\n",
              " 'CCTTGAGGTTCCTACCGTAACCCGTCG',\n",
              " 'CCTTGAGGTTCCTACCGTAACCCGTCGC',\n",
              " 'CCTTGAGGTTCCTACCGTAACCCGTCGCC',\n",
              " 'CCTTGAGGTTCCTACCGTAACCCGTCGCCG',\n",
              " 'CCTTGAGGTTCCTACCGTAACCCGTCGCCGT',\n",
              " 'CCTTGAGGTTCCTACCGTAACCCGTCGCCGTT',\n",
              " 'CCTTGAGGTTCCTACCGTAACCCGTCGCCGTTT',\n",
              " 'CCTTGAGGTTCCTACCGTAACCCGTCGCCGTTTG',\n",
              " 'CCTTGAGGTTCCTACCGTAACCCGTCGCCGTTTGA',\n",
              " 'CCTTGAGGTTCCTACCGTAACCCGTCGCCGTTTGAC',\n",
              " 'CCTTGAGGTTCCTACCGTAACCCGTCGCCGTTTGACA',\n",
              " 'CCTTGAGGTTCCTACCGTAACCCGTCGCCGTTTGACAA',\n",
              " 'CTTGAGGTTCCTACC',\n",
              " 'CTTGAGGTTCCTACCG',\n",
              " 'CTTGAGGTTCCTACCGT',\n",
              " 'CTTGAGGTTCCTACCGTA',\n",
              " 'CTTGAGGTTCCTACCGTAA',\n",
              " 'CTTGAGGTTCCTACCGTAAC',\n",
              " 'CTTGAGGTTCCTACCGTAACC',\n",
              " 'CTTGAGGTTCCTACCGTAACCC',\n",
              " 'CTTGAGGTTCCTACCGTAACCCG',\n",
              " 'CTTGAGGTTCCTACCGTAACCCGT',\n",
              " 'CTTGAGGTTCCTACCGTAACCCGTC',\n",
              " 'CTTGAGGTTCCTACCGTAACCCGTCG',\n",
              " 'CTTGAGGTTCCTACCGTAACCCGTCGC',\n",
              " 'CTTGAGGTTCCTACCGTAACCCGTCGCC',\n",
              " 'CTTGAGGTTCCTACCGTAACCCGTCGCCG',\n",
              " 'CTTGAGGTTCCTACCGTAACCCGTCGCCGT',\n",
              " 'CTTGAGGTTCCTACCGTAACCCGTCGCCGTT',\n",
              " 'CTTGAGGTTCCTACCGTAACCCGTCGCCGTTT',\n",
              " 'CTTGAGGTTCCTACCGTAACCCGTCGCCGTTTG',\n",
              " 'CTTGAGGTTCCTACCGTAACCCGTCGCCGTTTGA',\n",
              " 'CTTGAGGTTCCTACCGTAACCCGTCGCCGTTTGAC',\n",
              " 'CTTGAGGTTCCTACCGTAACCCGTCGCCGTTTGACA',\n",
              " 'CTTGAGGTTCCTACCGTAACCCGTCGCCGTTTGACAA']"
            ]
          },
          "metadata": {
            "tags": []
          },
          "execution_count": 13
        }
      ]
    },
    {
      "cell_type": "code",
      "metadata": {
        "colab": {
          "base_uri": "https://localhost:8080/",
          "height": 419
        },
        "id": "fCk2yqPdoE-v",
        "outputId": "a0aa1e68-cf67-4dbb-bd05-a03a4d75df12"
      },
      "source": [
        "# Convert list to dataframe column\n",
        "df = pd.DataFrame({'col':multipl_list, 'PBS length':multipl_list2, 'RT template length':multipl_list3})\n",
        "\n",
        "# Reindex starting from 1\n",
        "df.index = np.arange(1, len(df) + 1)\n",
        "\n",
        "# Rename column\n",
        "df['3_extension'] = df['col']\n",
        "del df['col']\n",
        "\n",
        "# Index to column\n",
        "df['Names'] = df.index\n",
        "\n",
        "# Add prefix to names column\n",
        "df['Names'] = 'DMD' + ' ' + df['Names'].astype(str)\n",
        "\n",
        "# Reverse orientation from 3'-5' to 5'-3'\n",
        "df[\"3' extension\"] = df['3_extension'].str[::-1]\n",
        "\n",
        "# Delete old orientation column\n",
        "del df['3_extension']\n",
        "\n",
        "df"
      ],
      "execution_count": null,
      "outputs": [
        {
          "output_type": "execute_result",
          "data": {
            "text/html": [
              "<div>\n",
              "<style scoped>\n",
              "    .dataframe tbody tr th:only-of-type {\n",
              "        vertical-align: middle;\n",
              "    }\n",
              "\n",
              "    .dataframe tbody tr th {\n",
              "        vertical-align: top;\n",
              "    }\n",
              "\n",
              "    .dataframe thead th {\n",
              "        text-align: right;\n",
              "    }\n",
              "</style>\n",
              "<table border=\"1\" class=\"dataframe\">\n",
              "  <thead>\n",
              "    <tr style=\"text-align: right;\">\n",
              "      <th></th>\n",
              "      <th>PBS length</th>\n",
              "      <th>RT template length</th>\n",
              "      <th>Names</th>\n",
              "      <th>3' extension</th>\n",
              "    </tr>\n",
              "  </thead>\n",
              "  <tbody>\n",
              "    <tr>\n",
              "      <th>1</th>\n",
              "      <td>15</td>\n",
              "      <td>7</td>\n",
              "      <td>DMD 1</td>\n",
              "      <td>CCATCCTTGGAGTTCCTGTAAG</td>\n",
              "    </tr>\n",
              "    <tr>\n",
              "      <th>2</th>\n",
              "      <td>15</td>\n",
              "      <td>8</td>\n",
              "      <td>DMD 2</td>\n",
              "      <td>GCCATCCTTGGAGTTCCTGTAAG</td>\n",
              "    </tr>\n",
              "    <tr>\n",
              "      <th>3</th>\n",
              "      <td>15</td>\n",
              "      <td>9</td>\n",
              "      <td>DMD 3</td>\n",
              "      <td>TGCCATCCTTGGAGTTCCTGTAAG</td>\n",
              "    </tr>\n",
              "    <tr>\n",
              "      <th>4</th>\n",
              "      <td>15</td>\n",
              "      <td>10</td>\n",
              "      <td>DMD 4</td>\n",
              "      <td>ATGCCATCCTTGGAGTTCCTGTAAG</td>\n",
              "    </tr>\n",
              "    <tr>\n",
              "      <th>5</th>\n",
              "      <td>15</td>\n",
              "      <td>11</td>\n",
              "      <td>DMD 5</td>\n",
              "      <td>AATGCCATCCTTGGAGTTCCTGTAAG</td>\n",
              "    </tr>\n",
              "    <tr>\n",
              "      <th>...</th>\n",
              "      <td>...</td>\n",
              "      <td>...</td>\n",
              "      <td>...</td>\n",
              "      <td>...</td>\n",
              "    </tr>\n",
              "    <tr>\n",
              "      <th>180</th>\n",
              "      <td>8</td>\n",
              "      <td>25</td>\n",
              "      <td>DMD 180</td>\n",
              "      <td>GTTTGCCGCTGCCCAATGCCATCCTTGGAGTTC</td>\n",
              "    </tr>\n",
              "    <tr>\n",
              "      <th>181</th>\n",
              "      <td>8</td>\n",
              "      <td>26</td>\n",
              "      <td>DMD 181</td>\n",
              "      <td>AGTTTGCCGCTGCCCAATGCCATCCTTGGAGTTC</td>\n",
              "    </tr>\n",
              "    <tr>\n",
              "      <th>182</th>\n",
              "      <td>8</td>\n",
              "      <td>27</td>\n",
              "      <td>DMD 182</td>\n",
              "      <td>CAGTTTGCCGCTGCCCAATGCCATCCTTGGAGTTC</td>\n",
              "    </tr>\n",
              "    <tr>\n",
              "      <th>183</th>\n",
              "      <td>8</td>\n",
              "      <td>28</td>\n",
              "      <td>DMD 183</td>\n",
              "      <td>ACAGTTTGCCGCTGCCCAATGCCATCCTTGGAGTTC</td>\n",
              "    </tr>\n",
              "    <tr>\n",
              "      <th>184</th>\n",
              "      <td>8</td>\n",
              "      <td>29</td>\n",
              "      <td>DMD 184</td>\n",
              "      <td>AACAGTTTGCCGCTGCCCAATGCCATCCTTGGAGTTC</td>\n",
              "    </tr>\n",
              "  </tbody>\n",
              "</table>\n",
              "<p>184 rows × 4 columns</p>\n",
              "</div>"
            ],
            "text/plain": [
              "     PBS length  ...                           3' extension\n",
              "1            15  ...                 CCATCCTTGGAGTTCCTGTAAG\n",
              "2            15  ...                GCCATCCTTGGAGTTCCTGTAAG\n",
              "3            15  ...               TGCCATCCTTGGAGTTCCTGTAAG\n",
              "4            15  ...              ATGCCATCCTTGGAGTTCCTGTAAG\n",
              "5            15  ...             AATGCCATCCTTGGAGTTCCTGTAAG\n",
              "..          ...  ...                                    ...\n",
              "180           8  ...      GTTTGCCGCTGCCCAATGCCATCCTTGGAGTTC\n",
              "181           8  ...     AGTTTGCCGCTGCCCAATGCCATCCTTGGAGTTC\n",
              "182           8  ...    CAGTTTGCCGCTGCCCAATGCCATCCTTGGAGTTC\n",
              "183           8  ...   ACAGTTTGCCGCTGCCCAATGCCATCCTTGGAGTTC\n",
              "184           8  ...  AACAGTTTGCCGCTGCCCAATGCCATCCTTGGAGTTC\n",
              "\n",
              "[184 rows x 4 columns]"
            ]
          },
          "metadata": {
            "tags": []
          },
          "execution_count": 14
        }
      ]
    },
    {
      "cell_type": "code",
      "metadata": {
        "id": "XJgj5BgOH7oV"
      },
      "source": [
        "# Delete any 3' extension that starts with C\n",
        "df = df[~df[\"3' extension\"].astype(str).str.startswith('C')].reindex()"
      ],
      "execution_count": null,
      "outputs": []
    },
    {
      "cell_type": "code",
      "metadata": {
        "colab": {
          "base_uri": "https://localhost:8080/",
          "height": 419
        },
        "id": "hI0bjtn0KWyT",
        "outputId": "7c04917f-993e-497a-819d-e9039d68366a"
      },
      "source": [
        "df.reset_index(drop=True)"
      ],
      "execution_count": null,
      "outputs": [
        {
          "output_type": "execute_result",
          "data": {
            "text/html": [
              "<div>\n",
              "<style scoped>\n",
              "    .dataframe tbody tr th:only-of-type {\n",
              "        vertical-align: middle;\n",
              "    }\n",
              "\n",
              "    .dataframe tbody tr th {\n",
              "        vertical-align: top;\n",
              "    }\n",
              "\n",
              "    .dataframe thead th {\n",
              "        text-align: right;\n",
              "    }\n",
              "</style>\n",
              "<table border=\"1\" class=\"dataframe\">\n",
              "  <thead>\n",
              "    <tr style=\"text-align: right;\">\n",
              "      <th></th>\n",
              "      <th>PBS length</th>\n",
              "      <th>RT template length</th>\n",
              "      <th>Names</th>\n",
              "      <th>3' extension</th>\n",
              "    </tr>\n",
              "  </thead>\n",
              "  <tbody>\n",
              "    <tr>\n",
              "      <th>0</th>\n",
              "      <td>15</td>\n",
              "      <td>8</td>\n",
              "      <td>DMD 2</td>\n",
              "      <td>GCCATCCTTGGAGTTCCTGTAAG</td>\n",
              "    </tr>\n",
              "    <tr>\n",
              "      <th>1</th>\n",
              "      <td>15</td>\n",
              "      <td>9</td>\n",
              "      <td>DMD 3</td>\n",
              "      <td>TGCCATCCTTGGAGTTCCTGTAAG</td>\n",
              "    </tr>\n",
              "    <tr>\n",
              "      <th>2</th>\n",
              "      <td>15</td>\n",
              "      <td>10</td>\n",
              "      <td>DMD 4</td>\n",
              "      <td>ATGCCATCCTTGGAGTTCCTGTAAG</td>\n",
              "    </tr>\n",
              "    <tr>\n",
              "      <th>3</th>\n",
              "      <td>15</td>\n",
              "      <td>11</td>\n",
              "      <td>DMD 5</td>\n",
              "      <td>AATGCCATCCTTGGAGTTCCTGTAAG</td>\n",
              "    </tr>\n",
              "    <tr>\n",
              "      <th>4</th>\n",
              "      <td>15</td>\n",
              "      <td>15</td>\n",
              "      <td>DMD 9</td>\n",
              "      <td>GCCCAATGCCATCCTTGGAGTTCCTGTAAG</td>\n",
              "    </tr>\n",
              "    <tr>\n",
              "      <th>...</th>\n",
              "      <td>...</td>\n",
              "      <td>...</td>\n",
              "      <td>...</td>\n",
              "      <td>...</td>\n",
              "    </tr>\n",
              "    <tr>\n",
              "      <th>115</th>\n",
              "      <td>8</td>\n",
              "      <td>24</td>\n",
              "      <td>DMD 179</td>\n",
              "      <td>TTTGCCGCTGCCCAATGCCATCCTTGGAGTTC</td>\n",
              "    </tr>\n",
              "    <tr>\n",
              "      <th>116</th>\n",
              "      <td>8</td>\n",
              "      <td>25</td>\n",
              "      <td>DMD 180</td>\n",
              "      <td>GTTTGCCGCTGCCCAATGCCATCCTTGGAGTTC</td>\n",
              "    </tr>\n",
              "    <tr>\n",
              "      <th>117</th>\n",
              "      <td>8</td>\n",
              "      <td>26</td>\n",
              "      <td>DMD 181</td>\n",
              "      <td>AGTTTGCCGCTGCCCAATGCCATCCTTGGAGTTC</td>\n",
              "    </tr>\n",
              "    <tr>\n",
              "      <th>118</th>\n",
              "      <td>8</td>\n",
              "      <td>28</td>\n",
              "      <td>DMD 183</td>\n",
              "      <td>ACAGTTTGCCGCTGCCCAATGCCATCCTTGGAGTTC</td>\n",
              "    </tr>\n",
              "    <tr>\n",
              "      <th>119</th>\n",
              "      <td>8</td>\n",
              "      <td>29</td>\n",
              "      <td>DMD 184</td>\n",
              "      <td>AACAGTTTGCCGCTGCCCAATGCCATCCTTGGAGTTC</td>\n",
              "    </tr>\n",
              "  </tbody>\n",
              "</table>\n",
              "<p>120 rows × 4 columns</p>\n",
              "</div>"
            ],
            "text/plain": [
              "     PBS length  ...                           3' extension\n",
              "0            15  ...                GCCATCCTTGGAGTTCCTGTAAG\n",
              "1            15  ...               TGCCATCCTTGGAGTTCCTGTAAG\n",
              "2            15  ...              ATGCCATCCTTGGAGTTCCTGTAAG\n",
              "3            15  ...             AATGCCATCCTTGGAGTTCCTGTAAG\n",
              "4            15  ...         GCCCAATGCCATCCTTGGAGTTCCTGTAAG\n",
              "..          ...  ...                                    ...\n",
              "115           8  ...       TTTGCCGCTGCCCAATGCCATCCTTGGAGTTC\n",
              "116           8  ...      GTTTGCCGCTGCCCAATGCCATCCTTGGAGTTC\n",
              "117           8  ...     AGTTTGCCGCTGCCCAATGCCATCCTTGGAGTTC\n",
              "118           8  ...   ACAGTTTGCCGCTGCCCAATGCCATCCTTGGAGTTC\n",
              "119           8  ...  AACAGTTTGCCGCTGCCCAATGCCATCCTTGGAGTTC\n",
              "\n",
              "[120 rows x 4 columns]"
            ]
          },
          "metadata": {
            "tags": []
          },
          "execution_count": 16
        }
      ]
    },
    {
      "cell_type": "code",
      "metadata": {
        "id": "W4oxs0dYKXoe"
      },
      "source": [
        "# Export to excel\n",
        "df.to_excel('3_extension_DMD_exon44_insertion.xls')"
      ],
      "execution_count": null,
      "outputs": []
    }
  ]
}